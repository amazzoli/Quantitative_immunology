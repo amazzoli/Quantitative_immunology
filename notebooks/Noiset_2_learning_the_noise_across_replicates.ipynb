{
  "nbformat": 4,
  "nbformat_minor": 0,
  "metadata": {
    "colab": {
      "provenance": [],
      "include_colab_link": true
    },
    "kernelspec": {
      "name": "python3",
      "display_name": "Python 3"
    },
    "language_info": {
      "name": "python"
    }
  },
  "cells": [
    {
      "cell_type": "markdown",
      "metadata": {
        "id": "view-in-github",
        "colab_type": "text"
      },
      "source": [
        "<a href=\"https://colab.research.google.com/github/amazzoli/Quantitative_immunology/blob/main/Noiset_2_learning_the_noise_across_replicates.ipynb\" target=\"_parent\"><img src=\"https://colab.research.google.com/assets/colab-badge.svg\" alt=\"Open In Colab\"/></a>"
      ]
    },
    {
      "cell_type": "markdown",
      "source": [
        "![noiset_small.png](data:image/png;base64,iVBORw0KGgoAAAANSUhEUgAAAfQAAACyCAYAAAC0oD1PAAAACXBIWXMAAA7DAAAOwwHHb6hkAAAAGXRFWHRTb2Z0d2FyZQB3d3cuaW5rc2NhcGUub3Jnm+48GgAAIABJREFUeJzt3Xl8VOW5wPHfc+ZMEgj75r6LogECLtW6FW21ei0ITMaKFuu1Su11abXWXTgode9mba3WtSoqCYvSFq96K+5aQSAs7oq4o4CyJpmZ89w/3qRsmS05s4X3+/nMJ8CcOeedkMxz3u15wLIsy7Isy7Isy7Isy7Isy7KsAEihG2BZlmVZRcgFugEVzY9yoAloBDYAa5r/XjRsQLcsy7K2ZRXArsAg4EhgALAvsAvgNB+zaazUTf78CfAusAR4FXgN+AhYm9smt84GdMuyLGtb1B84Ezge2Avo2soxcWA18DWmR14JdAd6AOFWjl8PLANmAQ8BcwNvdQo2oFuWZVnbip7AicC5wMFAqPnfvwLeA54F5gMfYALzZ83Pb9orb4mbvYA9Mb37auAIYH+gLxt79guAe4BHgOWBvxvLsizL2sb0AH4FvAUkMAG6CXgMGAPshpkzbw8H2Blzw/AIZthdmx8fANcD/dp5DcuyLMvaJlVgAvYnmMDqA+9jgvt2Ob52V8xIQH3zdRUzEnAB0DnH17Ysy7KsDmMP4AkghgmmnwA/wwyJ51NX4HTgDTbeVDwLDM1zOyzLsiyrpDjAacCXmAC6BrgFM39eSOXABDa2awNwDlBWyEZZlmVZVjHqBNyMmR9X4HXg8IK2aHOCWTj3DKZ9MeABzOp5y7Isy7IwC9/+ycbe7x8xc+jFqAy4HFiHae9LmCkCy7Isy9qm7cjGXu8G4BTav2o9H04EvsC0+w1MQhvLsizL2ib1AxaxceHbdwvbnKztD7yDaf8yTMY6y7Isy9qmdAeexgTDL4ADCtucNuuP2d6mwJvADoVtjmVZlmXlTxkwExMEPwO+XdjmtNuumLzwCrxC/rfXWZZlWVZBXMrGOfPvFbgtQRnKxiQ492T7YpvL3bKsbc7YsWMrGxoaegDdE4lEHxHppaqdRaRCRBwgISLLgc+Bb1zX/Xrfffdd6XmeX9iWt100Gu0O9K2trX230G0JwPeBaZhe+vnAXwrUjm7AT4B9AjrfS8AqzHtzgbPIIrDbgG5ZVoc3fPjwzhUVFYer6nGqOgjYVUR6YbY6lad4aUtiklXAUuBVVZ2rqs9PmzbtsxSvKyqnnXZat8bGxkeBfUKh0CmPPvroa4VuUzt0wxQ92R0T+E7F1CgvhBsx+9wfCuBcYczNyXXAYOAXmIIuwzAr4NOyAd2yrA4nGo2GfN/vj+nJHSciwzBJR4L6zIuLyGJVner7/j/69Omz8M4774wFdO6gSSQS+YuIjGv++9fAiXV1dS8VslFtJMBvgAuBj4EhwIoCtuctTAnWFwM63/9gFvZdiElbexhmncBJbF7xrVU2oFuW1WFEo9GQqn5XVc9rDuKt1bgOWgPwkqreu2LFikdmz54dz8M1MxaJRP5LRB5nY6lQgE9FZFRtbe2/C9WuNhoKzAa6YIa67ytgWwQz3/0DTEa6IPwUOARzk3A48Fzzv58APJlJgyzLskra2LFjK9evX3+iiFyG6bUV6rPtXRH5bTgcfmTy5MmrCtSG/xgzZkyfWCz2PDCglac/FZEjamtrP8h3u9phFnA8JriNYOuh9n9jVou39aaqK3AbcGUGx+Y6oAPcCZwNzAO+g5n+Sdkgy7KskhWJRA4Rkd8Ch2IKcxSDJSLy26qqqnsLuZAuEolcJiLXkfyz/gUR+UFtbe03+WxXGx2ICdhO859bC6KvYEqjvt/Ga/wSU9r0nAyOzUdA3wuzUK43Zq3AlFQvLpYffsuyrKxEo9GdIpHIvSLyPGausZg+z/ZX1bsWLVr0fCQSOaQQDRg+fHhnEfkFqTtuR/i+f1O+2tQOIeAKzP/xDJIH0JYEM5+08ZGyB5yhH2JWp6dzE3BwmmPeAx7EvP9LSfMzXky/AJZlWRmJRCIjgWdF5AzM6uBidZiIPBmJRC4YNmxYXnOLl5eX1wDbpTtORM6sqakp9nSp+wHHYqqo/SHFcQL0AbZv46NLAG2tAIanOaYS07NvyuB8tzYfdwBmxXtSdsjdsqySccIJJ3Tr3LnztSJyPqX1+aUi8hjwk9ra2pW5vtiwYcPcPn36PAMckeFLFsbj8aNmzJjxdS7b1Q6/xvTQ/4XZuZBsjvxpzHv+JsUxyXRrfs1vgWszOD7ZkHsfzJz3A5hqaq3ZDpNzvmqLf99yyL3FfcCPgcnAj0iy4r0UqtFYlmUxatSo3q7rPqSqx1FawRxAVHUksF00Gj0t1wvRtttuu/6JRKI6i5cMDIVCp2N6g8XGwVRPAzOHnCpQ/xBTde1SYGGW17kRs7/9tmwbuIWvgEcxW9D+DGy5hqI7JnCPI3OPAGMxPfTtMalut2KH3C3LKnqRSKR/KBT6l6p+n9IL5pv6tqo+F4lEDsrlReLx+LFkt2VPRGR8NBrtlas2tcPhwJ7AekygTGUFZnh6OWafejaPdZgEQusDaPMkYA6wC+YG4armx98w1dTuIrtkNC8Bb2PKxCZNc2sDumVZRS0SiewJ/B2TPasj2FlEHs/lvLXjOG3Jbd4bs7e72Bzb/PVfmKQ4peBrIIpJTfsccDVmEdzTmOB8EZBNIqLVza8FG9AtyypFkUikPzBLRILKlV0sdgCmR6PRwCuENSfXyXTufDOq+uMRI0bkIxlPphzM/muA/ytkQ9pgFWYKw8HsJf8xpt753zDJiLL1r+avw0gySmUDumVZRSkajfYSkboOGMxbdPV9f3IkEtlyYVS7xOPxvYCebXz5gHA4fFiQ7Wmn7TG1wuPAywVuS7ZOxUwR3IbZN38wZh/9E5hphGy9gFkMtwsmec5WbEC3LKvojBgxoquqPkjHGWZvlYjsLiIzR48evUNQ5wyFQtkshtvq5SJyalBtCcDumKD+CWZPdqn4PnAzcDJmvnwDsBIYD1wGPEz2Fdq+BN7E9M5b3b9uV7lbllV0wuHwREyKz23BHo7j3H7GGWecct9997VlKHZLe7fz9cdjOnvFUCp2b0wA+wITEDMhmG1f2f78DAWCqkI3EbMo8a4kz++AyWh3dpbnfROzJ79/a0/agG5ZVlGpqakZjSkdWcqr2bN10po1a36J2W/dLqq6l0i7vnX9IpFI9dSpU+e1ty0BaMlB/w7Z3WCUY6rrZSOU/pCM7AH0w6QiXpvimAcwP+Npq6ht4u3mr63l5rcB3bKs4jF69OjdgN+xbQVzAETkimg0+o/a2tr57TxVvwDaMgSTHKXQ9mj++m4Wr1HgdmBultdq9/etWX/gA2BJimNWYwrL9MEMpWeq5fuwZ2tP2oBuWVaxEMdxbibJgp9tQGdVvXXs2LEnPPDAA8kyjKUlIkEEpr9GIpE/iMg6YIOqrhOR1aq6VESWiki97/tvlJeXfzR58uSvya6XmY3uzV/bU/O8J9AXszc9H9ve1mKyzoWARJJjypof2U6xtAT/zrQyLWIDumVZRSESiRwHRArdjgI7fMOGDWNIPveajoMJFO0VEpGuNCenaRnCF5HDAFQVEYk1NjYuq6mpWaSqT/u+P3v69OmLArj2pjo3f21rspejMNna+mCC+Wlk33PPVj2wE6b0abKA3QuzJiDbYjCrm7+Gmh+bBXS7yt2yrIKLRqNdHMe5FvuZ5ACTRo4c2aMtL45Go6Kq+foehkVkL+AkEfljKBSaX1NT80okEhkXjUb7BnSNyuavbRmxEOAOzF7wXTFTOXdtcs5cWYvZrvZ9zJz3G1s8lmHyv/+pjedWTGd8qzn/bf2Xx7KsIuD7fkRVDyx0O4rEdq7rnt+WF3755ZfiOAX7WA8Bh4jIHb7vvxyJRC487rjj2hs8W4by27Kmogsm+90TmHSwD2G2wHVP9aKA3AR8DuwM3I3Zi34bUIspvvIvTKGVbG06hL/V98QGdMuyCioajZaJyJXYz6P/EJFzRo8evXO2r1uzZo2oasEXFIrIXiLym65du74xevTon0Sj0bZOA7SsEm9LWdO1mP3rZwB7Ab/E9JjbMx9fgRlOP6j5vMna9Rmmh16FGeL/GXA58CpmqH0MbZtG6IIJ5AlamZ+3v0CWZRWUqo4myb7abZWq7ug4zg+zfV2/fv0cgtt+1V4iIrs4jnMn8GhzTv5stQy1t6Wnr5j96CdiguoJwHmY1eWZCAP7Y9Z1TACmAq9g9qo/CIwm9Tq0FZggXoYZ7p+IucGYSNvXBLTcQNiAbllWcRk3blwYU2bS2oKq/iwajWYVnPv06eNSfIudHVUdKSIv1dTUDCO74fOWVem923jtecBhmFXuh5O+pOoI4F5M0F4GzMDcBPTCDN3/DBPkq4CTSL5qXoAa4B+Y4L8z5qb1TUx512+18f20fB8asQHdsqxismLFiv2AAwrdjmIkInslEomscn6vWbMmrKrFFtBbbKeq06PR6JgsXtNSN7492e8SmMpmmwbAfTBD8OPYPO99V8wq9SswRVAOAo4Gfg78FZNP/uvmc6XaqncIZjHerzAL81xMEB4P3I+ZP2/L9syW78PS1p4s1v94y7K2ASLyQ3K/6rhkOY7zY0z5zYyEw+GwqoZz2KR2EZEeqnp/TU2NO3DgwAc9z0uX/e2d5q97kXpfdzaqgVmYhWl9MSNELdXpHsIE7vYIAb/HDNnf3MrzgpmLnwScnuW5W/K/v9XakzagW5ZVSMML3YAid/SoUaN6T58+PaOFXIlEotxxnPJcN6qdXODPixYt2oBZ9Z3Ke5i91v0ww97ZZFVL5jxML/kKTGB9CjO/HpQDML3+w0k+V74LUNd83Koszr1f89dWM+fZIXfLsgqiudb5oEK3o8jtFgqFMv4ehUKhCkyQKnaVwD3RaHRImuM+wBRm2Ykk6U7boAKT0EUxQ/HrMLnfg3IUMBuzov7jJI9XMe8tm+mmnsDA5j/Pae0AG9AtyyqUYYVuQAlwVPWoLI7vRGkEdIAuqvrXNEl0vsAMu7uYYidB+CtwLnAtJtFMf8wQfFCmATemOcbHzMtnky//cMxw/mckGXK3Ad2yrEIZVugGlAIR+U6mx6pqV4LtbebaQaFQ6NIUz/tsXENwTEDXfA5Tp7wXJr/7MbRvb/qWPgDez+C4uWReEhY2vv9nSLIgzwZ0y7Ly7owzzqgABhe6HSXiIM/zMvqsFpE+uW5M0ETk56NGjdonxSEtvefv0rYsbzthkrzstMm/vYjppV9CkhXjRaYLcFzzn59KdpAN6JZl5d3q1au3E5HtC92OEtF1/vz5e6Q/DFR1h1w3Jgc6ua57XYo99y9jgm4lZm93Nn4E/BtTZ34uEG1rI5PIpkZ7exyKqYH+BfB0soNsQLcsK+9CodB2mCFPKz1xXTdVD3ZTpRjQUdXjSb5AUoHpzX8+mcwz4QlwPWZV+8GYpDATMKVNg6CYG42BaY7Lxj60Xojmh5j3/QIm21yr7LY1y7LyrrknaTsUmcuoh07p1pKvVNWzMcPgrXkY+ClwJCbL2ssZnLNlPcF8TPD9F6ZASiUby5C21w2YBDJeAOcSTP75LVP+bo8p+wrwACkS2tiAbllWIWRaXnM1sAizqncNEFPVHs1zxXti0nAWS+7yXMpoekJEdlFNlcCsqJ18wgknXDRr1qzWcq3Pw2wF+y9MTzuTgL4ak+r1asy+89MxwT3IBXB/B14Hdg/gXAnM/vIt23cOZvfCW8A/U53ABnTLsgohWW5uBT5X1anAY127dn1h3bp1sdra2i0zhMmwYcNCPXv27OW6brWqRjBFOLKuUFYiMsllLqoa1F7tQuhTWVl5PPBYK8/FgVswCWBOwfSIM1lJ/t+Y+fNbMTeGp2NKqQbp0+ZHLuwE/ATze3ETZt98UjagW5ZVCK2lJ/0a+LXrupMfeeSRdB+QOnv27Dhm29FTwFOjR4/ewXGcn2N6cEHNkxaLnukOGDdunLty5cpSHXJvcQKtB3SAZ5sfw4DrMAve4mnOtwwYG1TjCuCXmJvUN9m4jiApO4dlWVYhbDpMngAeisVig+vq6m7JIJi3atq0aZ/V1dVdHo/HD8DMl+ZrBXLOiUjaBYQrVqzYi9LvpB153HHHJcvt7wOXYqZeIsDIvLWqMA4Czsf0zq8kgxSxNqBblpV3unGid52qnvfVV1+d8dhjj30UxKlnzJjxXlNT00jMAqgOIcOCKwNy3pDc27V79+6ppk3mAH/D3LjcBKTKMtcaAfqwsa54seoC/BbzPp/AlHFNywZ0y7LyTkQaRWQdcNrUqVPvaB4+D8zjjz++ZuDAgReq6lWkmXcsERvSHSAiHSEvfhdSl0r1Mb3V9zAr///A1tM3Pq0H7J0wQ/bzMQvMbmDzkaLOpC6Jmk8TMBXglgMXk+Fokw3olmXlne/7X/m+f0FdXd1j5OhD1PM8v3fv3jepasn31FU1bYpQVa3OR1tyTVX7pznkG+ACzE3OGDZu6WrxFVvvx3cwIzZvAt/GVPkbzuaJanYg2BXwbfVdTJ53AS4DlmT6QhvQLcvKu7Vr1z4yderUe3N9nTvvvDPWu3fvSzE9s5IlIinXFQwfPrwzZgtfR7BbBsfMwqxcDzd/PWST5/7N1nUC+mGSy4wHPsJsNbuXjWVTt8OMDMxta6MDUgXcg3lf9wD3ZfNiG9Aty8q7J598ch15Gt688847YyJyPtnVnS4qqvpequfLysp2EpEd89WeHMskH71itq49gUkg8wgbb2jqMLnbN/1+rMcspms5RoC9MKlUAX6AKWu6rB3tbq8+mPexK/Aapnee1e+IDeiWZXV4tbW1CynhRXKqujDNIVW0rXBJ0clwASBAA2Zf+b8xiV1mYHr3izDFV65n4xz5auA3mF7v9cCDmGInf8bMxV9JMNne2qov8CgmjewyTM75L7M9iQ3olmVtExKJxB8wvbRS0xCLxepTHSAiR+SrMbmkqi86jjMhi5d8CUxt/nN/YCYmH/qlwFBMzfOWcrL3AP+DWTD3Hma4vQyYgkkt+0x7299GvYFaTHnUlZg1AR+25UQSYKOsDugZD7dXwv22huRMB/ZRMwS0BIe731oYm3NyLVtm8LKsolVTU3M7JpVmKXmyrq7u+6kOqKmpeR0TwEqRisg7vu/f4TjObbW1tdlkcjsbs9K9HLNYridmjvyHzV8fxORuvxHTk1+N6bVvD4zG5Ie/G5hIYfIWDMSkpT0Ak1jpZFKUR01nsyQEC7yyUxB/l0xfLCobfPh39YTYayKFW+7/+tXud0Iu38rFuX2N1w71SqJebuAWe5QlJHyLupwlSqdN/oMPx+fUAVXubRqNXyknd6ygPu+a8MGO6rBCt6M9fJWnhnqx+Vv+u4LUTwyfDtqvEO3KB8cJTRt0dWOrc84iUttcBKSU8r8ny5wGwKhRo/pRmrXlV2DmwB+LxWJPzZgx4+vmf6/E5OlPYHqsy9k62ApmuP02TC/7IUz2uHsxxVv+iRlGPxETJH/RfM61mAVnYUxu+FGYve35jl+CWWX/V8yCvc+AH9OOYA5bZRXSc1D5TqYvVsARGusnurfolPiEQn2wuyFOUJVLc3FuwV0A8aW5OHcxmzOOcJzwnwR+grY6klOpIpcsWBIu0ymxX3WkoO74+h2QmwrdjvZwTfrTrQL6RA8ZBT9HpVR7c2klEvE3MEOqW2loaKgvLy//mMxWUheDFa7rpizI4TjOcRTfDYpitpW1PNZhgtYSVV0CzGlqalo4c+bMDc3H7gicitmGNgSoaP53xfxfPowZGn8LEwx/hpkTd5uf+29MvoHjgdsxQfyPwFHAJZhkNGWYIicJzPx7E4XZd94TM4//35gbi9cx7/vt9p643WkCVSkHuWLhG+HPIPan9p7PKg7ujqHvA6dr68HcMM+ds/BN9zGIl/S2IGvbMHPmzBWRSORNESmVgP7kI488knI+VUROzFdjAFR1hoi8raq+iHyxSdY/RCQmIl+r6leq+rnjOGtc110Tj8dXJxlKF8xe8N+weenXdZgA3Q3YD7gGk9f8d5jdCjezsWd+DhuTB63C9NwXAFdhht4PxWxXewTT4y+kkZjh/ZYRlb9g2hnI/veg8v4KynULPPeNai/+r4DOaRWUXIT5hUl9FHRS5ZeU+D5fa5uhIvI6ZltTsYur6s2k6EWOGTNmu1gsltcFcSIyva6u7m8BnCqECbSXYXqqH2KG0OuAzzHvuwKzGv18TEKYCc3/Lpge+5lsXT2tCZMF7v8wQ9qDMEPx5wFXAC9geuj54mL2wF+FGUFwMCvZL8W8h8Dm7rdc5d7mEyt0A/nr65dnXOc4MH4Oh02cDlTgIVMKIkjmaxJUjlGvI+2YkEDTkFpF5+NCNyATqvrw1KlT56U6Jh6PD8OkNM0bVQ0ilW4IE1yvxnQc7sYE7FuApZiA24hZ6FaLCernYPaTO5ih93NIXgpVMYvgjsHcBKzBBNVZwNOYleRdA3gfqYQxPfIZmBX0/9Xc3rsxUwGPEHB82exDWJBX23m+PUPl7t1zPDq38zxZcdBXyUm+Zv3Gj8XfCP68xa12Cg6Sxf+h0Pnjbv/ZGlL6HF7GfHBYHZDv+6WwdW1ZIpEYn+4g3/d/Sp53K6lqe0d2Q5jtZBMw5U89zGrzz1K8pgETCEdjVqrvBRybwbVWNF+rClPs5BvgcOAB4APMPPsxZF/kJZmumCH+m4F3MVvqTsQE8kcxq9nPpo3b0tLZLKBrZdOk5os9rKYxbVjoJCe6uBcH0roMTSPxuKI/EPQGQZ8G/bwdp1sG+ncVHQ9yzJBf80lgDS0R0ZPxUc04qYGin+9yUV6HsHKqenzs1ZDDMBEdD/qEom0q52kVJxEplgIcycRV9bwZM2YsTXVQNBodJCJH5alN/yEimSZ+aU0IuBwz3BwCJmFWp2faU30KE5jDmBuCTG9mPsHMwR/SfL0vMfu/z8P02P+NGQn4BSbAZ7oLpBfmBuFczE3Cq8DzmIIqu2JGBu7BFFo5FXiDHI4ob3anVf0r1kHsLoW7596B6yylh1vuVvswGGSSmBWC6TiCXF0/MfTa4AmJWTlq92Y8D98j/iTwpHo4S8DdANu74u4Hsj/KBWIyCSVTK/iTQyReBz6vhbg3Ydsbam8hoPXIdDV3zZkc/yDFU6UoEAPHx14DXmv5eRKXHWKJ0GDUuZLN80a3pgmzpzS3hJ7oVpWmrDREJFm97WLQpKoXTZ06dWaqgzzPcxYtWnQJhVnd3tbebAizIOwyTGfx2uZHNp8dillAdy4mjevRQDbrtt7DbGe7AZNY5gygGrOlrT9mgV4CM3KwFpMadkXznzdg5vQrMTcD/TDZ+Vw2/39YBdRjhtSnNP89L5+PrQ6dCCg/JQZ8CfGnFf5vgRe+nMwCOoDrq3P7XM/93oFe47uBtTYD4uFjPlCXQXwZ8L/zvfCJpArovj998DWJjOrNbisScec34iZGCLJl1aLNCR84ofgf89SsvNvk5+lDSHw433NGS/qA/gLEfpz71oWnYOYdAyNwj+/rg219vePIDxQuSnORdSTk7LZeQx3tJGb4ta3yOuechSbg4hUrVtyR7sDFixcPBU7KfZO2JiLbteFlIUwgvxwzMnwtpqfclkC3FjMXfjqmN92WhdhrMMG2FhOYB2F62odiEvRsh0lW0zvDcy3GVEWbDbwMvE8B1l8Ftcp9KwK7ufj3vXQhxx72u/S1fK3iMnRS4zv1nnu6olNAerZ+lC4X4bRBV/FRfltX7LSh2sv9wqv5nn4qQU+fCq8MuSbe5hSY8yeG90k7oK3Eqq9perit11BFFkwM35bhiGFr9mvrtdtLVdeLyJeq+rWIfKaqn4jIcuAb3/efnTZt2qukCXLDhg1zVfU6cr+oK5lU9cpb07Ka/QpM73cSJqC3J+DNwQT09taAV0wv/AvM0LuDGc7vhbnx2wmzda4TpnfeiOmpr8HM+X+E2QrXRJumqIOVs4De7PDK7u5E9eKXNfd0rBIy2Is/Pd8LHw96oyDDNn9Wnwg5ctnA8bEFBWmchSDLgz5nQv2iXzMiAgsm8jFKurrZWznttNO6NTQ0DBbJ2zoyX0QWqupzwKuO49THYrGPZsyY8Q1tHIbt27fvj1T1uGCbmZVsstKFgF9htmw5mCH3X9P+3utXzV8zqcyWDR8TtD9rfswJ+Pw5leuADsjPF0poASQeyv21rKAN8WL/fsbj2H6EB8aRAeqjZQ6LvyD25tHjsdu7CkhEP1MNNjCVEVpaBB2NdFSVpUL2Ab2xsfFgEdkzF43aRExVl4jI46r6aK9evd6+8847A9mFM3LkyANVtdBZDPeKRqO71tbWpis16mDmq6/G/FBdh0kQE0Tnrlfz13UBnKvDyENAp0xVbl1wVfmc6kmNb+XhelbAjvaIQ2w+raQStQpJ2rObozV+vLIpJ9tpgiZmF04m25a2dC65+9yLAVMSicT9DQ0Nz82aNasxyJNHo9FdVfURyH+ujy2IqkYxi9OScTCrysdjeunXYIbagxqpPbj5q40pm8hTMhDphev/bY4X+PCIZW2zEvhBb6dbZna6lAAhXX3wrdTU1ByHSfQRtNWqereIDBk4cODp06dPfyoHwXyQqs4i+/nrnFDVcdFoNNmNRUvPvGXR23WYofagcoV0A37Q/Od2FTPpaPLRQ2/xLZfwjRD7SR6vaVkdV9xZHuSmJYGXgjtbbiWU11xoULNQKa2TTjppF+BWgk/C8piIeHV1dfMBamtrAz2553nO4sWLT1LV2zAFTIqCiOzj+/5ETH3xTbX0zCdgeua/Jrhh9ha/wKw+/xh4MsDzlrxgAropndqApl51KvDf9V741UFe7K/SwfYtW1a+lYViH8UIJySLvcgTPHShpw+C/Gclu4Kq6GeOG2/zdrV8G0rs9QWEoiBHOshmn2Muofc3XQcwevTo3RzHmQnsG2ATlonIVcDk2traoBcdyKhRo/qGQqFvL1y48DwROZriq6aGiJxTU1MTjsfjvx4yZMgyz/PA9MzHs7FnPp5gg/kITPW0BOZGocMktApCgD10vRFkPKmH8UWxfKRBAAAgAElEQVTR6+u9cD1e7JXgrm1Z254qj88XeHoT8BPYPFmKT+sLFgUUL/7bvDQwh8yumcTfgb+nOq6mpuZIzJ71rBfQJeGLyPSmpqYLH3vssTZt1xw1alRvEdnTcZxdVHV3EdlNVVv2dgvQS0QGADtJHpfjt4EAZ7muO2LRokWLhg8f3rh8+fLjmpqaQolEYuFuu+32AtBr5syZX6U7UYaOBO7DJHZ5FJPQytpEIAFdAI3F/6ZueG+BH6U5uhfC3964jm/vd0UwJeMsa1s1eEL8ytkTuaa82+ZDyY2rc1HboHSMGDGia1lZ2fmYFdYZDctnYJ3v+z9fuXLl/bNnz854h0c0Gu0ODFHV76nq90WkClOQJNQSsIs7bqfVDzimvLycXXbZpeXfBgEzgXWRSOQfqvqnPn36/Lsdq/2PxdQ97wm8iElRbvObbCGwHrpTjrMmEft5JeGDgAEpD1b6NzWFb3vn1tgZ/S8g0MUjlrUtkZbpLus/Ro0aVe04zp+Awwhuzny5iJw5bdq0f2T6gpEjR+7uuu44YKSqDgCKvMMduBDQTUTGiMjoVatWPTlq1Kirp0+fnm3uiqMwPfKemDLNp2ASu1hbCCSgqyIK7mEeK+ddzekS0n8Kkm5F+8nrV7n1EL8+iDaUGp1CaMkSujdR0c3B76L4PUQoR1EfGhTn63JCazdUbPjm7w2s8bbxxDwKssSjMk6nHorfGfweDlqh4IrDBpXQSm1oXCuNfF19S4ms1LYCFY1Gu6jqLzGLsoLMovZBIpEYMX369EUZtCHk+/5g4DIRORGoVLXLhYByVR0eCoWOiUajv6+srJx03333ZXIjehwwGRPMnwdGYXKjW60IrodOmQNNDL029to8L/wrMQXlU79EZfzrV7svHXBt/Nmg2lHM5nh0LiM0TAkNW/iGfkthl5Ak+ip0EW3ua9GyCEH9OPHV4cbwFyPRD0d6vCgOz6z04y+bfeHBWPhrtvMb3TNx2taTKSuL35GrqRMFWXhN+ABRHVavDFNkDyG+vQjdUMLa3GT1Afy4hN1VhOXz+Z6+h88rIYdXe3SLv7rLRXZorqMbPXr0oZha2ocHfOp3VXXk9OnTF6c7MBKJ7KmqE0QkgpnntbZWqapXrl27dvcRI0b87PHHH0/V026pGb5pz9wG8xRysm1tyITY/fUTw9/CFKBPFSgqQiG5p96rOHaw1/B+LtpSaFOihPYZVDZAVM9FNaJIH1Cn5aY9xc27A/RA6SHIvsBx+Fzdi/Cyek8fFDd+18Cr+Li9uwUSDeEdCXFtNiulNxVrYhoEG9Drr6dnojE8ph7ORqlSNeUa//OD1Po7dkH6An0FGYTDyAQkVq52V8/3eMkRecx1nNn7JRo/kABviKzCGjVqVO9QKPQL4FeqWh7kuVX1I9/3T5w+ffrbqY6LRqNlvu//2HGc61TV5trIzKllZWXl0Wj0tNra2qZWnj8eeAjbM89KThLLiKBSHrtSTNWZdPZE4n9RL6974vNinsfuA6rC94uvL6P8DKQf7fueu8Ceioz34+5r9Z570zyvzaUMi9JCL3Sy3xh+wYE/AUPaUx7U3KRIT0FOVOXOuO/PXUD4r6qB70W2CqCmpmZYKBR6DpMnPNBgjqmXHU0XzEePHr0DMFlE/mKDeVYEqFHVq9i60zcMswCuF6ZnfjI2mGckZ5niBl/OKgiNBf0y3bGqcmw97sQp0eLba9kWz3hUzJ/oXurgvq5wGjmpiiTbgVzsEJ63wCs7Rb18Zf3LjXkePRZ44T/74kwWU+c4cKp0FRg8caIN6KVs3Lhx4UgkMh74J7n5WWkCzpw6deqrqQ6KRqODRGS2qkbIW9bNDudXNTU1J27y9+OBqZia6y0986BTHHdYOf0hHOw1vK/oeZLRKly5cEBVaHgu25MPc65gh164D4jKDcnLjgZqd0T/Vo97w4KLs5+388P4IoVdcPfCJXR1cCeLcA7aMW7qrNyIRqNdVqxYcZuIeLS9fGoqPjCprq4u5f72aDT6Hd/3/yEi++SgDduSCuBGz/Mc4Gg29syfA36I7ZlnJed3lTNI1PnoLRkc2klx/jrXKy+KXMVtseAq9giXhZ8CqcnrhZUwyMXS1X10zqV0z+al/rrYUqBgSX4W3Exl187ufSAnZDoU3nyDuAJYjimjuFaCzUZlFaFRo0b1VtUZInI2wadwbfHYV199dXOadhyvqjNFZJdUx1kZ2//hhx++EqjD9MxfwOTc/6ygrSpBOZ+39jz8026NT1q/0j0M5Jg0h/cJi3/XOx4j+nusznXbgmRuRPwZQFXmr9IvgNdBPhD0Mx/WCzgIlaqyq8BewIFAlwxOJqpyYriT+/A8L37qUI+vM2nBQTfyzRwvNrpMQsN9dQ5whEGqui/I9pm/j7aT9e5FICMzWNm3HvQJFZkhwhLfj62QGLGyTrixeFlXR/y+PrK3r1Q7wkA18+9Z3dxYxWvMmDF9YrHYo0C6z5D2WOH7/gWzZ89OOqI4evToox3HeYCcTKNtuzZs2NCS+/057Gr2NsvLQrT+F9A4z3N/EiLxlKapFqRw1DrCN3pe7NxS2Xs951K6u/i1ZBbM1wAzFL0zTvz1A6FBkrzPZzzcHtDFkdB3UfkZyJGYDFNJicjxjob/8owX+1Gm29sO8vgKEvdC4t5nPNzybwj37F6xXROJEcAfMjlHW8y9qmw/0Cs11UiREEN1phMKXTIw0fiBTGjte/WfRbLPgPm+dYuX9XddfYGNdZOtEjV8+PDOeQjmcRG5eNq0aR8nO2DUqFEDHcepxRQGsQLU1NQUYmPP3AbzNsrbyvKhXsPS+ePdceLIE6QKSooIjBtN6HmPxOR8ta+tdAqhBUvCNwJDMjh8nu/w0yFXx+Zs3HWeXHNA/hoSU/UOHq//LHQCyJ9Adk7aHjNs/cNeEn4WYrdn/k42u2YcGpbO98Kv5HD1mLiuXqaafHWyQkLgVy7x26uujre2taVVR3vEX7+86Svc8FpsQC9pw4YNc8vKym4ht8EcEZldWVn5SLLno9FoX1V9ABvMt6TA12xeGrUCsw8/o/UwsViMVatW2Z55APK6MnPINfFnEL1KNy2F1DpHkT8s9MIH5aVh7VC/JHSiI5yR7jhFZ7jEvjd0fOy1TIL5luSnxKq9xOM+8SOBlKtvm01ceG3ZftleJ19ev5JdFT0h2fMmmOtlgyfEbq3yyDiYt+hZzhqBte1rpVVovXv3Pqt5zjyX4r7vX54sc1lz9rffk9lN+7biS2C4iPRpbGzcWUR2b3k0NjbuICI9EolEHxHZU0SOxORe/72qvgh8rs3p82KxGO++++6LjY2Nds48AHnf+71S43/sTfggNXsLU5A+vnDPKx5HHFqk8+mLPcriONel6mUCKLwYJj62ymt/gBnqsXT+pFhEEuEXUXZLcdG+fkKvwmybKzqhUOig5kQwybzcq1v8T21NnLOHR+MCj2/a2Lx2ku3qJ4ZOyuUV4iJfHzC+Y2dYjEQiA0TkJnL/OfXPqVOnzkn2pO/7EREZk+M2lBRVfXDq1KkpdwJgbqhXAB9ghtMBpF+/fqc5jnN/ZWWlrF69+rkvv/zS9swDkveAfrRHQ/31sXNoDA8mfRGXQZ0I37bYi53Vll5arsUlPBZNO2/+oYRiY6uuDq63OOQqPqn39CxFHgM6JztOhR/WX1N2w+DxTQuDunZQ1JGDUg3nCzzczpStCvpp7hZDp3SgqjM9lxdwlTnAt3J5jUIaO3ZsZUNDwx2qmuvFZ40iknRV+ymnnLJjPB6/ngL9IBWpD8vLy69t42t/sHz58lsxo8N2zjxgBUmGMPhyVklCzySz/8gxMQn/NNdtytZijy4o56Y7zkGuqr6aD4K+/puL48+IyXOclCgh9fWCoK8dBEF2TfW84i9r7zUU+bS952gHycOjw1q/fv0ZqnpErq+jqi8B/072fCwW+wWwZ67bUUI2qOr5kydPbksQPhZTw7wnZjW7zQAXsIJlNxp8bfwV9fkl6fcPu6LctNBzD8tHuzLlExqGMDjNYXPfWNz0cC6uf3ItCY3HJqVL2iPoDxZOogj3y2rKrXgOoW7tvYIDaatjWcXn1FNP7SkiE8nD55OI3J4klzijR4/eWUTOy3UbSoiq6g0ZDLW3ZjimBGo37D7znClkukKtnhi7T+G+DI6tUOSu+ZPYKdeNypSPc3q6rGYCt51cm3YBYJtVT+ID4PFUxyiyvZ8I53SFcBulnEJR9ID2XiBEbDLwG0GnKzpD0RnAMxMmtK+gjZVbTU1NF5Cf1eRfdenSZWayJ0XkAnKTja5UPbB06dLryX5dy/HYnnleFLQgighaf1nsYu0U3hdNXfZQYT8n4d6x2IuPLvR8enOK1RNTH6WfuuH4/+a6LYre25yZLvnNmepo4P5ctyUbinyeZsw4utjrdGuVt6HNQ+9mEWLs4i0z0LVll4GVH6eccsou8Xh8XJ4uV5dsZXvz3PmpeWpHsUuo6m1NTU1XzJ07N5b+8M2chOm0bdozt8E8RwpeUGDwDawSlbNA0/4nq8qJCdyLtMDzh35n9zBSLEYDEGHeflfkvqhAoiw+VyBpMozmxnxnzri2Vy3LBRGWpDlk1zixu1/xaPfQuwi66aO957NyJx6P/wjYMQ+XUhF5LNmTsVjsB1A8I4IF9LWq/txxnF/OnDlzfZav/T7wNzYWWrE98xwripKlg72mN+d7oXMEuR+TlCApFblqgRdahJdoyzxOIEIO304bFZTn8hE8DriCLxd4Op9Ui8yU7mU7hwdDbG6u25MpR+XFBLpBUg5pyvc6Ef7f+dfwP0PGx+blr3Xto7BBJLc3c6payAV/OTFs2DAXOCtPl/vEdd2kP1Mickae2lGUVJWVK1cmOnXqdPQ///nPBWQ/zD4KuAfTM38Z0zNfGXAzrS0URUAHeHtxYuo+VaEDBb0k5YFKJcgdCzwOqfbS9ExzREm7GA7f57V8tKXZq8CIVAck4hwAFE9Ap+lNX9w5qByZ5tBD8XlmvufeURFy/zLg6obAdwwETdBnu2l8VC6vsb4DFqPp06fPt8nTinIRqX/44YeXt/ZcNBrdVVUPyUc7ipGqLp03b17PZcuWdY/H4wcD87M8xfFsHGZ/HlM1zQbzPCiagH5yLYnFVU1Xx3EPSlfERZAdwb3vFS8+Ot9JZ3QKofolske6w8or4vV5aRCArwtxUs9COE5uaoy3VZVH03xPbxLkcNJM/Qh0B7mkMZE4b4Hn/ktEHkdj/9dpBZ/0/yONeWpyNvw9vExKBltb+GG+LqSqL5Ck16mqJ1AE05EFNO39999fA0wAJgELSLG1bwsjgXsxwfwlbM88r4rqh7bKo8kJhcYBS9MfLcd0wr06123a0tIldMXMCSUn+tV+V7AiPy0CcULvpD0G3T0PTclK9YTEP8SUTMxUZ5AfqHKnEl6wvk/4mfmeO36BFz5UveL6WbayM3bs2EpMPey8EJGkmeFU9Tv5akeRGgrcBswB+gFTSZ9LPwSMY+Oc+UtADTaY51XRfQgOurrxPdCfQNqelyBy4byJoWg+2tWiyaVS0NQL4pB2J0XJRiea0s6nKrJDpvXG80UELSd2rpitLNnqgvJtQSYCz9UTXlLvuRPnXlW235w7imsBoJXe2rVr9yZ/CVzUdd1WR9CGDx/eWUSq89SOoiQiQzApW8cAHwI7A/8AHgIOBfoAYcx6p+0xi9/+D/gzptTzK5gpQLvPPM+KLqADVHvxfyF6LenmCZWQqPxhgVc2MD8tg8Z4RbkiKXO3o/pFnpoDwN4TWCOS9gao8t0/pi69Wgj7enwVL4vVKDzVjtOEgX0VGe+G9bXw5+6seV74jDeus5WxSkUoFDqANAtiA/TNww8/3OrvaCgU6gdsl6d2FKseY8aM6Qe8CxyH2W5WAZwKvIhZi/N882M+MAv4DqaXfj/wA8jfCKW1UVEGdICVGv+NZjAcK8gOoH974RJynfMZAI1rWCT12gNF1uSjLf8hoJo273m4aWVx9lwPuIIve3eLnYToFZh68W2nVKLyXQfuicXCby3w3F/PuYIdgmmplSuqenAeL5d0YaXjOH0xCVC2ZdLY2Lh385/fBr4L/BxYiBk53RU4BDgIMyS/BngWs7L9LGwwL5iiDehHezR0InaumrvEdIZ27Ry+6Rkv94v8xFVRTft9y/tCLUXTJXxwyor4/3uXi9hQPSF+vQPHgD4m7V/FLar0BrkiXBZ+ftFE9/uFzl9gJec4TupCTcFKOkUlIjtRxL8nebTpTXATcCtwMHAYJlnMac2PEzDB/RhgBulLY1s5VNQ/uPt6fKXoj8lsYcVZPQnnfA+rxkVFUgcbKcDuAUHSXdNvKoGtToO82JzB+8cjCoej3KXoZwEE970SKjPqPXeCnV8vSqKq/fN4va9SPLd93lpRxBzH6dfKPzdihtgfByY3P/4XeJMS+GzZFhR1QAcY6sVfErg8g0NdgZvmXxMemsv2xCCuEE91jKKVuWxDEunmH2Nlvcg2bWNByMkkqr3YK9UTY2cL8SGIf4qi06Bd9c0rEBlf9pk7qdiy5m3rPM8TyOu0SNJepIjkax6/2KUsnmQVp6IP6ACDiN0lcA/pM691FeX+Jb/O3YeDW9HYIKpphtQlr4tq6i+mM+mLSKzb+/ziqymfTrXH8sETErXVxKMusT1F5EegU0GXZ91zV8RHfhneOXx2jpprtcHixYt7QOpCRwFL+ruiqjZ/gGGL0pSgkgjo4uGHy2KXoBlkX1MGxWLurV6O9iU7a1mvSLqcxnnNAS1dKjK4gdDPSzmPuXj4VR4rB09oeqjai9ckiA9V8U9WuEdEM94eIxDC59cLf73Nr2QuGq7r5nvEJGkv3Ab0/yiJ0TxrcyUR0AH2u4IVgvxYMppPl8hIcS9sCeqSfR7ipAYdwGrg6zSH7bTYy9+QlU987/RHSdGnTM3GAR6fVk9ITK2eEDurk8YHIJwFvE5m/9c9NOaem+MmWkVKNXkeCZG0N+vbBBFZV+g2WNkrmYAOpogL4l+QwZ5rcVTGj8IdZv6qga28lJNJgC5Nc5gTI5y3VKsisl+6YxTeyEdb8k0E7e+xunpC7G7Wxo4CvUbIJO2qjHjpt3ZYsRhs2LAhr7tCRCRVQE93s75N8H3f3tiUoJIK6ABvLko8oqq3pjtOoRvIfa977AjBzh2ryW2czreCvGZKyqHpDnGc4inMkivVt7BuOvFrfORs0mwdVNiz07rynfPUNCuFxsbGdDkUgpZ0jU0oFPoCO9yMiLRauMYqbkVTnCVTJ9eSeGnn+ITKHuFDUdJV6trFwb2D4PdGvpLBMYdj8iHn1Dse3dbBAak2WAusDvmxhbluSzHwPHyPpgcXTHT3QsVLdpwIXSSR2A5Imwe/mOkUQnOWsFtnyjabF06UN302+PLSqD09a9aspkgkskZE8pIcihRrXGKx2NeO43yDSW+6zRKRDwvdBit7JddDBzjsd2yIq3MmGRRxEeREkO8Gef1+xF8AUs4xCRzy6uW5Tz26DnewCCmrvyn6TJVXXCvcp0QJPePhPuPh6pTgVzi7Gr8DNGl5XZPXXlMX2Sly/zyf8gVL3KfDhBcl0LmbPmgK1xS6fVlQEfkkj9erGDNmTKuLIrt16/aFqua0ln0J0FgstrTQjbCyV5IBHeBAr/FdB/0pknZ4TAh4T+WOHutBn0hz1V0rKsoPC/K6rXGQU9DU+6rVl8dy3Y5s7VtVdkMvwrN7EZ5dvyQ8e4HnekEmfany+FxgSapjHCntrFY79g5XCzJMoJNCxaYP0bxuAwvCe3m8lsRisVbrP9x3330NIvJmHttSjJbPmDHDriUoQSUb0AEGefEnVfUaCvDB7Ijeq6mG8pUQmjg3lxXO3riO3j78KPVR+rk4sfYUPskRf3/MtMThwBGIXFz2WdlewV5DkvbQRVBHZHWw18svEb/DbL1T1ZQ3X0FLU1GtLdX/OpJMphStIlTSAR2gd7f4b1R1Zr6v62jiWTHFClKQYxde6x6VqzY0Nrm/EOiesgXIPwd75HM4s22USsfxA52i0BSJZ1RZn5BQqhSgRU8TToeZ53UcJ6+LNlMVgwmFQk/nsy3FRlXT5/uwilLJB/RdLmJDJ+Jnk98hO6o81oqQbrW94/vy+7e84BfYLPbCQwT5n1THKMRx5PdB7sPPJfU1sIQ8plCPptrO97mfaMxrmdugOa72LXQbguL7/gJgbR4vedDIkSNbXUPx6KOPvgVsq/PoCVV9vtCNsNqm5AM6mCIugp5J+3J9Z61Tz9jkdPO0AkMaCf9+SjS4Oc05Hp3jcDvQK8216waPbyqZ1e0+zo5BnasP4SGQalhVFwz10iYIKmrqS2sFNEqS4zgfqmo+b8p3cxwnWUEYnzx/lhSRZaq6uNCNsNqmQwR0gEFe/HmFy8hj1Z/+F9Do419Kuj3Pwqn7VoXvmOfR7lXV9ZfRs4zwvZBu77kuF2Rie6+XXxpIQP/Ao0LhZlIshlRfpwRxrUISOk762tra2g0i8r95vGTYcZyRrT0RjUa3B/bMY1uKhqq+PH36dFvPvER1mIAuoNXE7lRT0i9vVpF4AvhbyoMUQTjTITxr3tXhg9tal3vBVeX7akV4hsLJ6Y5VkUmDvaYSW60r7S5d+dKFdFpD+PcKw5Jfho9690g83t5rFV7H6aEDiMjUPF/yvEgksll1xrFjx1aq6h9h26zI5zjO9EK3wWq7tIllPvotnepX01vSVEPShL/THI8v2YFvDvppYTItiYc/x4tdGCa8D3nK1Ha0R/zNS2K/bOwcPhA4IOmBZrX7oY7Ls/WeO+t1uN1tiM8dfEPq5B8feFSsd8r2ivv+OPB/TJpFcM0V6R55e1Hsz9m/G3OGBRfT2enRqVc8Hh+c7s5DCQ1Z4JWtjbFh5UEe7UoXKfDtes89StfG51bfknqf/1btUGTBxPL+Dok/Khyb4iIJUSbtchFZZSd753zKG7anhx/Trunvx+Tb873wi9mcvy0UHZTra2RCQebeQLeyhorevib2TXe8gLNkUsVu69c0fH3gDaxuKRpUVVU1Z9GiRUuAfKVN7iYiT9XU1NwuIotUtceGDRv+m3xmeSwuy9euXZv3BcZWcLb6ZJrn0cNJuIMIyVBMgBqEsAdKzzTnahL4XIWPRHlHhfkJ1cUh4vXVHnlNI7jAKxuI6AtomuDXwvdPrb4m8XC7rnlt+b4k/BnAgAxf4iu8D7wq6HxH9L04stYF4mhnR52dFAYIHIIwCM0s77igT4aIj6nyMiliY7x0IZ269AgN81WqHeQAH/ZxYA+TPjc9hW8E3ld4G9HXgNdXafz5o73kdeMXeO4/QP6rlafiwEIffQJfXyxzEgv3359PTA79Vs5zM5Wyzj1QkTECUSVdMh99IkY8ku7mY55HDxF3qCCDRRmsUAW6W3Np3JxtRQyKAz8b5MX+kqvzv+LRrVzcQxzhYPU5SJD9gd1IUclsUwobBD4EfceBel90XkxDi29YNOJ44He5areVnKr+YerUqb8odDusttvsg2nBxFAEde5E6JouWUmG4piVqxOrvdjvAzhfxuZ7oR+JOHehlKc9OICADrBkUsVusXhiJtCWnpO2bLMSMxWSVdAQ8H10VkWn+JgBl7Im09ctuJlK1rl1iBxLcMlI4gL3DNo/9j9JA3HygL6RyS/QALpeVT4FVgq6ViEhUAHSD5Mlr0uGP6/vuMSOqvJSr2Ce65Xv7UpiNirbUYLpkSG3Af3NG+natCH8ig/7phu5y4ICDcs3dP3THe8dczKwa0DntTKzJhQKHfnoo49mUqfCKlKbz6Fr6CygV0DBHMyHYQ/grIDOl7FVJB5ByVkPpTX7X9XwobqxE0DbMhcoAqHmD8hse4C+or/NNpgDxNeV7QVyTIDBHMD10eHzlrRz0ZYSQqlEpa9AtcDRIMMFGQlyPHAASs+Mfl6FxQlkZLpgDhAW//uo7ESJBvNca1jnHqSwf4DBHMzPfKd+nVYPBe4P8LxWZh7fb7/9SmZHjNW6LRbFaa7KSea9TOXRHvFuxC4DXsjndYdcxSexT+NjRLhIRD/LwyXfVPzoYOKXZhvMAUIJDWmwH8wACITCbhGkHxUSoE84buy7B3hNGWUjU83Z70HHEKIsdyeXsrKyst8BJZ30p8TEEonEDZ7n5W2HkJUbHWaVe2v28Ggg5JyF8FE+r3vQncQGT4j9LqzuYcDdItkH2vT0C0EnucQOH+IlpomXv+16QVCTljXpHHsQBF0hyi96dYuPHnQlJZ1EZlsyefLkVao6iRJJiNQB3Dd9+vRFhW6E1X4dOqADVF/d+JaiPxbRvO+t3M9rWDqY2Dg3FBsEcrPCuxkUk0mlAZiP6CVlZfGqQV58fDaL34pJmNj54ZCzv/pcBPp30E9Js58/Q74IH4Fe57vx6sFe7LZsV7Rbhec4zt2q+lKh27EN+EREJhW6EVYwtpwjnEcOErMIfBr0ObMxZEL8mQVe2TDQn4hQpbrF+3YkZ7235p7zh9B0yWKPa2K4BwNHChwCsjdm8U+ylcFrgaWgbym8BPJCmNj8qgnBlUItD4VWNZKoI/CbO/nGdZKvJDflXBvfwaxo/l399fT0G8P9HRiCWVQ4QM33ZiegMuWVoEHhTYHXffH/XhZOPLffFbT9Bk70LVRq2/z6YiC5y7rminyeUHLy/RH0DYDa2tq1o0aNOjcUCr1MAabsthWqen1dXd2yQrfDCsZmi6+mRAn1rQp+S86w/dFkq53zTacQmr1k8/c4bAKJlr2weWuHh/NxN8q/Wk15uUt33w/3iPtmRb7jyAb1m1Z1htUuNO0+gcZ8t6/QdAqhjz+m7IsvKAt3oqs64b7qa/cQ2jnhEyZEXJD1iZjzebiy6fNOlazf+wKaSiVvvZWZSCTycxG5BbtAMReeFJH/qq2tLYrPZqv9in4/rWVZ265oNFrm+/7tInJmocapxwsAAAN/SURBVNvSwXyjqkdNnTq1vtANsYJT+FXIlmVZSSxZsiQxcODAp1T1IBHZC9sJCUqZiBxTVVXlDhgwYNkbb7yRz0p3Vo7YXw7LsopeNBrtq6pTSJWj32qrT1T15s6dO9/1wAMPZJVy2SouNqBbllUSTj311J6NjY1/F5HDCt2WDshX1SUicv7AgQOfs3vSS5MdcrcsqyQsXLiwYcCAAX93HGcvYL9Ct6eDERHpB9QsX748sWTJErtlsATZgG5ZVsl4880311VVVc0AyoEDsavfg1YGHLP//vt3OuKII56dO3eu7amXEBvQLcsqKUuWLEmcfPLJ//riiy/eFpEjgK6FblMHI8ChGzZs0CVLljxb6MZYmbNz6JZllaxoNLqT7/tXisgZ2AQ0QYuLyPDa2tonCt0QKzM2oFuWVfKi0eh3VPUy4PhCt6WDmdfU1PSdxx9/PAf1KKygdfhc7pZldXy1tbXP9urVa4Sqngg8CcnTDgeoIQ/XKLQhZWVlxxS6EVZmbA/dsqyORiKRyIEiUqOqNc0JaYKSEJHXfd9/SFVfchznQqAGCAd4jWLzUF1d3Y8K3QgrPRvQLcvqsKLRaBdVHQwcp6pHiUh/oBum4E+6RcE+sA6TJnWO4zizfd9/ev369e/OmjWrsfn8IVUdBvwBs5Wuw416isjbtbW1+xa6HVZ6NqBblrXNGD58eOeKiopdEonEjsDOjuPsrKqVItJZRFRVG1W1QUS+EpF34vH4x67rflRbW5syNWo0Gu0OnOr7/i8DHhEoBuvq6uq6FLoRVno2oFuWZQXktNNO67Zhw4ao4zi/AvaiY+yT/7yurm6HQjfCSq/DDQ9ZlmUVykMPPbR62rRpd3fq1OlAERkJ1AErCt2udppf6AZYmbE9dMuyrBzxPM+ZP39+t3A4fKiqfk9EDlXV3YDOlEiHyvf9C6dNm3ZfodthpWcDumVZVh4dd9xxlZ07d+5LiWTqbGxs/LhlEaBlWZZlWZZlWZZlWZZlWZZlWZZlWZZlWZZlWZZlWZZlWZZlWZZlWZZlWZZlWZZlWZZlWZZlWZZlWZZlWZZlWZZlWZZlWZZlWZZlWZZlWZZlWZZlWZZlWZZlWZZlWZZlWZZlWZZlWZZlWZZlWZZlWZZlWZZlWZZlWZZlWZZlWZZlWZZlWZZlWZZlWZZlWZZlWZZlWZZlWZZlWUH4f3hOj7cOXbpMAAAAAElFTkSuQmCC)"
      ],
      "metadata": {
        "id": "9lDFRWRyouJm"
      }
    },
    {
      "cell_type": "markdown",
      "source": [
        "# Inferring responding immune clonotypes"
      ],
      "metadata": {
        "id": "0uBaNdIQEYQH"
      }
    },
    {
      "cell_type": "code",
      "source": [
        "#importing libraries\n",
        "import numpy as np\n",
        "import pandas as pd\n",
        "import matplotlib.pyplot as plt\n",
        "\n",
        "#deciding format of the figures\n",
        "plt.rc('xtick', labelsize = 25)\n",
        "plt.rc('ytick', labelsize = 25)"
      ],
      "metadata": {
        "id": "ClOy9px-E1Oh"
      },
      "execution_count": null,
      "outputs": []
    },
    {
      "cell_type": "markdown",
      "source": [
        "## Part 2 - Learning the noise between replicates"
      ],
      "metadata": {
        "id": "ubbyShhgEeir"
      }
    },
    {
      "cell_type": "markdown",
      "source": [
        "In this notebook, we want to show examples to help the user to learn how NoisET works in practise when using its first function (ie learning experimental noise model from replicate samples). \n",
        "\n",
        "We first need to install it on the colab machine, and importing in the notebook.\n",
        "You can install it on your local machine using `pip install noisets` as well."
      ],
      "metadata": {
        "id": "gNGOiGBm-HYS"
      }
    },
    {
      "cell_type": "code",
      "execution_count": null,
      "metadata": {
        "colab": {
          "base_uri": "https://localhost:8080/"
        },
        "id": "xGvvJTyZ9trp",
        "outputId": "3565a41f-6868-40f3-e345-337e304aaf75"
      },
      "outputs": [
        {
          "output_type": "stream",
          "name": "stdout",
          "text": [
            "Collecting noisets\n",
            "  Downloading noisets-0.0.1-py3-none-any.whl (36 kB)\n",
            "Installing collected packages: noisets\n",
            "Successfully installed noisets-0.0.1\n"
          ]
        }
      ],
      "source": [
        "# We are installing noisets to use it !\n",
        "!pip install noisets\n",
        "\n",
        "from noisets import noisettes as ns"
      ]
    },
    {
      "cell_type": "markdown",
      "source": [
        "### 2.1 Loading data"
      ],
      "metadata": {
        "id": "kQBU_9DI1lLu"
      }
    },
    {
      "cell_type": "code",
      "source": [
        "%%bash\n",
        "git clone https://github.com/mbensouda/NoisET_tutorial.git"
      ],
      "metadata": {
        "colab": {
          "base_uri": "https://localhost:8080/"
        },
        "id": "VmCt4T4d_BIy",
        "outputId": "31489886-c533-4e36-b76b-a9da8c90167e"
      },
      "execution_count": null,
      "outputs": [
        {
          "output_type": "stream",
          "name": "stderr",
          "text": [
            "Cloning into 'NoisET_tutorial'...\n"
          ]
        }
      ]
    },
    {
      "cell_type": "markdown",
      "source": [
        "Below we load the data for two replicates at a given time point (the first).\n",
        "We will use a noiset utilities called Data_Process."
      ],
      "metadata": {
        "id": "EmBpNqfaGHMi"
      }
    },
    {
      "cell_type": "code",
      "source": [
        "path = 'NoisET_tutorial/data/'\n",
        "filename1 = 'MP_15_F1_short.zip' # first biological replicate\n",
        "filename2 = 'MP_15_F2_short.zip' # second biological replicate\n",
        "\n",
        "#colnames that will change if you work with a different data-set\n",
        "colnames1 = ['Clone fraction','Clone count', 'N. Seq. CDR3', 'AA. Seq. CDR3'] \n",
        "colnames2 = ['Clone fraction','Clone count', 'N. Seq. CDR3', 'AA. Seq. CDR3']\n",
        "\n",
        "# check \n",
        "MP_15 = ns.Data_Process(path, filename1, filename2, colnames1,  colnames2)\n",
        "print(\"First Filename is : \" , MP_15.filename1)\n",
        "print(\"Second Filename is : \",  MP_15.filename2)\n",
        "print(\"Name of the columns of first file are : \", MP_15.colnames1)\n",
        "print(\"Name of the columns of second file are : \", MP_15.colnames2)\n",
        "\n",
        "# Effectively importing the data\n",
        "n, df_15 = MP_15.import_data()"
      ],
      "metadata": {
        "colab": {
          "base_uri": "https://localhost:8080/"
        },
        "id": "h0F6vqjg-DgQ",
        "outputId": "d02eaf1c-4bc7-4c51-9f9c-55cd011da1f2"
      },
      "execution_count": null,
      "outputs": [
        {
          "output_type": "stream",
          "name": "stdout",
          "text": [
            "First Filename is :  MP_15_F1_short.zip\n",
            "Second Filename is :  MP_15_F2_short.zip\n",
            "Name of the columns of first file are :  ['Clone fraction', 'Clone count', 'N. Seq. CDR3', 'AA. Seq. CDR3']\n",
            "Name of the columns of second file are :  ['Clone fraction', 'Clone count', 'N. Seq. CDR3', 'AA. Seq. CDR3']\n"
          ]
        },
        {
          "output_type": "stream",
          "name": "stderr",
          "text": [
            "/usr/local/lib/python3.7/dist-packages/noisets/noisettes.py:99: FutureWarning: In a future version of pandas all arguments of DataFrame.drop except for the argument 'labels' will be keyword-only\n",
            "  mergedFrame.drop(newnames[3]+suffixes[1], 1,inplace=True) #removes duplicates\n"
          ]
        }
      ]
    },
    {
      "cell_type": "code",
      "source": [
        "df_15"
      ],
      "metadata": {
        "colab": {
          "base_uri": "https://localhost:8080/",
          "height": 424
        },
        "id": "UYm4z3qMBp27",
        "outputId": "faaf5703-5136-400c-a350-7f8011526183"
      },
      "execution_count": null,
      "outputs": [
        {
          "output_type": "execute_result",
          "data": {
            "text/html": [
              "\n",
              "  <div id=\"df-c2184c5d-531f-453d-96d5-4fa9fb81e6d8\">\n",
              "    <div class=\"colab-df-container\">\n",
              "      <div>\n",
              "<style scoped>\n",
              "    .dataframe tbody tr th:only-of-type {\n",
              "        vertical-align: middle;\n",
              "    }\n",
              "\n",
              "    .dataframe tbody tr th {\n",
              "        vertical-align: top;\n",
              "    }\n",
              "\n",
              "    .dataframe thead th {\n",
              "        text-align: right;\n",
              "    }\n",
              "</style>\n",
              "<table border=\"1\" class=\"dataframe\">\n",
              "  <thead>\n",
              "    <tr style=\"text-align: right;\">\n",
              "      <th></th>\n",
              "      <th>Clone_fraction_1</th>\n",
              "      <th>Clone_fraction_2</th>\n",
              "      <th>Clone_count_1</th>\n",
              "      <th>Clone_count_2</th>\n",
              "      <th>ntCDR3</th>\n",
              "      <th>AACDR3</th>\n",
              "    </tr>\n",
              "  </thead>\n",
              "  <tbody>\n",
              "    <tr>\n",
              "      <th>0</th>\n",
              "      <td>0.031291</td>\n",
              "      <td>0.031687</td>\n",
              "      <td>47133.0</td>\n",
              "      <td>31092.0</td>\n",
              "      <td>TGTGCAGGGGGATACTTTGGAAATGAGAAATTAACCTTT</td>\n",
              "      <td>CAGGYFGNEKLTF</td>\n",
              "    </tr>\n",
              "    <tr>\n",
              "      <th>1</th>\n",
              "      <td>0.030580</td>\n",
              "      <td>0.031203</td>\n",
              "      <td>46061.0</td>\n",
              "      <td>30617.0</td>\n",
              "      <td>TGTGCAGCAAGTTACTTTGGAAATGAGAAATTAACCTTT</td>\n",
              "      <td>CAASYFGNEKLTF</td>\n",
              "    </tr>\n",
              "    <tr>\n",
              "      <th>2</th>\n",
              "      <td>0.028584</td>\n",
              "      <td>0.026513</td>\n",
              "      <td>43055.0</td>\n",
              "      <td>26015.0</td>\n",
              "      <td>TGTGCTCTGAGGGATTACTATGGGAACAACAGACTCGCTTTT</td>\n",
              "      <td>CALRDYYGNNRLAF</td>\n",
              "    </tr>\n",
              "    <tr>\n",
              "      <th>3</th>\n",
              "      <td>0.019119</td>\n",
              "      <td>0.021204</td>\n",
              "      <td>28798.0</td>\n",
              "      <td>20806.0</td>\n",
              "      <td>TGTGTGGTGAGCATCAACACAGGCAAACTAATCTTT</td>\n",
              "      <td>CVVSINTGKLIF</td>\n",
              "    </tr>\n",
              "    <tr>\n",
              "      <th>4</th>\n",
              "      <td>0.017015</td>\n",
              "      <td>0.015855</td>\n",
              "      <td>25629.0</td>\n",
              "      <td>15557.0</td>\n",
              "      <td>TGTGCCTTATCCACGGGAGGAGGAAACAAACTCACCTTT</td>\n",
              "      <td>CALSTGGGNKLTF</td>\n",
              "    </tr>\n",
              "    <tr>\n",
              "      <th>...</th>\n",
              "      <td>...</td>\n",
              "      <td>...</td>\n",
              "      <td>...</td>\n",
              "      <td>...</td>\n",
              "      <td>...</td>\n",
              "      <td>...</td>\n",
              "    </tr>\n",
              "    <tr>\n",
              "      <th>669610</th>\n",
              "      <td>0.000000</td>\n",
              "      <td>0.000001</td>\n",
              "      <td>0.0</td>\n",
              "      <td>1.0</td>\n",
              "      <td>CCTTTCTATTTT</td>\n",
              "      <td>PFYF</td>\n",
              "    </tr>\n",
              "    <tr>\n",
              "      <th>669611</th>\n",
              "      <td>0.000000</td>\n",
              "      <td>0.000001</td>\n",
              "      <td>0.0</td>\n",
              "      <td>1.0</td>\n",
              "      <td>CCCATAATCTGG</td>\n",
              "      <td>PIIW</td>\n",
              "    </tr>\n",
              "    <tr>\n",
              "      <th>669612</th>\n",
              "      <td>0.000000</td>\n",
              "      <td>0.000001</td>\n",
              "      <td>0.0</td>\n",
              "      <td>1.0</td>\n",
              "      <td>CCCAGTATCTTC</td>\n",
              "      <td>PSIF</td>\n",
              "    </tr>\n",
              "    <tr>\n",
              "      <th>669613</th>\n",
              "      <td>0.000000</td>\n",
              "      <td>0.000001</td>\n",
              "      <td>0.0</td>\n",
              "      <td>1.0</td>\n",
              "      <td>CCATCGCTATTC</td>\n",
              "      <td>PSLF</td>\n",
              "    </tr>\n",
              "    <tr>\n",
              "      <th>669614</th>\n",
              "      <td>0.000000</td>\n",
              "      <td>0.000001</td>\n",
              "      <td>0.0</td>\n",
              "      <td>1.0</td>\n",
              "      <td>AGGATTTACTTT</td>\n",
              "      <td>RIYF</td>\n",
              "    </tr>\n",
              "  </tbody>\n",
              "</table>\n",
              "<p>669615 rows × 6 columns</p>\n",
              "</div>\n",
              "      <button class=\"colab-df-convert\" onclick=\"convertToInteractive('df-c2184c5d-531f-453d-96d5-4fa9fb81e6d8')\"\n",
              "              title=\"Convert this dataframe to an interactive table.\"\n",
              "              style=\"display:none;\">\n",
              "        \n",
              "  <svg xmlns=\"http://www.w3.org/2000/svg\" height=\"24px\"viewBox=\"0 0 24 24\"\n",
              "       width=\"24px\">\n",
              "    <path d=\"M0 0h24v24H0V0z\" fill=\"none\"/>\n",
              "    <path d=\"M18.56 5.44l.94 2.06.94-2.06 2.06-.94-2.06-.94-.94-2.06-.94 2.06-2.06.94zm-11 1L8.5 8.5l.94-2.06 2.06-.94-2.06-.94L8.5 2.5l-.94 2.06-2.06.94zm10 10l.94 2.06.94-2.06 2.06-.94-2.06-.94-.94-2.06-.94 2.06-2.06.94z\"/><path d=\"M17.41 7.96l-1.37-1.37c-.4-.4-.92-.59-1.43-.59-.52 0-1.04.2-1.43.59L10.3 9.45l-7.72 7.72c-.78.78-.78 2.05 0 2.83L4 21.41c.39.39.9.59 1.41.59.51 0 1.02-.2 1.41-.59l7.78-7.78 2.81-2.81c.8-.78.8-2.07 0-2.86zM5.41 20L4 18.59l7.72-7.72 1.47 1.35L5.41 20z\"/>\n",
              "  </svg>\n",
              "      </button>\n",
              "      \n",
              "  <style>\n",
              "    .colab-df-container {\n",
              "      display:flex;\n",
              "      flex-wrap:wrap;\n",
              "      gap: 12px;\n",
              "    }\n",
              "\n",
              "    .colab-df-convert {\n",
              "      background-color: #E8F0FE;\n",
              "      border: none;\n",
              "      border-radius: 50%;\n",
              "      cursor: pointer;\n",
              "      display: none;\n",
              "      fill: #1967D2;\n",
              "      height: 32px;\n",
              "      padding: 0 0 0 0;\n",
              "      width: 32px;\n",
              "    }\n",
              "\n",
              "    .colab-df-convert:hover {\n",
              "      background-color: #E2EBFA;\n",
              "      box-shadow: 0px 1px 2px rgba(60, 64, 67, 0.3), 0px 1px 3px 1px rgba(60, 64, 67, 0.15);\n",
              "      fill: #174EA6;\n",
              "    }\n",
              "\n",
              "    [theme=dark] .colab-df-convert {\n",
              "      background-color: #3B4455;\n",
              "      fill: #D2E3FC;\n",
              "    }\n",
              "\n",
              "    [theme=dark] .colab-df-convert:hover {\n",
              "      background-color: #434B5C;\n",
              "      box-shadow: 0px 1px 3px 1px rgba(0, 0, 0, 0.15);\n",
              "      filter: drop-shadow(0px 1px 2px rgba(0, 0, 0, 0.3));\n",
              "      fill: #FFFFFF;\n",
              "    }\n",
              "  </style>\n",
              "\n",
              "      <script>\n",
              "        const buttonEl =\n",
              "          document.querySelector('#df-c2184c5d-531f-453d-96d5-4fa9fb81e6d8 button.colab-df-convert');\n",
              "        buttonEl.style.display =\n",
              "          google.colab.kernel.accessAllowed ? 'block' : 'none';\n",
              "\n",
              "        async function convertToInteractive(key) {\n",
              "          const element = document.querySelector('#df-c2184c5d-531f-453d-96d5-4fa9fb81e6d8');\n",
              "          const dataTable =\n",
              "            await google.colab.kernel.invokeFunction('convertToInteractive',\n",
              "                                                     [key], {});\n",
              "          if (!dataTable) return;\n",
              "\n",
              "          const docLinkHtml = 'Like what you see? Visit the ' +\n",
              "            '<a target=\"_blank\" href=https://colab.research.google.com/notebooks/data_table.ipynb>data table notebook</a>'\n",
              "            + ' to learn more about interactive tables.';\n",
              "          element.innerHTML = '';\n",
              "          dataTable['output_type'] = 'display_data';\n",
              "          await google.colab.output.renderOutput(dataTable, element);\n",
              "          const docLink = document.createElement('div');\n",
              "          docLink.innerHTML = docLinkHtml;\n",
              "          element.appendChild(docLink);\n",
              "        }\n",
              "      </script>\n",
              "    </div>\n",
              "  </div>\n",
              "  "
            ],
            "text/plain": [
              "        Clone_fraction_1  ...          AACDR3\n",
              "0               0.031291  ...   CAGGYFGNEKLTF\n",
              "1               0.030580  ...   CAASYFGNEKLTF\n",
              "2               0.028584  ...  CALRDYYGNNRLAF\n",
              "3               0.019119  ...    CVVSINTGKLIF\n",
              "4               0.017015  ...   CALSTGGGNKLTF\n",
              "...                  ...  ...             ...\n",
              "669610          0.000000  ...            PFYF\n",
              "669611          0.000000  ...            PIIW\n",
              "669612          0.000000  ...            PSIF\n",
              "669613          0.000000  ...            PSLF\n",
              "669614          0.000000  ...            RIYF\n",
              "\n",
              "[669615 rows x 6 columns]"
            ]
          },
          "metadata": {},
          "execution_count": 6
        }
      ]
    },
    {
      "cell_type": "markdown",
      "source": [
        "### 2.2 Visualizing the replicate noise\n",
        "\n",
        "The experimental sampling noise can be visualized in a scatter plot, where each point is a clonotype and the two axis are the frequencies -- normalized abundances -- in the first and second replicate.\n",
        "In a \"perfect\" experiment -- meaning sequencing the entire TCR repertoire of one individual, one would expect the counting of the same clonotype to be the same. Therefore, deviations from the diagonal shows this uncertainty."
      ],
      "metadata": {
        "id": "fRSw3oJAGqaD"
      }
    },
    {
      "cell_type": "code",
      "source": [
        "plt.figure(figsize=(10,10))\n",
        "plt.rc('xtick', labelsize = 25)\n",
        "plt.rc('ytick', labelsize = 25)\n",
        "X = np.linspace(0,1, 1000)\n",
        "\n",
        "plt.style.use('seaborn-white')\n",
        "plt.scatter(df_15['Clone_fraction_1'], df_15['Clone_fraction_2'], color = 'blue', alpha = 0.1)\n",
        "plt.plot(X,X, linestyle ='--')\n",
        "plt.xlabel(r'clone frequency first replicate', fontsize = 25)\n",
        "plt.ylabel(r'clone frequency second replicate', fontsize = 25)\n",
        "plt.xscale('log')\n",
        "plt.yscale('log')\n",
        "plt.axis([2.5e-7, 1e-1, 2.5e-7, 1e-1])\n"
      ],
      "metadata": {
        "colab": {
          "base_uri": "https://localhost:8080/",
          "height": 661
        },
        "id": "MupF5l_qCW2B",
        "outputId": "8b4e3d8d-ecc4-4740-c5a0-fe990df71c93"
      },
      "execution_count": null,
      "outputs": [
        {
          "output_type": "execute_result",
          "data": {
            "text/plain": [
              "(2.5e-07, 0.1, 2.5e-07, 0.1)"
            ]
          },
          "metadata": {},
          "execution_count": 8
        },
        {
          "output_type": "display_data",
          "data": {
            "image/png": "[encoded data removed]",
            "text/plain": [
              "<Figure size 720x720 with 1 Axes>"
            ]
          },
          "metadata": {
            "needs_background": "light"
          }
        }
      ]
    },
    {
      "cell_type": "markdown",
      "source": [
        "### 2.3 - Learning sampling noise"
      ],
      "metadata": {
        "id": "3c_5L6Xj12kZ"
      }
    },
    {
      "cell_type": "markdown",
      "source": [
        "Noiset quantifies sampling noise described previousely by learning a model.\n",
        "\n",
        "There are 3 possible type of models to choose, which at increasing level of complexity are: the Poisson model (2 parameters), the Negative Binomial model (3 parameters), and the Negative Binomial + Poisson model (5 parameters).\n",
        "\n",
        "Details about the distributions and the meaning of each parameters are detailed in methods section of READme document of the github repository. \n",
        "On this part of the tutorial, we will focus on the negative binomial model, which provides reliable results in a resonable computational time.\n",
        "\n",
        "The Noiset function starts from a given set of initial parameters, and returns the same number of parameters as a result of the optimizaition process."
      ],
      "metadata": {
        "id": "rYabe4LtFAUF"
      }
    },
    {
      "cell_type": "code",
      "source": [
        "noise_model = 1 # Negative Binomial \n",
        "\n",
        "#other models :\n",
        "# 0 : NB + Poisson\n",
        "# 1 : NB\n",
        "# 2 : Poisson\n",
        "\n",
        "# Suggested initial parameters (they are very close to the optimal one \n",
        "# to speed up the computation)\n",
        "init_paras_arr = [ \n",
        "  np.asarray([-2.0, 1.54, 1.23, 6.65, -9.71]),\n",
        "  np.asarray([-2.0, 1.26, 1.05, -10.1]),\n",
        "  np.asarray([-2.15, -9.47])\n",
        "]\n",
        "\n",
        "init_paras = init_paras_arr[noise_model]"
      ],
      "metadata": {
        "id": "qbdplFd3OCyP"
      },
      "execution_count": null,
      "outputs": []
    },
    {
      "cell_type": "code",
      "source": [
        "null_model = ns.Noise_Model() \n",
        "result = null_model.learn_null_model(df_15, noise_model, init_paras)"
      ],
      "metadata": {
        "id": "XgDpeY26OUcZ",
        "colab": {
          "base_uri": "https://localhost:8080/"
        },
        "outputId": "844abc51-7f52-4992-88ee-92a86b767872"
      },
      "execution_count": null,
      "outputs": [
        {
          "output_type": "stream",
          "name": "stdout",
          "text": [
            "Iter      alph_rho  beta      alpha     fmin      \n"
          ]
        },
        {
          "output_type": "stream",
          "name": "stderr",
          "text": [
            "/usr/local/lib/python3.7/dist-packages/noisets/noisettes.py:169: RuntimeWarning: divide by zero encountered in true_divide\n",
            "  NBvec=np.log((NBvec+r[:,np.newaxis]-1)*(p[:,np.newaxis]/NBvec))\n",
            "/usr/local/lib/python3.7/dist-packages/noisets/noisettes.py:169: RuntimeWarning: invalid value encountered in log\n",
            "  NBvec=np.log((NBvec+r[:,np.newaxis]-1)*(p[:,np.newaxis]/NBvec))\n",
            "/usr/local/lib/python3.7/dist-packages/noisets/noisettes.py:272: RuntimeWarning: divide by zero encountered in log\n",
            "  return np.log(Pn_f)\n",
            "/usr/local/lib/python3.7/dist-packages/noisets/noisettes.py:377: RuntimeWarning: divide by zero encountered in log\n",
            "  integ = np.exp(np.log(integ) + logfvec[:, np.newaxis])\n"
          ]
        },
        {
          "output_type": "stream",
          "name": "stdout",
          "text": [
            "1 -1.962820 1.253220 1.049594 -10.145589 \n",
            "2.1481795113159974\n",
            "2 -1.979179 1.254684 1.044119 -10.146057 \n",
            "2.1479602706427516\n",
            "3 -1.978229 1.254564 1.044658 -10.146302 \n",
            "2.1479593663974783\n",
            "Optimization terminated successfully.    (Exit mode 0)\n",
            "            Current function value: 2.1479593663974783\n",
            "            Iterations: 3\n",
            "            Function evaluations: 19\n",
            "            Gradient evaluations: 3\n"
          ]
        }
      ]
    },
    {
      "cell_type": "code",
      "source": [
        "# Optimal parameters\n",
        "result[0]['x']"
      ],
      "metadata": {
        "colab": {
          "base_uri": "https://localhost:8080/"
        },
        "id": "Ezw8AXZSdRyz",
        "outputId": "efc6f0c4-0665-46b1-af34-a32aa035140f"
      },
      "execution_count": null,
      "outputs": [
        {
          "output_type": "execute_result",
          "data": {
            "text/plain": [
              "array([ -1.97822857,   1.25456411,   1.04465803, -10.14630235])"
            ]
          },
          "metadata": {},
          "execution_count": 18
        }
      ]
    },
    {
      "cell_type": "code",
      "source": [],
      "metadata": {
        "id": "Mn-J3UDA0j_4"
      },
      "execution_count": null,
      "outputs": []
    }
  ]
}