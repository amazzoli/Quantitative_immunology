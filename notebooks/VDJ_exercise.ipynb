{
  "nbformat": 4,
  "nbformat_minor": 0,
  "metadata": {
    "colab": {
      "provenance": [],
      "include_colab_link": true
    },
    "kernelspec": {
      "name": "python3",
      "display_name": "Python 3"
    }
  },
  "cells": [
    {
      "cell_type": "markdown",
      "metadata": {
        "id": "view-in-github",
        "colab_type": "text"
      },
      "source": [
        "<a href=\"https://colab.research.google.com/github/amazzoli/Quantitative_immunology/blob/main/notebooks/VDJ_exercise.ipynb\" target=\"_parent\"><img src=\"https://colab.research.google.com/assets/colab-badge.svg\" alt=\"Open In Colab\"/></a>"
      ]
    },
    {
      "cell_type": "code",
      "metadata": {
        "id": "snW2kObnfpnK"
      },
      "source": [
        "import pandas as pd\n",
        "import numpy as np\n",
        "import matplotlib.pyplot as plt"
      ],
      "execution_count": 1,
      "outputs": []
    },
    {
      "cell_type": "markdown",
      "source": [
        "# Modeling a toy VDJ recombination\n",
        "\n",
        "To understand the key ideas of how the real VDJ recombination is modeled, here we invent an extremely simplify process inspired by it (see figure below).\n",
        "We just consider four \"genes\" that can be randomly selected with given probabilities and a deletion event that erases some nucleotides from the right end (in a simalr way of the selection and deletion of V genes).\n",
        "\n",
        "The notebook is divided into three parts:\n",
        "1. The first section defines the rules for the toy model\n",
        "2. Then we generate some artificial data from our toy model and we see the concept of probabilistic scenario giving rise to a sequence.\n",
        "3. Finally, we fit our probabilistic model over the generated data trying to recover the original parameters we used in part 1."
      ],
      "metadata": {
        "id": "4xSiPWYVSDzB"
      }
    },
    {
      "cell_type": "markdown",
      "source": [
        "![VDJ_exercise.svg](data:image/svg+xml;base64,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)"
      ],
      "metadata": {
        "id": "SKJFZfFuy2sE"
      }
    },
    {
      "cell_type": "markdown",
      "source": [
        "## 1 - Creating the dataset by simulating the toy VDJ recombination\n",
        "\n",
        "First, we list which are the possible V genes of our system. Note that they are not plausible V genes, since a gene has to be composed by a number of nucleotides divisible by 3.\n",
        "Real genes are also much longer and V genes are of the order of 300 nucleotides.\n",
        "However, here we are not interested in biology, but only in uderstanding how to model a probabilitic process of this kind and to fit it with the expectation-maximization algorithm."
      ],
      "metadata": {
        "id": "IJVC6sYEQRZS"
      }
    },
    {
      "cell_type": "code",
      "source": [
        "V_list = [\n",
        "    'TCG',\n",
        "    'TCA',\n",
        "    'TCAA',\n",
        "    'CCGA'\n",
        "]"
      ],
      "metadata": {
        "id": "5TTVboWL51il"
      },
      "execution_count": 2,
      "outputs": []
    },
    {
      "cell_type": "markdown",
      "source": [
        "We imagine that a recombination process selects each of these genes with a heterogeneous probability. \n",
        "We choose, without a particular reason, an exponential probability."
      ],
      "metadata": {
        "id": "1YZ_RMd527tQ"
      }
    },
    {
      "cell_type": "code",
      "source": [
        "p_V_dist = np.exp(np.arange(len(V_list)) / 3)\n",
        "p_V_dist /= p_V_dist.sum() # normalization"
      ],
      "metadata": {
        "id": "07jjuicWxnRq"
      },
      "execution_count": 3,
      "outputs": []
    },
    {
      "cell_type": "code",
      "source": [
        "# Dictionary containing the probabilities for each gene\n",
        "p_V_true = {V_list[i] : p_V_dist[i]  for i in range(len(V_list))}\n",
        "\n",
        "plt.ylabel('V gene sampling probability')\n",
        "pd.Series(p_V_true).plot(kind='bar')"
      ],
      "metadata": {
        "colab": {
          "base_uri": "https://localhost:8080/",
          "height": 474
        },
        "id": "2ZHiFwtHm9D9",
        "outputId": "6d3d779b-7a10-4984-d6bb-2ceb98ddc21a"
      },
      "execution_count": 4,
      "outputs": [
        {
          "output_type": "execute_result",
          "data": {
            "text/plain": [
              "<Axes: ylabel='V gene sampling probability'>"
            ]
          },
          "metadata": {},
          "execution_count": 4
        },
        {
          "output_type": "display_data",
          "data": {
            "text/plain": [
              "<Figure size 640x480 with 1 Axes>"
            ],
            "image/png": "[encoded data removed]"
          },
          "metadata": {}
        }
      ]
    },
    {
      "cell_type": "markdown",
      "source": [
        "We also consider random deletions conditioned to the V gene. We consider only probability of deleting 0, 1 or 2 genes."
      ],
      "metadata": {
        "id": "Bu9Uykkn4Fn6"
      }
    },
    {
      "cell_type": "code",
      "source": [
        "# Probabilities are created randomly. To make this notebook perfectly reproducible\n",
        "# we fix a random seed\n",
        "np.random.seed(2)\n",
        "\n",
        "# Below we build a matrix containing the three deletion probabilities for the four \n",
        "# V genes. Each row corresponds to a gene and the three elements are the \n",
        "# deletion prob. of 0, 1, and 2 nucleotides \n",
        "del_probabilities = []\n",
        "for V in V_list:\n",
        "  # The three deletion probs are randomly generated by sampling a multinomial\n",
        "  dels = np.random.multinomial(100, [0.45, 0.30, 0.15]) / 100\n",
        "  del_probabilities.append([dels[0], dels[1], dels[2]])\n",
        "\n",
        "# This matrix is used to generate a pandas dataframe, which is the typical tool\n",
        "# to manage tables of data in python. The result is printed below the cell\n",
        "p_delV_true = pd.DataFrame(del_probabilities, columns=['0 del', '1 del', '2 del'])\n",
        "p_delV_true.index = V_list\n",
        "p_delV_true"
      ],
      "metadata": {
        "id": "aQBJVojVza9-",
        "colab": {
          "base_uri": "https://localhost:8080/",
          "height": 175
        },
        "outputId": "70da5c7a-a579-4c02-f605-0f706fd704f2"
      },
      "execution_count": 5,
      "outputs": [
        {
          "output_type": "execute_result",
          "data": {
            "text/plain": [
              "      0 del  1 del  2 del\n",
              "TCG    0.53   0.25   0.22\n",
              "TCA    0.50   0.29   0.21\n",
              "TCAA   0.44   0.33   0.23\n",
              "CCGA   0.45   0.30   0.25"
            ],
            "text/html": [
              "\n",
              "  <div id=\"df-1c4e0ca3-75e1-48a9-b74f-d53d356b5d33\">\n",
              "    <div class=\"colab-df-container\">\n",
              "      <div>\n",
              "<style scoped>\n",
              "    .dataframe tbody tr th:only-of-type {\n",
              "        vertical-align: middle;\n",
              "    }\n",
              "\n",
              "    .dataframe tbody tr th {\n",
              "        vertical-align: top;\n",
              "    }\n",
              "\n",
              "    .dataframe thead th {\n",
              "        text-align: right;\n",
              "    }\n",
              "</style>\n",
              "<table border=\"1\" class=\"dataframe\">\n",
              "  <thead>\n",
              "    <tr style=\"text-align: right;\">\n",
              "      <th></th>\n",
              "      <th>0 del</th>\n",
              "      <th>1 del</th>\n",
              "      <th>2 del</th>\n",
              "    </tr>\n",
              "  </thead>\n",
              "  <tbody>\n",
              "    <tr>\n",
              "      <th>TCG</th>\n",
              "      <td>0.53</td>\n",
              "      <td>0.25</td>\n",
              "      <td>0.22</td>\n",
              "    </tr>\n",
              "    <tr>\n",
              "      <th>TCA</th>\n",
              "      <td>0.50</td>\n",
              "      <td>0.29</td>\n",
              "      <td>0.21</td>\n",
              "    </tr>\n",
              "    <tr>\n",
              "      <th>TCAA</th>\n",
              "      <td>0.44</td>\n",
              "      <td>0.33</td>\n",
              "      <td>0.23</td>\n",
              "    </tr>\n",
              "    <tr>\n",
              "      <th>CCGA</th>\n",
              "      <td>0.45</td>\n",
              "      <td>0.30</td>\n",
              "      <td>0.25</td>\n",
              "    </tr>\n",
              "  </tbody>\n",
              "</table>\n",
              "</div>\n",
              "      <button class=\"colab-df-convert\" onclick=\"convertToInteractive('df-1c4e0ca3-75e1-48a9-b74f-d53d356b5d33')\"\n",
              "              title=\"Convert this dataframe to an interactive table.\"\n",
              "              style=\"display:none;\">\n",
              "        \n",
              "  <svg xmlns=\"http://www.w3.org/2000/svg\" height=\"24px\"viewBox=\"0 0 24 24\"\n",
              "       width=\"24px\">\n",
              "    <path d=\"M0 0h24v24H0V0z\" fill=\"none\"/>\n",
              "    <path d=\"M18.56 5.44l.94 2.06.94-2.06 2.06-.94-2.06-.94-.94-2.06-.94 2.06-2.06.94zm-11 1L8.5 8.5l.94-2.06 2.06-.94-2.06-.94L8.5 2.5l-.94 2.06-2.06.94zm10 10l.94 2.06.94-2.06 2.06-.94-2.06-.94-.94-2.06-.94 2.06-2.06.94z\"/><path d=\"M17.41 7.96l-1.37-1.37c-.4-.4-.92-.59-1.43-.59-.52 0-1.04.2-1.43.59L10.3 9.45l-7.72 7.72c-.78.78-.78 2.05 0 2.83L4 21.41c.39.39.9.59 1.41.59.51 0 1.02-.2 1.41-.59l7.78-7.78 2.81-2.81c.8-.78.8-2.07 0-2.86zM5.41 20L4 18.59l7.72-7.72 1.47 1.35L5.41 20z\"/>\n",
              "  </svg>\n",
              "      </button>\n",
              "      \n",
              "  <style>\n",
              "    .colab-df-container {\n",
              "      display:flex;\n",
              "      flex-wrap:wrap;\n",
              "      gap: 12px;\n",
              "    }\n",
              "\n",
              "    .colab-df-convert {\n",
              "      background-color: #E8F0FE;\n",
              "      border: none;\n",
              "      border-radius: 50%;\n",
              "      cursor: pointer;\n",
              "      display: none;\n",
              "      fill: #1967D2;\n",
              "      height: 32px;\n",
              "      padding: 0 0 0 0;\n",
              "      width: 32px;\n",
              "    }\n",
              "\n",
              "    .colab-df-convert:hover {\n",
              "      background-color: #E2EBFA;\n",
              "      box-shadow: 0px 1px 2px rgba(60, 64, 67, 0.3), 0px 1px 3px 1px rgba(60, 64, 67, 0.15);\n",
              "      fill: #174EA6;\n",
              "    }\n",
              "\n",
              "    [theme=dark] .colab-df-convert {\n",
              "      background-color: #3B4455;\n",
              "      fill: #D2E3FC;\n",
              "    }\n",
              "\n",
              "    [theme=dark] .colab-df-convert:hover {\n",
              "      background-color: #434B5C;\n",
              "      box-shadow: 0px 1px 3px 1px rgba(0, 0, 0, 0.15);\n",
              "      filter: drop-shadow(0px 1px 2px rgba(0, 0, 0, 0.3));\n",
              "      fill: #FFFFFF;\n",
              "    }\n",
              "  </style>\n",
              "\n",
              "      <script>\n",
              "        const buttonEl =\n",
              "          document.querySelector('#df-1c4e0ca3-75e1-48a9-b74f-d53d356b5d33 button.colab-df-convert');\n",
              "        buttonEl.style.display =\n",
              "          google.colab.kernel.accessAllowed ? 'block' : 'none';\n",
              "\n",
              "        async function convertToInteractive(key) {\n",
              "          const element = document.querySelector('#df-1c4e0ca3-75e1-48a9-b74f-d53d356b5d33');\n",
              "          const dataTable =\n",
              "            await google.colab.kernel.invokeFunction('convertToInteractive',\n",
              "                                                     [key], {});\n",
              "          if (!dataTable) return;\n",
              "\n",
              "          const docLinkHtml = 'Like what you see? Visit the ' +\n",
              "            '<a target=\"_blank\" href=https://colab.research.google.com/notebooks/data_table.ipynb>data table notebook</a>'\n",
              "            + ' to learn more about interactive tables.';\n",
              "          element.innerHTML = '';\n",
              "          dataTable['output_type'] = 'display_data';\n",
              "          await google.colab.output.renderOutput(dataTable, element);\n",
              "          const docLink = document.createElement('div');\n",
              "          docLink.innerHTML = docLinkHtml;\n",
              "          element.appendChild(docLink);\n",
              "        }\n",
              "      </script>\n",
              "    </div>\n",
              "  </div>\n",
              "  "
            ]
          },
          "metadata": {},
          "execution_count": 5
        }
      ]
    },
    {
      "cell_type": "code",
      "source": [
        "p_delV_true.plot(kind='bar')\n",
        "plt.ylabel('deletion probability conditioned to V gene')"
      ],
      "metadata": {
        "colab": {
          "base_uri": "https://localhost:8080/",
          "height": 473
        },
        "id": "MRzxv7-y5t8j",
        "outputId": "7ce46ab7-b089-44fc-ebf8-6fa6f6a8a747"
      },
      "execution_count": 6,
      "outputs": [
        {
          "output_type": "execute_result",
          "data": {
            "text/plain": [
              "Text(0, 0.5, 'deletion probability conditioned to V gene')"
            ]
          },
          "metadata": {},
          "execution_count": 6
        },
        {
          "output_type": "display_data",
          "data": {
            "text/plain": [
              "<Figure size 640x480 with 1 Axes>"
            ],
            "image/png": "[encoded data removed]"
          },
          "metadata": {}
        }
      ]
    },
    {
      "cell_type": "markdown",
      "source": [
        "The two created objects: `p_V_true` and `p_delV_true` contains the true parameters of our model.\n",
        "Those are the numbers that we want to infer later on.\n",
        "Before, we need to generate \"data\" from these probabilities.\n",
        "\n"
      ],
      "metadata": {
        "id": "3x7g3MdX731s"
      }
    },
    {
      "cell_type": "markdown",
      "source": [
        "## 2 - Generating the data\n",
        "\n",
        "We want to generate `n_seqs` \"mature receptors\" from recombination events governed by the probabilities set before.\n",
        "\n",
        "We have to do `n_seqs` times the following actions:\n",
        "- Extract a V gene according to `p_V_true`.\n",
        "- Delete from its right side n letters, where n is extracted from `p_delV_true`, by choosing the line of the matrix according to the V gene extracted before.\n",
        "\n",
        "Doing these operation for large `n_seqs` can be very time consuming, especially using python. \n",
        "Therefore, we exploit some simple properties of the stochastic theory and, instead of generating each sequence one by one, we generate the **counts** for each possible sequence.\n",
        "\n",
        "For example, choosing one of the four V gene is the same problem of extracting balls of four different colors with replacement N times.\n",
        "The slow way to get the numbers of balls of each color is to perform the N extractions and then count the balls.\n",
        "But this numbers can be equivalently generated by a multinomial distribution:\n",
        "\n",
        "\\begin{equation}\n",
        "P(n_1, n_2, \\ldots, n_k) = \\frac{N!}{n_1!n_2!\\ldots n_k!} p_1^{n_1} p_2^{n_2} \\ldots p_k^{n_k} ,\n",
        "\\end{equation}\n",
        "where $k$ is the number of colors and $p$ the probability of extracting the ball of one color.\n",
        "\n",
        "Luckily, we have a numpy function that generate array of numbers following the multinomial distribution: `np.random.multinomial(N, [p1, p2, ..., pk])`.\n",
        "\n",
        "\\\n",
        "\n",
        "Below we wrote a function to generate the sequences by following those steps:\n",
        "\n",
        "1. Sample the V genes according to the probabilities of `p_V_true`. The number of each gene generated by this process can be obtained from a multinomial sampling of `n_seqs` with `p_V_true` probabilities. This gives us an array of four numbers $(n_1, n_2, n_3, n_4)$.\n",
        "\n",
        "2. We iterate over the four genes. For the gene $i$ we have $n_i$ exctaction and now we delete a given number of letters for its right end.\n",
        "These numbers are generated with a multinomial sampling of $n_i$ objects having `p_delV_true[i]` probabilities.\n",
        "\n",
        "3. The function returns the list of possible sequences that our process can generate with the respective counts."
      ],
      "metadata": {
        "id": "qjVZlhSn8UUW"
      }
    },
    {
      "cell_type": "code",
      "source": [
        "def generate_data(p_V_true, p_delV_true, n_seqs):\n",
        "\n",
        "  V_p_dist = list(p_V_true.values())\n",
        "  V_values = list(p_V_true.keys())\n",
        "\n",
        "  # Generating the number of V genes through multinomial sampling\n",
        "  V_sample_counts = np.random.multinomial(n_seqs, V_p_dist)\n",
        "\n",
        "  # seqs will contain all the possible sequences that can be generated through\n",
        "  # this process, seqs_count the number of instances of the corresponding sequence\n",
        "  seqs, seqs_count = [], []\n",
        "  # For each V gene generated we extract the number of deletions that it undergoes\n",
        "  for Vi in range(len(V_sample_counts)):\n",
        "\n",
        "    V = V_values[Vi]\n",
        "    del_p_dist = list(p_delV_true.loc[V].values)\n",
        "    # The number of 0,1,2 deletions are again a multinomial sampling of\n",
        "    # the number of sampled V genes with the deletion probs\n",
        "    del_V_counts = np.random.multinomial(V_sample_counts[Vi], del_p_dist)\n",
        "\n",
        "    for i in range(len(del_p_dist)):\n",
        "      if del_V_counts[i] > 0:\n",
        "        seqs.append(V[:len(V) - i])\n",
        "        seqs_count.append(del_V_counts[i])\n",
        "\n",
        "  return pd.Series(seqs_count, index=seqs).groupby(level=0).agg(sum)"
      ],
      "metadata": {
        "id": "U3qE6P2_02Ea"
      },
      "execution_count": 7,
      "outputs": []
    },
    {
      "cell_type": "code",
      "source": [
        "N = 5000\n",
        "data_seqs = generate_data(p_V_true, p_delV_true, N)"
      ],
      "metadata": {
        "id": "YeQWRpcUne5m"
      },
      "execution_count": 8,
      "outputs": []
    },
    {
      "cell_type": "code",
      "source": [
        "data_seqs"
      ],
      "metadata": {
        "colab": {
          "base_uri": "https://localhost:8080/"
        },
        "id": "1pH1WvRAxXZt",
        "outputId": "cbf9e241-b4a2-4026-8440-f1d710934137"
      },
      "execution_count": 9,
      "outputs": [
        {
          "output_type": "execute_result",
          "data": {
            "text/plain": [
              "CC      491\n",
              "CCG     558\n",
              "CCGA    894\n",
              "T       356\n",
              "TC      760\n",
              "TCA     957\n",
              "TCAA    626\n",
              "TCG     358\n",
              "dtype: int64"
            ]
          },
          "metadata": {},
          "execution_count": 9
        }
      ]
    },
    {
      "cell_type": "markdown",
      "source": [
        "We have to imagine that the list of sequences and counts above are the outcome of our experiments.\n",
        "Our aim is to infer the probabilities of sampling a V gene and deleting nucleotides from these numbers.\n",
        "\n",
        "Notice that there is one feature of those sequences that makes this problem quite non-trivial. Some generated sequences can be generated by multiple **scenarios**. For example, *TCA* can be generated by choosing the V gene *TCA* and not deleting anything or choosing *TCAA* and deleting one letter.\n",
        "\n",
        "For later it is useful to enumerate all the possible scenarios that can lead to our sequences.\n"
      ],
      "metadata": {
        "id": "tgZzkpXKKK3L"
      }
    },
    {
      "cell_type": "code",
      "source": [
        "seqs, scenarios = [], []\n",
        "for iV, V in enumerate(V_list):\n",
        "  for d in [0,1,2]:\n",
        "    seqs.append(V[:len(V)-d])\n",
        "    scenarios.append([iV+1, d])\n",
        "\n",
        "scenarios = pd.DataFrame(scenarios, columns=['V index', 'deletions'])\n",
        "scenarios['sequence'] = seqs\n",
        "scenarios.index.name = 'scenario id'"
      ],
      "metadata": {
        "id": "OVAOkh6jvItZ"
      },
      "execution_count": 10,
      "outputs": []
    },
    {
      "cell_type": "markdown",
      "source": [
        "The `scenarios` table is composed by the following columns:\n",
        "- Index of the scenario\n",
        "- Choosen V-gene\n",
        "- Number of deletions from the V-gene\n",
        "- Generated sequence "
      ],
      "metadata": {
        "id": "Jn6pqN9CwXsW"
      }
    },
    {
      "cell_type": "code",
      "source": [
        "scenarios"
      ],
      "metadata": {
        "colab": {
          "base_uri": "https://localhost:8080/",
          "height": 457
        },
        "id": "FIkzi1K8vYKt",
        "outputId": "d115c175-be65-421d-c4a7-e692d1eab1d6"
      },
      "execution_count": 11,
      "outputs": [
        {
          "output_type": "execute_result",
          "data": {
            "text/plain": [
              "             V index  deletions sequence\n",
              "scenario id                             \n",
              "0                  1          0      TCG\n",
              "1                  1          1       TC\n",
              "2                  1          2        T\n",
              "3                  2          0      TCA\n",
              "4                  2          1       TC\n",
              "5                  2          2        T\n",
              "6                  3          0     TCAA\n",
              "7                  3          1      TCA\n",
              "8                  3          2       TC\n",
              "9                  4          0     CCGA\n",
              "10                 4          1      CCG\n",
              "11                 4          2       CC"
            ],
            "text/html": [
              "\n",
              "  <div id=\"df-c3eb8771-81e2-464c-a4a4-2e07f390decc\">\n",
              "    <div class=\"colab-df-container\">\n",
              "      <div>\n",
              "<style scoped>\n",
              "    .dataframe tbody tr th:only-of-type {\n",
              "        vertical-align: middle;\n",
              "    }\n",
              "\n",
              "    .dataframe tbody tr th {\n",
              "        vertical-align: top;\n",
              "    }\n",
              "\n",
              "    .dataframe thead th {\n",
              "        text-align: right;\n",
              "    }\n",
              "</style>\n",
              "<table border=\"1\" class=\"dataframe\">\n",
              "  <thead>\n",
              "    <tr style=\"text-align: right;\">\n",
              "      <th></th>\n",
              "      <th>V index</th>\n",
              "      <th>deletions</th>\n",
              "      <th>sequence</th>\n",
              "    </tr>\n",
              "    <tr>\n",
              "      <th>scenario id</th>\n",
              "      <th></th>\n",
              "      <th></th>\n",
              "      <th></th>\n",
              "    </tr>\n",
              "  </thead>\n",
              "  <tbody>\n",
              "    <tr>\n",
              "      <th>0</th>\n",
              "      <td>1</td>\n",
              "      <td>0</td>\n",
              "      <td>TCG</td>\n",
              "    </tr>\n",
              "    <tr>\n",
              "      <th>1</th>\n",
              "      <td>1</td>\n",
              "      <td>1</td>\n",
              "      <td>TC</td>\n",
              "    </tr>\n",
              "    <tr>\n",
              "      <th>2</th>\n",
              "      <td>1</td>\n",
              "      <td>2</td>\n",
              "      <td>T</td>\n",
              "    </tr>\n",
              "    <tr>\n",
              "      <th>3</th>\n",
              "      <td>2</td>\n",
              "      <td>0</td>\n",
              "      <td>TCA</td>\n",
              "    </tr>\n",
              "    <tr>\n",
              "      <th>4</th>\n",
              "      <td>2</td>\n",
              "      <td>1</td>\n",
              "      <td>TC</td>\n",
              "    </tr>\n",
              "    <tr>\n",
              "      <th>5</th>\n",
              "      <td>2</td>\n",
              "      <td>2</td>\n",
              "      <td>T</td>\n",
              "    </tr>\n",
              "    <tr>\n",
              "      <th>6</th>\n",
              "      <td>3</td>\n",
              "      <td>0</td>\n",
              "      <td>TCAA</td>\n",
              "    </tr>\n",
              "    <tr>\n",
              "      <th>7</th>\n",
              "      <td>3</td>\n",
              "      <td>1</td>\n",
              "      <td>TCA</td>\n",
              "    </tr>\n",
              "    <tr>\n",
              "      <th>8</th>\n",
              "      <td>3</td>\n",
              "      <td>2</td>\n",
              "      <td>TC</td>\n",
              "    </tr>\n",
              "    <tr>\n",
              "      <th>9</th>\n",
              "      <td>4</td>\n",
              "      <td>0</td>\n",
              "      <td>CCGA</td>\n",
              "    </tr>\n",
              "    <tr>\n",
              "      <th>10</th>\n",
              "      <td>4</td>\n",
              "      <td>1</td>\n",
              "      <td>CCG</td>\n",
              "    </tr>\n",
              "    <tr>\n",
              "      <th>11</th>\n",
              "      <td>4</td>\n",
              "      <td>2</td>\n",
              "      <td>CC</td>\n",
              "    </tr>\n",
              "  </tbody>\n",
              "</table>\n",
              "</div>\n",
              "      <button class=\"colab-df-convert\" onclick=\"convertToInteractive('df-c3eb8771-81e2-464c-a4a4-2e07f390decc')\"\n",
              "              title=\"Convert this dataframe to an interactive table.\"\n",
              "              style=\"display:none;\">\n",
              "        \n",
              "  <svg xmlns=\"http://www.w3.org/2000/svg\" height=\"24px\"viewBox=\"0 0 24 24\"\n",
              "       width=\"24px\">\n",
              "    <path d=\"M0 0h24v24H0V0z\" fill=\"none\"/>\n",
              "    <path d=\"M18.56 5.44l.94 2.06.94-2.06 2.06-.94-2.06-.94-.94-2.06-.94 2.06-2.06.94zm-11 1L8.5 8.5l.94-2.06 2.06-.94-2.06-.94L8.5 2.5l-.94 2.06-2.06.94zm10 10l.94 2.06.94-2.06 2.06-.94-2.06-.94-.94-2.06-.94 2.06-2.06.94z\"/><path d=\"M17.41 7.96l-1.37-1.37c-.4-.4-.92-.59-1.43-.59-.52 0-1.04.2-1.43.59L10.3 9.45l-7.72 7.72c-.78.78-.78 2.05 0 2.83L4 21.41c.39.39.9.59 1.41.59.51 0 1.02-.2 1.41-.59l7.78-7.78 2.81-2.81c.8-.78.8-2.07 0-2.86zM5.41 20L4 18.59l7.72-7.72 1.47 1.35L5.41 20z\"/>\n",
              "  </svg>\n",
              "      </button>\n",
              "      \n",
              "  <style>\n",
              "    .colab-df-container {\n",
              "      display:flex;\n",
              "      flex-wrap:wrap;\n",
              "      gap: 12px;\n",
              "    }\n",
              "\n",
              "    .colab-df-convert {\n",
              "      background-color: #E8F0FE;\n",
              "      border: none;\n",
              "      border-radius: 50%;\n",
              "      cursor: pointer;\n",
              "      display: none;\n",
              "      fill: #1967D2;\n",
              "      height: 32px;\n",
              "      padding: 0 0 0 0;\n",
              "      width: 32px;\n",
              "    }\n",
              "\n",
              "    .colab-df-convert:hover {\n",
              "      background-color: #E2EBFA;\n",
              "      box-shadow: 0px 1px 2px rgba(60, 64, 67, 0.3), 0px 1px 3px 1px rgba(60, 64, 67, 0.15);\n",
              "      fill: #174EA6;\n",
              "    }\n",
              "\n",
              "    [theme=dark] .colab-df-convert {\n",
              "      background-color: #3B4455;\n",
              "      fill: #D2E3FC;\n",
              "    }\n",
              "\n",
              "    [theme=dark] .colab-df-convert:hover {\n",
              "      background-color: #434B5C;\n",
              "      box-shadow: 0px 1px 3px 1px rgba(0, 0, 0, 0.15);\n",
              "      filter: drop-shadow(0px 1px 2px rgba(0, 0, 0, 0.3));\n",
              "      fill: #FFFFFF;\n",
              "    }\n",
              "  </style>\n",
              "\n",
              "      <script>\n",
              "        const buttonEl =\n",
              "          document.querySelector('#df-c3eb8771-81e2-464c-a4a4-2e07f390decc button.colab-df-convert');\n",
              "        buttonEl.style.display =\n",
              "          google.colab.kernel.accessAllowed ? 'block' : 'none';\n",
              "\n",
              "        async function convertToInteractive(key) {\n",
              "          const element = document.querySelector('#df-c3eb8771-81e2-464c-a4a4-2e07f390decc');\n",
              "          const dataTable =\n",
              "            await google.colab.kernel.invokeFunction('convertToInteractive',\n",
              "                                                     [key], {});\n",
              "          if (!dataTable) return;\n",
              "\n",
              "          const docLinkHtml = 'Like what you see? Visit the ' +\n",
              "            '<a target=\"_blank\" href=https://colab.research.google.com/notebooks/data_table.ipynb>data table notebook</a>'\n",
              "            + ' to learn more about interactive tables.';\n",
              "          element.innerHTML = '';\n",
              "          dataTable['output_type'] = 'display_data';\n",
              "          await google.colab.output.renderOutput(dataTable, element);\n",
              "          const docLink = document.createElement('div');\n",
              "          docLink.innerHTML = docLinkHtml;\n",
              "          element.appendChild(docLink);\n",
              "        }\n",
              "      </script>\n",
              "    </div>\n",
              "  </div>\n",
              "  "
            ]
          },
          "metadata": {},
          "execution_count": 11
        }
      ]
    },
    {
      "cell_type": "markdown",
      "source": [
        "It is useful for later to create a map between each unique sequence and the list of scenarios that can generate it"
      ],
      "metadata": {
        "id": "ccGpoH1Qwzdg"
      }
    },
    {
      "cell_type": "code",
      "source": [
        "seq_to_scenarios = scenarios.reset_index()\n",
        "seq_to_scenarios = seq_to_scenarios.groupby('sequence').agg(list)"
      ],
      "metadata": {
        "id": "lcoTjB_YUI_9"
      },
      "execution_count": 12,
      "outputs": []
    },
    {
      "cell_type": "code",
      "source": [
        "seq_to_scenarios"
      ],
      "metadata": {
        "colab": {
          "base_uri": "https://localhost:8080/",
          "height": 332
        },
        "id": "zoL8WknXxbZm",
        "outputId": "89617f5c-3c6f-497a-b2c4-9a68921d5ec4"
      },
      "execution_count": 13,
      "outputs": [
        {
          "output_type": "execute_result",
          "data": {
            "text/plain": [
              "         scenario id    V index  deletions\n",
              "sequence                                  \n",
              "CC              [11]        [4]        [2]\n",
              "CCG             [10]        [4]        [1]\n",
              "CCGA             [9]        [4]        [0]\n",
              "T             [2, 5]     [1, 2]     [2, 2]\n",
              "TC         [1, 4, 8]  [1, 2, 3]  [1, 1, 2]\n",
              "TCA           [3, 7]     [2, 3]     [0, 1]\n",
              "TCAA             [6]        [3]        [0]\n",
              "TCG              [0]        [1]        [0]"
            ],
            "text/html": [
              "\n",
              "  <div id=\"df-efe89832-ef19-449f-b514-7324e1f6676f\">\n",
              "    <div class=\"colab-df-container\">\n",
              "      <div>\n",
              "<style scoped>\n",
              "    .dataframe tbody tr th:only-of-type {\n",
              "        vertical-align: middle;\n",
              "    }\n",
              "\n",
              "    .dataframe tbody tr th {\n",
              "        vertical-align: top;\n",
              "    }\n",
              "\n",
              "    .dataframe thead th {\n",
              "        text-align: right;\n",
              "    }\n",
              "</style>\n",
              "<table border=\"1\" class=\"dataframe\">\n",
              "  <thead>\n",
              "    <tr style=\"text-align: right;\">\n",
              "      <th></th>\n",
              "      <th>scenario id</th>\n",
              "      <th>V index</th>\n",
              "      <th>deletions</th>\n",
              "    </tr>\n",
              "    <tr>\n",
              "      <th>sequence</th>\n",
              "      <th></th>\n",
              "      <th></th>\n",
              "      <th></th>\n",
              "    </tr>\n",
              "  </thead>\n",
              "  <tbody>\n",
              "    <tr>\n",
              "      <th>CC</th>\n",
              "      <td>[11]</td>\n",
              "      <td>[4]</td>\n",
              "      <td>[2]</td>\n",
              "    </tr>\n",
              "    <tr>\n",
              "      <th>CCG</th>\n",
              "      <td>[10]</td>\n",
              "      <td>[4]</td>\n",
              "      <td>[1]</td>\n",
              "    </tr>\n",
              "    <tr>\n",
              "      <th>CCGA</th>\n",
              "      <td>[9]</td>\n",
              "      <td>[4]</td>\n",
              "      <td>[0]</td>\n",
              "    </tr>\n",
              "    <tr>\n",
              "      <th>T</th>\n",
              "      <td>[2, 5]</td>\n",
              "      <td>[1, 2]</td>\n",
              "      <td>[2, 2]</td>\n",
              "    </tr>\n",
              "    <tr>\n",
              "      <th>TC</th>\n",
              "      <td>[1, 4, 8]</td>\n",
              "      <td>[1, 2, 3]</td>\n",
              "      <td>[1, 1, 2]</td>\n",
              "    </tr>\n",
              "    <tr>\n",
              "      <th>TCA</th>\n",
              "      <td>[3, 7]</td>\n",
              "      <td>[2, 3]</td>\n",
              "      <td>[0, 1]</td>\n",
              "    </tr>\n",
              "    <tr>\n",
              "      <th>TCAA</th>\n",
              "      <td>[6]</td>\n",
              "      <td>[3]</td>\n",
              "      <td>[0]</td>\n",
              "    </tr>\n",
              "    <tr>\n",
              "      <th>TCG</th>\n",
              "      <td>[0]</td>\n",
              "      <td>[1]</td>\n",
              "      <td>[0]</td>\n",
              "    </tr>\n",
              "  </tbody>\n",
              "</table>\n",
              "</div>\n",
              "      <button class=\"colab-df-convert\" onclick=\"convertToInteractive('df-efe89832-ef19-449f-b514-7324e1f6676f')\"\n",
              "              title=\"Convert this dataframe to an interactive table.\"\n",
              "              style=\"display:none;\">\n",
              "        \n",
              "  <svg xmlns=\"http://www.w3.org/2000/svg\" height=\"24px\"viewBox=\"0 0 24 24\"\n",
              "       width=\"24px\">\n",
              "    <path d=\"M0 0h24v24H0V0z\" fill=\"none\"/>\n",
              "    <path d=\"M18.56 5.44l.94 2.06.94-2.06 2.06-.94-2.06-.94-.94-2.06-.94 2.06-2.06.94zm-11 1L8.5 8.5l.94-2.06 2.06-.94-2.06-.94L8.5 2.5l-.94 2.06-2.06.94zm10 10l.94 2.06.94-2.06 2.06-.94-2.06-.94-.94-2.06-.94 2.06-2.06.94z\"/><path d=\"M17.41 7.96l-1.37-1.37c-.4-.4-.92-.59-1.43-.59-.52 0-1.04.2-1.43.59L10.3 9.45l-7.72 7.72c-.78.78-.78 2.05 0 2.83L4 21.41c.39.39.9.59 1.41.59.51 0 1.02-.2 1.41-.59l7.78-7.78 2.81-2.81c.8-.78.8-2.07 0-2.86zM5.41 20L4 18.59l7.72-7.72 1.47 1.35L5.41 20z\"/>\n",
              "  </svg>\n",
              "      </button>\n",
              "      \n",
              "  <style>\n",
              "    .colab-df-container {\n",
              "      display:flex;\n",
              "      flex-wrap:wrap;\n",
              "      gap: 12px;\n",
              "    }\n",
              "\n",
              "    .colab-df-convert {\n",
              "      background-color: #E8F0FE;\n",
              "      border: none;\n",
              "      border-radius: 50%;\n",
              "      cursor: pointer;\n",
              "      display: none;\n",
              "      fill: #1967D2;\n",
              "      height: 32px;\n",
              "      padding: 0 0 0 0;\n",
              "      width: 32px;\n",
              "    }\n",
              "\n",
              "    .colab-df-convert:hover {\n",
              "      background-color: #E2EBFA;\n",
              "      box-shadow: 0px 1px 2px rgba(60, 64, 67, 0.3), 0px 1px 3px 1px rgba(60, 64, 67, 0.15);\n",
              "      fill: #174EA6;\n",
              "    }\n",
              "\n",
              "    [theme=dark] .colab-df-convert {\n",
              "      background-color: #3B4455;\n",
              "      fill: #D2E3FC;\n",
              "    }\n",
              "\n",
              "    [theme=dark] .colab-df-convert:hover {\n",
              "      background-color: #434B5C;\n",
              "      box-shadow: 0px 1px 3px 1px rgba(0, 0, 0, 0.15);\n",
              "      filter: drop-shadow(0px 1px 2px rgba(0, 0, 0, 0.3));\n",
              "      fill: #FFFFFF;\n",
              "    }\n",
              "  </style>\n",
              "\n",
              "      <script>\n",
              "        const buttonEl =\n",
              "          document.querySelector('#df-efe89832-ef19-449f-b514-7324e1f6676f button.colab-df-convert');\n",
              "        buttonEl.style.display =\n",
              "          google.colab.kernel.accessAllowed ? 'block' : 'none';\n",
              "\n",
              "        async function convertToInteractive(key) {\n",
              "          const element = document.querySelector('#df-efe89832-ef19-449f-b514-7324e1f6676f');\n",
              "          const dataTable =\n",
              "            await google.colab.kernel.invokeFunction('convertToInteractive',\n",
              "                                                     [key], {});\n",
              "          if (!dataTable) return;\n",
              "\n",
              "          const docLinkHtml = 'Like what you see? Visit the ' +\n",
              "            '<a target=\"_blank\" href=https://colab.research.google.com/notebooks/data_table.ipynb>data table notebook</a>'\n",
              "            + ' to learn more about interactive tables.';\n",
              "          element.innerHTML = '';\n",
              "          dataTable['output_type'] = 'display_data';\n",
              "          await google.colab.output.renderOutput(dataTable, element);\n",
              "          const docLink = document.createElement('div');\n",
              "          docLink.innerHTML = docLinkHtml;\n",
              "          element.appendChild(docLink);\n",
              "        }\n",
              "      </script>\n",
              "    </div>\n",
              "  </div>\n",
              "  "
            ]
          },
          "metadata": {},
          "execution_count": 13
        }
      ]
    },
    {
      "cell_type": "markdown",
      "source": [
        "## 3 - Maximum likelihood inference\n",
        "\n",
        "The problem that we have to solve now is the following.\n",
        "Imagine that you have a sample of sequences as the one generated above and you also know that they are generated by choosing a V gene and deleting some nucleotides from its right end.\n",
        "What are the V-gene picking and deletion probabilities?\n",
        "\n",
        "We use the maximization of the log-likelihood of observing our samples.\n",
        "If we call $\\vec{x} = \\lbrace x_1, \\ldots, x_N \\rbrace$ the sequences, the log likelihood of generaing those under a model parametrized by $\\vec{\\theta}$ is\n",
        "\\begin{equation}\n",
        "\\mathcal{L}(\\vec{x}, \\vec{\\theta}) = \\sum_{i=1}^N \\log P(x_i|\\vec{\\theta}),\n",
        "\\end{equation}\n",
        "where the samples are assumed to be independent and $P(x_i|\\vec{\\theta})$ is the probability of generating a single sequence.\n",
        "In our case the parameters $\\theta$ are:\n",
        "\\begin{equation}\n",
        "\\theta = \\lbrace P(V_i) \\rbrace_{i=1,2,3} \\cup \\lbrace P(k|V_i) \\rbrace_{i=1,2,3,4; \\; k=0,1},\n",
        "\\end{equation}\n",
        "where the first three parameters are the probability of choosing the respective V gene and $p(V_4)$ is obtained from normalization.\n",
        "Then we have, for each V gene, two parameters for the deletion of $0$ or $1$ nucleotide ($p(2 | V_i)$ is given by normalization).\n",
        "Therefore we have a total of 11 parameters.\n",
        "\n",
        "The parameters and the likelihood are connected by the fact that each sequence can be generated from a given set of scenarios (given by the table above) and that we know the probabilities of the scenarios.\n",
        "We use the notation $s$ to indicate a specific scenario, which, more precisely, is defined as a pair $s = (V_i, k)$ of the V gene $V_i$ with $k$ deletions.\n",
        "Moreover we indicate with $\\mathcal{S}(x)$ the list of scenarios that lead to the sequence $x$.\n",
        "\\begin{equation}\n",
        "P(x_i|\\vec{\\theta}) = \\sum_{s \\in \\mathcal{S}(x)} P(s|\\vec{\\theta}) = \\sum_{(V_i, k) \\in \\mathcal{S}(x)} P(V_i) P(k | V_i).\n",
        "\\end{equation}\n",
        "$P(V_i)$ and $P(k | V_i)$ can be directly read from the parameter list $\\theta$.\n",
        "For example, the sequence $x = T$ have probability $P('T') = P(V_1) * P(2 | V_1) + P(V_2) * P(2 | V_2)$."
      ],
      "metadata": {
        "id": "M55L0LrMQT7-"
      }
    },
    {
      "cell_type": "markdown",
      "source": [
        "Below we write a function that evaluates the log-likelihood of the dataset, `seqs`, given the model parameter, `p_V_guess`, `p_del_guess`."
      ],
      "metadata": {
        "id": "lIibVLp_y3o8"
      }
    },
    {
      "cell_type": "code",
      "source": [
        "def log_likelihood(seqs, p_V, p_delV, seq_to_scenarios):\n",
        "  ll = 0\n",
        "  for s, c in seqs.items():\n",
        "    scenes = seq_to_scenarios.loc[s]\n",
        "    p_seq = 0\n",
        "    for i in range(len(scenes['scenario id'])):\n",
        "      iV, id = scenes['V index'][i]-1, scenes['deletions'][i]\n",
        "      p_seq += p_V[iV] * p_delV[iV][id]\n",
        "    ll += c * np.log(p_seq)\n",
        "  return ll\n",
        "\n",
        "# Evaluating the likelihood of uniform guesses of the paramters (all equal for \n",
        "# all V genes and deletions)\n",
        "p_V_rand = np.ones(len(V_list)) / len(V_list)\n",
        "p_delV_rand = np.ones((len(V_list), 3)) / 3\n",
        "rand_like = log_likelihood(data_seqs, p_V_rand, p_delV_rand, seq_to_scenarios)\n",
        "print('Likelyhood of uniform guesses', rand_like)\n",
        "\n",
        "\n",
        "# Evaluating the likelihood of the true parameters\n",
        "p_V_true_l = list(p_V_true.values())\n",
        "p_delV_true_l = p_delV_true.to_numpy()\n",
        "true_like = log_likelihood(data_seqs, p_V_true_l, p_delV_true_l, seq_to_scenarios)\n",
        "print('\"Maximum\" likelihood of true parameters', true_like)"
      ],
      "metadata": {
        "colab": {
          "base_uri": "https://localhost:8080/"
        },
        "id": "1V11AWlTy3Iq",
        "outputId": "312a7a4f-8cc0-41b9-c4d5-aabf6f45a023"
      },
      "execution_count": 14,
      "outputs": [
        {
          "output_type": "stream",
          "name": "stdout",
          "text": [
            "Likelyhood of uniform guesses -10679.48566147703\n",
            "\"Maximum\" likelihood of true parameters -10103.399682148673\n"
          ]
        }
      ]
    },
    {
      "cell_type": "markdown",
      "source": [
        "Of course we do not know the true values of the parameters and we want to recover them in our inference scheme that aims to maximixe the likelihood.\n",
        "\n",
        "\n",
        "\n",
        "The maximization algorithm that we will use exploits the structure of our problem: we can identify a set of \"observed\" variables, that are the sequences $\\vec{x}$, and \"latent\" or \"hidden\" variables that are the scenarios, $\\vec{s}$.\n",
        "The algorithm is called **expectation-maximization**.\n",
        "The general idea is that we start from a guess of the parameters and a *pseudo-likelihood* is computed using the estimates of the guessed parameters (expectation) and the parameters are then updated by maximizing this pseudo-likelihood (maximization).\n",
        "At the next iteration one uses those new estimates as initial guesses and repeats the two steps.\n",
        "This procedure reaches a fixed point that is an optimum of the original likelihood.\n",
        "The advantage of this procedure is that it is much easier to perform the optimization step on the pseudo-likelihood than the original one, speeding up the overall computation."
      ],
      "metadata": {
        "id": "FHwIS1v70hd8"
      }
    },
    {
      "cell_type": "markdown",
      "source": [
        "\n",
        "In practice this algorithm translates in the quite simple steps shown below.\n",
        "Their derivation and the proof that they maximize the likelihood is discussed in the lecture notes.\n",
        "\n",
        "- Choose an intial guess for $P^{(0)}(V_i)$ and $P^{(0)}(k|V_i)$. We will use uniform probabilities.\n",
        "- Iterate over $k=1, 2, \\ldots$ until convergence:\n",
        "> - given the parameters at the step $k-1$, \n",
        "\\begin{equation}\n",
        "\\theta^{(k-1)} = \\lbrace P^{(k-1)}(V_i) \\rbrace_{i=1,2,3} \\cup \\lbrace P^{(k-1)}(k|V_i) \\rbrace_{i=1,2,3,4; \\; k=0,1} ,\n",
        "\\end{equation}\n",
        "compute the probability of each possible scenario that can generate our sequences\n",
        "\\begin{equation}\n",
        "P(s|\\theta^{(k-1)}) = P((V_i, k)|\\theta^{(k-1)}) = P^{(k-1)}(V_i) P^{(k-1)}(k|V_i)\n",
        "\\end{equation}\n",
        "> - For each unique sequence $x$, compute the probability of generating the sequence\n",
        "\\begin{equation}\n",
        "P(x|\\theta^{(k-1)}) = \\sum_{s \\in \\mathcal{S}(x)} P(s|\\theta^{(k-1)})\n",
        "\\end{equation}\n",
        ">- Update the parameters as an average computed with respect to $\\theta^{(k-1)}$.\n",
        "\\begin{equation}\n",
        "P^{(k)}(V_i) = \\sum_x \\frac{n_x}{N} \\sum_{(V_j, k) \\in \\mathcal{S}(x)} \\delta_{V_i, V_j} \\frac{P((V_i, k)|\\theta^{(k-1)})}{P(x|\\theta^{(k-1)})}\n",
        "\\end{equation}\n",
        "\\begin{equation}\n",
        "P^{(k)}(k|V_i) = \\frac{1}{P^{(k)}(V_i)} \\sum_x \\frac{n_x}{N} \\sum_{(V_j, l) \\in \\mathcal{S}(x)} \\delta_{V_i, V_j} \\delta_{k, l} \\frac{P((V_i, k)|\\theta^{(k-1)})}{P(x|\\theta^{(k-1)})}\n",
        "\\end{equation}\n",
        ">- Compute some measure of distance between the parameters at step $k$ and at $k-1$. If the distance is smaller than a threshold, stop the iteration."
      ],
      "metadata": {
        "id": "ILRIc2Xe54Xx"
      }
    },
    {
      "cell_type": "code",
      "source": [
        "def EM_step(p_V_guess, p_delV_guess, seqs, scenarios, seq_to_scenarios):\n",
        "  \"\"\"\n",
        "  Single step of the Expectation-Maximization algorithm.\n",
        "  \"\"\"\n",
        "\n",
        "  N_tot = seqs.sum()\n",
        "\n",
        "  # Building the scenario probabilities\n",
        "  p_scenarios = np.zeros(len(scenarios))\n",
        "  for i, scenario in scenarios.iterrows():\n",
        "    iV = scenario['V index'] - 1\n",
        "    k = scenario['deletions']\n",
        "    p_scenarios[i] = p_V_guess[iV] * p_delV_guess[iV][k]\n",
        "\n",
        "  # Building the probability of generating a sequence\n",
        "  p_seqs = dict()\n",
        "  for s, scenarios_of_s in seq_to_scenarios.iterrows():\n",
        "    p_seqs[s] = 0\n",
        "    for i in scenarios_of_s['scenario id']:\n",
        "      p_seqs[s] += p_scenarios[i]\n",
        "\n",
        "  # Updating the parameters\n",
        "  p_V_new, p_delV_new = np.zeros(len(p_V_guess)), np.zeros((len(p_V_guess), len(p_delV_guess[0])))\n",
        "  for s, scenarios_of_s in seq_to_scenarios.iterrows():\n",
        "    nx = seqs.loc[s]\n",
        "    px = p_seqs[s]\n",
        "    for i in range(len(scenarios_of_s['scenario id'])):\n",
        "      iV = scenarios_of_s['V index'][i] - 1\n",
        "      k = scenarios_of_s['deletions'][i]\n",
        "      i_scen = scenarios_of_s['scenario id'][i]\n",
        "      p_V_new[iV] += nx * p_scenarios[i_scen] / px\n",
        "      p_delV_new[iV][k] += nx * p_scenarios[i_scen] / px\n",
        "  # Renormalizing\n",
        "  p_V_new /= N_tot\n",
        "  p_delV_new /= (p_V_new[:,np.newaxis] * N_tot)\n",
        "\n",
        "  return p_V_new, p_delV_new"
      ],
      "metadata": {
        "id": "WngEhNT-t0dS"
      },
      "execution_count": 15,
      "outputs": []
    },
    {
      "cell_type": "code",
      "source": [
        "def EM_alg(p_V_guess, p_delV_guess, data_seqs, scenarios, seq_to_scenarios):\n",
        "\n",
        "  for i in range(10):\n",
        "\n",
        "    # EM_step that recomputes the parameters\n",
        "    p_V_new, p_delV_new = EM_step(p_V_guess, p_delV_guess, data_seqs, scenarios, seq_to_scenarios)\n",
        "    \n",
        "    # Quadratic distance between the probabilities of P_V\n",
        "    delta = np.sqrt(np.sum((p_V_new - p_V_guess)**2))\n",
        "    if delta < 1e-6: # Break at convergence\n",
        "      break  \n",
        "    \n",
        "    p_V_guess, p_delV_guess = np.copy(p_V_new), np.copy(p_delV_new)\n",
        "\n",
        "  return p_V_guess, p_delV_guess"
      ],
      "metadata": {
        "id": "Lvrwn8jLOHry"
      },
      "execution_count": 16,
      "outputs": []
    },
    {
      "cell_type": "code",
      "source": [
        "# Uniform initial guesses\n",
        "p_V_guess = np.ones(len(V_list)) / len(V_list)\n",
        "p_delV_guess = np.ones((len(V_list), 3)) / 3\n",
        "\n",
        "for i in range(10):\n",
        "\n",
        "  # EM_step that recomputes the parameters\n",
        "  p_V_new, p_delV_new = EM_step(p_V_guess, p_delV_guess, data_seqs, scenarios, seq_to_scenarios)\n",
        "  \n",
        "  # Quadratic distance between the probabilities of P_V\n",
        "  delta = np.sqrt(np.sum((p_V_new - p_V_guess)**2))\n",
        "  if delta < 1e-6: # Break at convergence\n",
        "    break  \n",
        "  \n",
        "  p_V_guess, p_delV_guess = np.copy(p_V_new), np.copy(p_delV_new)"
      ],
      "metadata": {
        "id": "nVdh6qoTfrI5"
      },
      "execution_count": 17,
      "outputs": []
    },
    {
      "cell_type": "markdown",
      "source": [
        "The algorithm should converge in a couple of iterations, leading to our inferred set of parameters `p_V_new` and `p_delV_new`."
      ],
      "metadata": {
        "id": "Z-gUmr_Sj3EM"
      }
    },
    {
      "cell_type": "code",
      "source": [
        "s_true = pd.Series(p_V_true, name='P_V true')\n",
        "s_guess = pd.Series(p_V_new, V_list, name='P_V inferred')\n",
        "frame_compare = pd.merge(s_true, s_guess, left_index=True, right_index=True)\n",
        "frame_compare['delta'] = np.abs(frame_compare['P_V true'] - frame_compare['P_V inferred']) / len(frame_compare)\n",
        "print('Error:', np.sum(frame_compare['delta']))\n",
        "\n",
        "frame_compare[['P_V true', 'P_V inferred']].plot(kind='bar')\n",
        "plt.ylabel('probability')\n",
        "\n",
        "plt.savefig('P_V_indeferece_comparison.svg')"
      ],
      "metadata": {
        "colab": {
          "base_uri": "https://localhost:8080/",
          "height": 473
        },
        "id": "yORtoAkAbpsL",
        "outputId": "0cfb3c7d-9432-43c3-a0b5-1b566bc9a2a7"
      },
      "execution_count": 18,
      "outputs": [
        {
          "output_type": "stream",
          "name": "stdout",
          "text": [
            "Error: 0.009959646774207825\n"
          ]
        },
        {
          "output_type": "display_data",
          "data": {
            "text/plain": [
              "<Figure size 640x480 with 1 Axes>"
            ],
            "image/png": "[encoded data removed]"
          },
          "metadata": {}
        }
      ]
    },
    {
      "cell_type": "code",
      "source": [
        "plt.ylabel('log-likelihood')\n",
        "offs = rand_like - (true_like - rand_like)/5\n",
        "guess_like = log_likelihood(data_seqs, p_V_new, p_delV_new, seq_to_scenarios)\n",
        "likes = np.array([rand_like, guess_like, true_like])\n",
        "plt.bar([0,1,2], likes - offs, tick_label=['random', 'inferred', 'true'], bottom = offs)\n",
        "\n",
        "plt.savefig('likelihood_comparison.svg')"
      ],
      "metadata": {
        "id": "SXpE9K9hxTDA",
        "colab": {
          "base_uri": "https://localhost:8080/",
          "height": 430
        },
        "outputId": "2d7c4fbc-71c5-49d5-d000-9f204e6968b6"
      },
      "execution_count": 19,
      "outputs": [
        {
          "output_type": "display_data",
          "data": {
            "text/plain": [
              "<Figure size 640x480 with 1 Axes>"
            ],
            "image/png": "[encoded data removed]"
          },
          "metadata": {}
        }
      ]
    },
    {
      "cell_type": "markdown",
      "source": [
        "### Exercises 1\n",
        "Try the algorithm with different numbers $N$ of the samples. How the difference with the true parameters change? Do they follow the $1/\\sqrt{N}$ scaling?"
      ],
      "metadata": {
        "id": "rRwmFKtKRYIp"
      }
    },
    {
      "cell_type": "code",
      "source": [
        "Ns = np.logspace(1.7,5,100)\n",
        "p_V_guess = np.ones(len(V_list)) / len(V_list)\n",
        "p_delV_guess = np.ones((len(V_list), 3)) / 3\n",
        "\n",
        "deltas = []\n",
        "for i, N in enumerate(Ns):\n",
        "  data_seqs = generate_data(p_V_true, p_delV_true, N)\n",
        "  p_V, p_delV = EM_alg(p_V_guess, p_delV_guess, data_seqs, scenarios, seq_to_scenarios)\n",
        "  deltas.append(np.sqrt(np.sum((p_V - p_V_dist)**2)))"
      ],
      "metadata": {
        "id": "LoSAnL1qOEDa"
      },
      "execution_count": 20,
      "outputs": []
    },
    {
      "cell_type": "code",
      "source": [
        "plt.xscale('log')\n",
        "plt.yscale('log')\n",
        "plt.xlabel('N')\n",
        "plt.ylabel('Error on $P(V)$')\n",
        "\n",
        "plt.ylim(0.01,0.15)\n",
        "plt.plot(Ns, deltas)\n",
        "plt.plot(Ns, Ns**(-0.5), label=r'$N^{-1/2}$')\n",
        "plt.legend()"
      ],
      "metadata": {
        "colab": {
          "base_uri": "https://localhost:8080/",
          "height": 471
        },
        "id": "kuV3PQyrPQx2",
        "outputId": "50304e19-60db-4951-a8c6-5302d6fd49bc"
      },
      "execution_count": 21,
      "outputs": [
        {
          "output_type": "execute_result",
          "data": {
            "text/plain": [
              "<matplotlib.legend.Legend at 0x7fd121a55d80>"
            ]
          },
          "metadata": {},
          "execution_count": 21
        },
        {
          "output_type": "display_data",
          "data": {
            "text/plain": [
              "<Figure size 640x480 with 1 Axes>"
            ],
            "image/png": "[encoded data removed]"
          },
          "metadata": {}
        }
      ]
    },
    {
      "cell_type": "markdown",
      "source": [
        "### Exercises 2\n",
        "Try the algorithm with different initial conditions/guesses. Do they attain the same value of likelihood at the maximum? Do they have the same values of parameter estimates?"
      ],
      "metadata": {
        "id": "hab9FF-KGHr-"
      }
    },
    {
      "cell_type": "code",
      "source": [
        "p_delV_guess = np.ones((len(V_list), 3)) / 3\n",
        "N = 100000\n",
        "data_seqs = generate_data(p_V_true, p_delV_true, N)\n",
        "\n",
        "p_Vs, p_delVs = [], []\n",
        "for i in range(4):\n",
        "  p_V_guess = np.random.rand(4)\n",
        "  p_V_guess /= p_V_guess.sum()\n",
        "  p_V, p_delV = EM_alg(p_V_guess, p_delV_guess, data_seqs, scenarios, seq_to_scenarios)\n",
        "  p_Vs.append(p_V)\n",
        "  p_delVs.append(p_delV)"
      ],
      "metadata": {
        "id": "hRrWjPU5Gk2l"
      },
      "execution_count": 24,
      "outputs": []
    },
    {
      "cell_type": "code",
      "source": [
        "frame_compare = pd.DataFrame(pd.Series(p_V_true, name='P_V true'))\n",
        "\n",
        "for i in range(len(p_Vs)):\n",
        "  s_guess = pd.Series(p_Vs[i], V_list, name='P_V inferred %i'%i)\n",
        "  frame_compare = pd.merge(frame_compare, s_guess, left_index=True, right_index=True)\n",
        "\n",
        "frame_compare.plot(kind='bar')\n",
        "plt.ylabel('probability')"
      ],
      "metadata": {
        "colab": {
          "base_uri": "https://localhost:8080/",
          "height": 474
        },
        "id": "LQcQ9dnDSCYD",
        "outputId": "37ccd12f-5c9d-498e-bf16-cfd152ed7401"
      },
      "execution_count": 25,
      "outputs": [
        {
          "output_type": "execute_result",
          "data": {
            "text/plain": [
              "Text(0, 0.5, 'probability')"
            ]
          },
          "metadata": {},
          "execution_count": 25
        },
        {
          "output_type": "display_data",
          "data": {
            "text/plain": [
              "<Figure size 640x480 with 1 Axes>"
            ],
            "image/png": "[encoded data removed]"
          },
          "metadata": {}
        }
      ]
    },
    {
      "cell_type": "code",
      "source": [
        "plt.ylabel('log-likelihood')\n",
        "rand_like = log_likelihood(data_seqs, p_V_guess, p_delV_guess, seq_to_scenarios)\n",
        "true_like = log_likelihood(data_seqs, p_V_dist, p_delV_true_l, seq_to_scenarios)\n",
        "offs = rand_like - (true_like - rand_like)/5\n",
        "\n",
        "guess_likes = [log_likelihood(data_seqs, p_Vs[i], p_delVs[i], seq_to_scenarios) for i in range(len(p_Vs))]\n",
        "likes = np.append(rand_like, guess_likes)\n",
        "labels = np.append('rand', ['infer %i'%(i+1) for i in np.arange(len(p_Vs))]) \n",
        "likes = np.append(likes, true_like)\n",
        "labels = np.append(labels, 'true')\n",
        "\n",
        "plt.bar(np.arange(len(guess_likes) + 2), likes - offs, bottom = offs, tick_label=labels)"
      ],
      "metadata": {
        "id": "2auMg3STZfeI",
        "colab": {
          "base_uri": "https://localhost:8080/",
          "height": 447
        },
        "outputId": "0dccace3-e33b-4832-a0da-bb14e03d8a4e"
      },
      "execution_count": 26,
      "outputs": [
        {
          "output_type": "execute_result",
          "data": {
            "text/plain": [
              "<BarContainer object of 6 artists>"
            ]
          },
          "metadata": {},
          "execution_count": 26
        },
        {
          "output_type": "display_data",
          "data": {
            "text/plain": [
              "<Figure size 640x480 with 1 Axes>"
            ],
            "image/png": "[encoded data removed]"
          },
          "metadata": {}
        }
      ]
    },
    {
      "cell_type": "code",
      "source": [],
      "metadata": {
        "id": "zn0G3x_LMdO2"
      },
      "execution_count": null,
      "outputs": []
    }
  ]
}