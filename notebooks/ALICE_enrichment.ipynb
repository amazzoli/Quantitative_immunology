{
  "nbformat": 4,
  "nbformat_minor": 0,
  "metadata": {
    "colab": {
      "provenance": [],
      "authorship_tag": "ABX9TyOpkMXlirSKoZBxiVAxOCKK",
      "include_colab_link": true
    },
    "kernelspec": {
      "name": "python3",
      "display_name": "Python 3"
    },
    "language_info": {
      "name": "python"
    }
  },
  "cells": [
    {
      "cell_type": "markdown",
      "metadata": {
        "id": "view-in-github",
        "colab_type": "text"
      },
      "source": [
        "<a href=\"https://colab.research.google.com/github/amazzoli/Quantitative_immunology/blob/main/notebooks/ALICE_enrichment.ipynb\" target=\"_parent\"><img src=\"https://colab.research.google.com/assets/colab-badge.svg\" alt=\"Open In Colab\"/></a>"
      ]
    },
    {
      "cell_type": "code",
      "execution_count": 2,
      "metadata": {
        "id": "HWc8zzvFc3XS"
      },
      "outputs": [],
      "source": [
        "import numpy as np\n",
        "import pandas as pd\n",
        "import matplotlib.pyplot as plt\n",
        "from scipy.stats import poisson"
      ]
    },
    {
      "cell_type": "code",
      "source": [
        "%%bash\n",
        "git clone https://github.com/amazzoli/Quantitative_immunology.git"
      ],
      "metadata": {
        "colab": {
          "base_uri": "https://localhost:8080/"
        },
        "id": "PoDpvX1jgBDa",
        "outputId": "e0db410c-98ee-4755-be3f-0ac7f363918d"
      },
      "execution_count": 4,
      "outputs": [
        {
          "output_type": "stream",
          "name": "stderr",
          "text": [
            "Cloning into 'Quantitative_immunology'...\n"
          ]
        }
      ]
    },
    {
      "cell_type": "markdown",
      "source": [
        "# Finding the clusters of clonotypes significantly expanded\n",
        "\n",
        "Given a sample of clonotype sequences we want to find which clonotypes (and their neighbours) are potentially interacting with a pathogen or a vaccine.\n",
        "To this end, here we implement the ideas at the base of the bioinformatic tool ALICE, https://github.com/pogorely/ALICE.\n",
        "\n",
        "This algorithm computes a null model for the nummber of nearest neighbours that each amino-acid sequence of a receptor is expected to have, according to a random process that generates sequences with a probability $P_{gen}$, obtained through the modelling of the VDJ recombination.\n",
        "\n",
        "One can compute (see lecture notes) that the probability of having $d$ neighbours of a sequence $x$ is:\n",
        "\\begin{equation}\n",
        "P(d|x) = \\frac{e^{-\\lambda} λ^d}{d!} \\hspace{0.5cm} \\text{ where } λ = N Q \\sum_{x'\\in \\mathcal{N}(x)} P_{gen}(x)\n",
        "\\end{equation}\n",
        "where $N$ is the number of sequences in the dataset and $Q$ is a factor correcting for the thymic selection of the receptor."
      ],
      "metadata": {
        "id": "7c-lBmz0dOEN"
      }
    },
    {
      "cell_type": "markdown",
      "source": [
        "### Computing λ\n",
        "Let us first compute the value of lambda for each sequence, given the table in which we previously computed $\\sum_{x'\\in \\mathcal{N}(x)} P_{gen}(x)$"
      ],
      "metadata": {
        "id": "HnddcipHfk7l"
      }
    },
    {
      "cell_type": "code",
      "source": [
        "data_folder = 'Quantitative_immunology/data/'\n",
        "frame = pd.read_csv(data_folder+'sequences_pgen_neigh.tsv', sep='\\t', index_col=0)"
      ],
      "metadata": {
        "id": "gIkp7_GUfZU2"
      },
      "execution_count": 24,
      "outputs": []
    },
    {
      "cell_type": "code",
      "source": [
        "# Total number of sequences\n",
        "N = len(frame)\n",
        "\n",
        "# Estimated value of Q\n",
        "Q = 9.41\n",
        "\n",
        "# Keeping only sequences with more than 2 neighbours, for which the neighbour pgen \n",
        "# have been computed\n",
        "frame = frame[frame['n_neigh'] > 2]\n",
        "# Collapsing together sequences with the same amino-acid sequence\n",
        "frame = frame.groupby('CDR3_aa').agg('first')\n",
        "# Keeping only the fields relevant for the analysis\n",
        "frame = frame[['Pgen_neigh', 'n_neigh']]"
      ],
      "metadata": {
        "id": "ybl62WE6f-J-"
      },
      "execution_count": 25,
      "outputs": []
    },
    {
      "cell_type": "code",
      "source": [
        "frame['N_neigh_expected'] = frame['Pgen_neigh'] * N * Q\n",
        "frame"
      ],
      "metadata": {
        "colab": {
          "base_uri": "https://localhost:8080/",
          "height": 455
        },
        "id": "H4dzEzLpglz4",
        "outputId": "4ce8f679-2e09-41aa-9963-12fb898f3e39"
      },
      "execution_count": 26,
      "outputs": [
        {
          "output_type": "execute_result",
          "data": {
            "text/plain": [
              "                 Pgen_neigh  n_neigh  N_neigh_expected\n",
              "CDR3_aa                                               \n",
              "CAAGGSSYNEQFF  1.718038e-06        3          2.880540\n",
              "CAAGSQETQYF    1.179575e-06        4          1.977729\n",
              "CAAGTDTQYF     5.353817e-06        3          8.976454\n",
              "CAARGSGANVLTF  1.601421e-06        3          2.685016\n",
              "CAARRDSNYGYTF  1.345133e-07        3          0.225531\n",
              "...                     ...      ...               ...\n",
              "CSVVTSGYNEQFF  2.867936e-07        3          0.480851\n",
              "CSVVVGGTEAFF   1.536127e-07        4          0.257554\n",
              "CSVVYNEQFF     1.242920e-06        3          2.083937\n",
              "CSVWGGNTEAFF   9.183833e-07        6          1.539803\n",
              "CSVYGNEQFF     7.994082e-07        3          1.340324\n",
              "\n",
              "[47257 rows x 3 columns]"
            ],
            "text/html": [
              "\n",
              "  <div id=\"df-c167c8c4-1704-4bf0-b051-93928f29c0ca\">\n",
              "    <div class=\"colab-df-container\">\n",
              "      <div>\n",
              "<style scoped>\n",
              "    .dataframe tbody tr th:only-of-type {\n",
              "        vertical-align: middle;\n",
              "    }\n",
              "\n",
              "    .dataframe tbody tr th {\n",
              "        vertical-align: top;\n",
              "    }\n",
              "\n",
              "    .dataframe thead th {\n",
              "        text-align: right;\n",
              "    }\n",
              "</style>\n",
              "<table border=\"1\" class=\"dataframe\">\n",
              "  <thead>\n",
              "    <tr style=\"text-align: right;\">\n",
              "      <th></th>\n",
              "      <th>Pgen_neigh</th>\n",
              "      <th>n_neigh</th>\n",
              "      <th>N_neigh_expected</th>\n",
              "    </tr>\n",
              "    <tr>\n",
              "      <th>CDR3_aa</th>\n",
              "      <th></th>\n",
              "      <th></th>\n",
              "      <th></th>\n",
              "    </tr>\n",
              "  </thead>\n",
              "  <tbody>\n",
              "    <tr>\n",
              "      <th>CAAGGSSYNEQFF</th>\n",
              "      <td>1.718038e-06</td>\n",
              "      <td>3</td>\n",
              "      <td>2.880540</td>\n",
              "    </tr>\n",
              "    <tr>\n",
              "      <th>CAAGSQETQYF</th>\n",
              "      <td>1.179575e-06</td>\n",
              "      <td>4</td>\n",
              "      <td>1.977729</td>\n",
              "    </tr>\n",
              "    <tr>\n",
              "      <th>CAAGTDTQYF</th>\n",
              "      <td>5.353817e-06</td>\n",
              "      <td>3</td>\n",
              "      <td>8.976454</td>\n",
              "    </tr>\n",
              "    <tr>\n",
              "      <th>CAARGSGANVLTF</th>\n",
              "      <td>1.601421e-06</td>\n",
              "      <td>3</td>\n",
              "      <td>2.685016</td>\n",
              "    </tr>\n",
              "    <tr>\n",
              "      <th>CAARRDSNYGYTF</th>\n",
              "      <td>1.345133e-07</td>\n",
              "      <td>3</td>\n",
              "      <td>0.225531</td>\n",
              "    </tr>\n",
              "    <tr>\n",
              "      <th>...</th>\n",
              "      <td>...</td>\n",
              "      <td>...</td>\n",
              "      <td>...</td>\n",
              "    </tr>\n",
              "    <tr>\n",
              "      <th>CSVVTSGYNEQFF</th>\n",
              "      <td>2.867936e-07</td>\n",
              "      <td>3</td>\n",
              "      <td>0.480851</td>\n",
              "    </tr>\n",
              "    <tr>\n",
              "      <th>CSVVVGGTEAFF</th>\n",
              "      <td>1.536127e-07</td>\n",
              "      <td>4</td>\n",
              "      <td>0.257554</td>\n",
              "    </tr>\n",
              "    <tr>\n",
              "      <th>CSVVYNEQFF</th>\n",
              "      <td>1.242920e-06</td>\n",
              "      <td>3</td>\n",
              "      <td>2.083937</td>\n",
              "    </tr>\n",
              "    <tr>\n",
              "      <th>CSVWGGNTEAFF</th>\n",
              "      <td>9.183833e-07</td>\n",
              "      <td>6</td>\n",
              "      <td>1.539803</td>\n",
              "    </tr>\n",
              "    <tr>\n",
              "      <th>CSVYGNEQFF</th>\n",
              "      <td>7.994082e-07</td>\n",
              "      <td>3</td>\n",
              "      <td>1.340324</td>\n",
              "    </tr>\n",
              "  </tbody>\n",
              "</table>\n",
              "<p>47257 rows × 3 columns</p>\n",
              "</div>\n",
              "      <button class=\"colab-df-convert\" onclick=\"convertToInteractive('df-c167c8c4-1704-4bf0-b051-93928f29c0ca')\"\n",
              "              title=\"Convert this dataframe to an interactive table.\"\n",
              "              style=\"display:none;\">\n",
              "        \n",
              "  <svg xmlns=\"http://www.w3.org/2000/svg\" height=\"24px\"viewBox=\"0 0 24 24\"\n",
              "       width=\"24px\">\n",
              "    <path d=\"M0 0h24v24H0V0z\" fill=\"none\"/>\n",
              "    <path d=\"M18.56 5.44l.94 2.06.94-2.06 2.06-.94-2.06-.94-.94-2.06-.94 2.06-2.06.94zm-11 1L8.5 8.5l.94-2.06 2.06-.94-2.06-.94L8.5 2.5l-.94 2.06-2.06.94zm10 10l.94 2.06.94-2.06 2.06-.94-2.06-.94-.94-2.06-.94 2.06-2.06.94z\"/><path d=\"M17.41 7.96l-1.37-1.37c-.4-.4-.92-.59-1.43-.59-.52 0-1.04.2-1.43.59L10.3 9.45l-7.72 7.72c-.78.78-.78 2.05 0 2.83L4 21.41c.39.39.9.59 1.41.59.51 0 1.02-.2 1.41-.59l7.78-7.78 2.81-2.81c.8-.78.8-2.07 0-2.86zM5.41 20L4 18.59l7.72-7.72 1.47 1.35L5.41 20z\"/>\n",
              "  </svg>\n",
              "      </button>\n",
              "      \n",
              "  <style>\n",
              "    .colab-df-container {\n",
              "      display:flex;\n",
              "      flex-wrap:wrap;\n",
              "      gap: 12px;\n",
              "    }\n",
              "\n",
              "    .colab-df-convert {\n",
              "      background-color: #E8F0FE;\n",
              "      border: none;\n",
              "      border-radius: 50%;\n",
              "      cursor: pointer;\n",
              "      display: none;\n",
              "      fill: #1967D2;\n",
              "      height: 32px;\n",
              "      padding: 0 0 0 0;\n",
              "      width: 32px;\n",
              "    }\n",
              "\n",
              "    .colab-df-convert:hover {\n",
              "      background-color: #E2EBFA;\n",
              "      box-shadow: 0px 1px 2px rgba(60, 64, 67, 0.3), 0px 1px 3px 1px rgba(60, 64, 67, 0.15);\n",
              "      fill: #174EA6;\n",
              "    }\n",
              "\n",
              "    [theme=dark] .colab-df-convert {\n",
              "      background-color: #3B4455;\n",
              "      fill: #D2E3FC;\n",
              "    }\n",
              "\n",
              "    [theme=dark] .colab-df-convert:hover {\n",
              "      background-color: #434B5C;\n",
              "      box-shadow: 0px 1px 3px 1px rgba(0, 0, 0, 0.15);\n",
              "      filter: drop-shadow(0px 1px 2px rgba(0, 0, 0, 0.3));\n",
              "      fill: #FFFFFF;\n",
              "    }\n",
              "  </style>\n",
              "\n",
              "      <script>\n",
              "        const buttonEl =\n",
              "          document.querySelector('#df-c167c8c4-1704-4bf0-b051-93928f29c0ca button.colab-df-convert');\n",
              "        buttonEl.style.display =\n",
              "          google.colab.kernel.accessAllowed ? 'block' : 'none';\n",
              "\n",
              "        async function convertToInteractive(key) {\n",
              "          const element = document.querySelector('#df-c167c8c4-1704-4bf0-b051-93928f29c0ca');\n",
              "          const dataTable =\n",
              "            await google.colab.kernel.invokeFunction('convertToInteractive',\n",
              "                                                     [key], {});\n",
              "          if (!dataTable) return;\n",
              "\n",
              "          const docLinkHtml = 'Like what you see? Visit the ' +\n",
              "            '<a target=\"_blank\" href=https://colab.research.google.com/notebooks/data_table.ipynb>data table notebook</a>'\n",
              "            + ' to learn more about interactive tables.';\n",
              "          element.innerHTML = '';\n",
              "          dataTable['output_type'] = 'display_data';\n",
              "          await google.colab.output.renderOutput(dataTable, element);\n",
              "          const docLink = document.createElement('div');\n",
              "          docLink.innerHTML = docLinkHtml;\n",
              "          element.appendChild(docLink);\n",
              "        }\n",
              "      </script>\n",
              "    </div>\n",
              "  </div>\n",
              "  "
            ]
          },
          "metadata": {},
          "execution_count": 26
        }
      ]
    },
    {
      "cell_type": "markdown",
      "source": [
        "### Computing the p-value for having more neighbours than expected by chance\n",
        "\n",
        "The p value is the probability that a sequence of our null model has the same or a larger number of nearest neighbours.\n",
        "If a sequence $x$ has $d(x)$ neighbours, its p-value is\n",
        "\\begin{equation}\n",
        "p_v (x) = \\sum_{d' \\ge d(x)} P(d'|x) = 1 - \\text{cdf}(d(x)|x),\n",
        "\\end{equation}\n",
        "where in the second expression we have $\\text{cdf}(d|x)$ as the cumulative distribution of $P(d|x)$.\n",
        "This allows us to cumpute fastly the summation over d, since the cumulative of the Poissonian is contained in a python function."
      ],
      "metadata": {
        "id": "W-mY-7TdhOrJ"
      }
    },
    {
      "cell_type": "code",
      "source": [
        "def compute_p_val(row):\n",
        "    lambd = row['N_neigh_expected']\n",
        "    # The p-value can be obtained with the poisson cdf\n",
        "    row['p_val'] = 1 - poisson.cdf(row['n_neigh'], lambd)\n",
        "    return row\n",
        "\n",
        "# This operation will take a few minutes\n",
        "frame = frame.apply(compute_p_val, axis=1)"
      ],
      "metadata": {
        "id": "lllyPWmFgyFU"
      },
      "execution_count": 27,
      "outputs": []
    },
    {
      "cell_type": "code",
      "source": [
        "frame"
      ],
      "metadata": {
        "colab": {
          "base_uri": "https://localhost:8080/",
          "height": 455
        },
        "id": "xhHC9-univ6U",
        "outputId": "975f024d-b6c4-4888-e3c7-c4ca53c7af70"
      },
      "execution_count": 28,
      "outputs": [
        {
          "output_type": "execute_result",
          "data": {
            "text/plain": [
              "                 Pgen_neigh  n_neigh  N_neigh_expected     p_val\n",
              "CDR3_aa                                                         \n",
              "CAAGGSSYNEQFF  1.718038e-06      3.0          2.880540  0.326026\n",
              "CAAGSQETQYF    1.179575e-06      4.0          1.977729  0.050666\n",
              "CAAGTDTQYF     5.353817e-06      3.0          8.976454  0.978418\n",
              "CAARGSGANVLTF  1.601421e-06      3.0          2.685016  0.282607\n",
              "CAARRDSNYGYTF  1.345133e-07      3.0          0.225531  0.000090\n",
              "...                     ...      ...               ...       ...\n",
              "CSVVTSGYNEQFF  2.867936e-07      3.0          0.480851  0.001521\n",
              "CSVVVGGTEAFF   1.536127e-07      4.0          0.257554  0.000008\n",
              "CSVVYNEQFF     1.242920e-06      3.0          2.083937  0.158332\n",
              "CSVWGGNTEAFF   9.183833e-07      6.0          1.539803  0.001075\n",
              "CSVYGNEQFF     7.994082e-07      3.0          1.340324  0.047225\n",
              "\n",
              "[47257 rows x 4 columns]"
            ],
            "text/html": [
              "\n",
              "  <div id=\"df-d4dc4820-508b-4278-96ba-41c3d2e4f275\">\n",
              "    <div class=\"colab-df-container\">\n",
              "      <div>\n",
              "<style scoped>\n",
              "    .dataframe tbody tr th:only-of-type {\n",
              "        vertical-align: middle;\n",
              "    }\n",
              "\n",
              "    .dataframe tbody tr th {\n",
              "        vertical-align: top;\n",
              "    }\n",
              "\n",
              "    .dataframe thead th {\n",
              "        text-align: right;\n",
              "    }\n",
              "</style>\n",
              "<table border=\"1\" class=\"dataframe\">\n",
              "  <thead>\n",
              "    <tr style=\"text-align: right;\">\n",
              "      <th></th>\n",
              "      <th>Pgen_neigh</th>\n",
              "      <th>n_neigh</th>\n",
              "      <th>N_neigh_expected</th>\n",
              "      <th>p_val</th>\n",
              "    </tr>\n",
              "    <tr>\n",
              "      <th>CDR3_aa</th>\n",
              "      <th></th>\n",
              "      <th></th>\n",
              "      <th></th>\n",
              "      <th></th>\n",
              "    </tr>\n",
              "  </thead>\n",
              "  <tbody>\n",
              "    <tr>\n",
              "      <th>CAAGGSSYNEQFF</th>\n",
              "      <td>1.718038e-06</td>\n",
              "      <td>3.0</td>\n",
              "      <td>2.880540</td>\n",
              "      <td>0.326026</td>\n",
              "    </tr>\n",
              "    <tr>\n",
              "      <th>CAAGSQETQYF</th>\n",
              "      <td>1.179575e-06</td>\n",
              "      <td>4.0</td>\n",
              "      <td>1.977729</td>\n",
              "      <td>0.050666</td>\n",
              "    </tr>\n",
              "    <tr>\n",
              "      <th>CAAGTDTQYF</th>\n",
              "      <td>5.353817e-06</td>\n",
              "      <td>3.0</td>\n",
              "      <td>8.976454</td>\n",
              "      <td>0.978418</td>\n",
              "    </tr>\n",
              "    <tr>\n",
              "      <th>CAARGSGANVLTF</th>\n",
              "      <td>1.601421e-06</td>\n",
              "      <td>3.0</td>\n",
              "      <td>2.685016</td>\n",
              "      <td>0.282607</td>\n",
              "    </tr>\n",
              "    <tr>\n",
              "      <th>CAARRDSNYGYTF</th>\n",
              "      <td>1.345133e-07</td>\n",
              "      <td>3.0</td>\n",
              "      <td>0.225531</td>\n",
              "      <td>0.000090</td>\n",
              "    </tr>\n",
              "    <tr>\n",
              "      <th>...</th>\n",
              "      <td>...</td>\n",
              "      <td>...</td>\n",
              "      <td>...</td>\n",
              "      <td>...</td>\n",
              "    </tr>\n",
              "    <tr>\n",
              "      <th>CSVVTSGYNEQFF</th>\n",
              "      <td>2.867936e-07</td>\n",
              "      <td>3.0</td>\n",
              "      <td>0.480851</td>\n",
              "      <td>0.001521</td>\n",
              "    </tr>\n",
              "    <tr>\n",
              "      <th>CSVVVGGTEAFF</th>\n",
              "      <td>1.536127e-07</td>\n",
              "      <td>4.0</td>\n",
              "      <td>0.257554</td>\n",
              "      <td>0.000008</td>\n",
              "    </tr>\n",
              "    <tr>\n",
              "      <th>CSVVYNEQFF</th>\n",
              "      <td>1.242920e-06</td>\n",
              "      <td>3.0</td>\n",
              "      <td>2.083937</td>\n",
              "      <td>0.158332</td>\n",
              "    </tr>\n",
              "    <tr>\n",
              "      <th>CSVWGGNTEAFF</th>\n",
              "      <td>9.183833e-07</td>\n",
              "      <td>6.0</td>\n",
              "      <td>1.539803</td>\n",
              "      <td>0.001075</td>\n",
              "    </tr>\n",
              "    <tr>\n",
              "      <th>CSVYGNEQFF</th>\n",
              "      <td>7.994082e-07</td>\n",
              "      <td>3.0</td>\n",
              "      <td>1.340324</td>\n",
              "      <td>0.047225</td>\n",
              "    </tr>\n",
              "  </tbody>\n",
              "</table>\n",
              "<p>47257 rows × 4 columns</p>\n",
              "</div>\n",
              "      <button class=\"colab-df-convert\" onclick=\"convertToInteractive('df-d4dc4820-508b-4278-96ba-41c3d2e4f275')\"\n",
              "              title=\"Convert this dataframe to an interactive table.\"\n",
              "              style=\"display:none;\">\n",
              "        \n",
              "  <svg xmlns=\"http://www.w3.org/2000/svg\" height=\"24px\"viewBox=\"0 0 24 24\"\n",
              "       width=\"24px\">\n",
              "    <path d=\"M0 0h24v24H0V0z\" fill=\"none\"/>\n",
              "    <path d=\"M18.56 5.44l.94 2.06.94-2.06 2.06-.94-2.06-.94-.94-2.06-.94 2.06-2.06.94zm-11 1L8.5 8.5l.94-2.06 2.06-.94-2.06-.94L8.5 2.5l-.94 2.06-2.06.94zm10 10l.94 2.06.94-2.06 2.06-.94-2.06-.94-.94-2.06-.94 2.06-2.06.94z\"/><path d=\"M17.41 7.96l-1.37-1.37c-.4-.4-.92-.59-1.43-.59-.52 0-1.04.2-1.43.59L10.3 9.45l-7.72 7.72c-.78.78-.78 2.05 0 2.83L4 21.41c.39.39.9.59 1.41.59.51 0 1.02-.2 1.41-.59l7.78-7.78 2.81-2.81c.8-.78.8-2.07 0-2.86zM5.41 20L4 18.59l7.72-7.72 1.47 1.35L5.41 20z\"/>\n",
              "  </svg>\n",
              "      </button>\n",
              "      \n",
              "  <style>\n",
              "    .colab-df-container {\n",
              "      display:flex;\n",
              "      flex-wrap:wrap;\n",
              "      gap: 12px;\n",
              "    }\n",
              "\n",
              "    .colab-df-convert {\n",
              "      background-color: #E8F0FE;\n",
              "      border: none;\n",
              "      border-radius: 50%;\n",
              "      cursor: pointer;\n",
              "      display: none;\n",
              "      fill: #1967D2;\n",
              "      height: 32px;\n",
              "      padding: 0 0 0 0;\n",
              "      width: 32px;\n",
              "    }\n",
              "\n",
              "    .colab-df-convert:hover {\n",
              "      background-color: #E2EBFA;\n",
              "      box-shadow: 0px 1px 2px rgba(60, 64, 67, 0.3), 0px 1px 3px 1px rgba(60, 64, 67, 0.15);\n",
              "      fill: #174EA6;\n",
              "    }\n",
              "\n",
              "    [theme=dark] .colab-df-convert {\n",
              "      background-color: #3B4455;\n",
              "      fill: #D2E3FC;\n",
              "    }\n",
              "\n",
              "    [theme=dark] .colab-df-convert:hover {\n",
              "      background-color: #434B5C;\n",
              "      box-shadow: 0px 1px 3px 1px rgba(0, 0, 0, 0.15);\n",
              "      filter: drop-shadow(0px 1px 2px rgba(0, 0, 0, 0.3));\n",
              "      fill: #FFFFFF;\n",
              "    }\n",
              "  </style>\n",
              "\n",
              "      <script>\n",
              "        const buttonEl =\n",
              "          document.querySelector('#df-d4dc4820-508b-4278-96ba-41c3d2e4f275 button.colab-df-convert');\n",
              "        buttonEl.style.display =\n",
              "          google.colab.kernel.accessAllowed ? 'block' : 'none';\n",
              "\n",
              "        async function convertToInteractive(key) {\n",
              "          const element = document.querySelector('#df-d4dc4820-508b-4278-96ba-41c3d2e4f275');\n",
              "          const dataTable =\n",
              "            await google.colab.kernel.invokeFunction('convertToInteractive',\n",
              "                                                     [key], {});\n",
              "          if (!dataTable) return;\n",
              "\n",
              "          const docLinkHtml = 'Like what you see? Visit the ' +\n",
              "            '<a target=\"_blank\" href=https://colab.research.google.com/notebooks/data_table.ipynb>data table notebook</a>'\n",
              "            + ' to learn more about interactive tables.';\n",
              "          element.innerHTML = '';\n",
              "          dataTable['output_type'] = 'display_data';\n",
              "          await google.colab.output.renderOutput(dataTable, element);\n",
              "          const docLink = document.createElement('div');\n",
              "          docLink.innerHTML = docLinkHtml;\n",
              "          element.appendChild(docLink);\n",
              "        }\n",
              "      </script>\n",
              "    </div>\n",
              "  </div>\n",
              "  "
            ]
          },
          "metadata": {},
          "execution_count": 28
        }
      ]
    },
    {
      "cell_type": "markdown",
      "source": [
        "### Correcting for multiple testing\n",
        "\n",
        "The procedure above gives us almost $m ≈ 50000$ p-values and we would like to select the significant ones with a confidence of $α = 0.001$.\n",
        "Of course, it is possible that even if they are all non-significant, just by chance and becaouse we are repeating the measure som many times, some of them are significant.\n",
        "To correct for this effect, i.e. multiple testing, we employ the **Bonferroni correction**, one of the simplest and more popular corrections.\n",
        "It states that we have to consider an effective threshold of confidence that is $α' = α / m$.\n",
        "Equivalently, we can multiply each p-value by $m$ and keep the ones at significance $α$."
      ],
      "metadata": {
        "id": "qaMR2t0ckFnC"
      }
    },
    {
      "cell_type": "code",
      "source": [
        "frame['p_val_bonf'] = frame['p_val'] * len(frame)"
      ],
      "metadata": {
        "id": "Hai83VP_jXfs"
      },
      "execution_count": 29,
      "outputs": []
    },
    {
      "cell_type": "code",
      "source": [
        "alpha = 0.001\n",
        "candidates = frame[frame['p_val_bonf'] < alpha]\n",
        "candidates"
      ],
      "metadata": {
        "colab": {
          "base_uri": "https://localhost:8080/",
          "height": 455
        },
        "id": "wp8mE7EOl1fa",
        "outputId": "5f3fb906-9afc-49ad-a961-07ea5a1d8198"
      },
      "execution_count": 30,
      "outputs": [
        {
          "output_type": "execute_result",
          "data": {
            "text/plain": [
              "                   Pgen_neigh  n_neigh  N_neigh_expected         p_val  \\\n",
              "CDR3_aa                                                                  \n",
              "CASGPGTGVIEQYF   1.819936e-08      4.0          0.030514  2.149149e-10   \n",
              "CASGPGTGVLEQYF   2.288825e-08      4.0          0.038375  6.717467e-10   \n",
              "CASGPGTGVVEQYF   2.181708e-08      4.0          0.036580  5.293896e-10   \n",
              "CASGSPSSYEQYV    1.480141e-08      3.0          0.024817  1.549345e-08   \n",
              "CASIPGTGPYEQYV   1.333069e-08      3.0          0.022351  1.021415e-08   \n",
              "...                       ...      ...               ...           ...   \n",
              "CSVGAGWGMNTEAFF  5.692369e-09      4.0          0.009544  6.546985e-13   \n",
              "CSVGPGWGMNTEAFF  9.973583e-09      5.0          0.016722  2.997602e-14   \n",
              "CSVGRMNTEAFF     1.091496e-06     13.0          1.830051  9.892278e-09   \n",
              "CSVGTGWGMNTEAFF  1.451852e-08      3.0          0.024342  1.434795e-08   \n",
              "CSVSPGWGMNTEAFF  3.902531e-09      4.0          0.006543  9.936496e-14   \n",
              "\n",
              "                   p_val_bonf  \n",
              "CDR3_aa                        \n",
              "CASGPGTGVIEQYF   1.015623e-05  \n",
              "CASGPGTGVLEQYF   3.174473e-05  \n",
              "CASGPGTGVVEQYF   2.501737e-05  \n",
              "CASGSPSSYEQYV    7.321738e-04  \n",
              "CASIPGTGPYEQYV   4.826900e-04  \n",
              "...                       ...  \n",
              "CSVGAGWGMNTEAFF  3.093909e-08  \n",
              "CSVGPGWGMNTEAFF  1.416577e-09  \n",
              "CSVGRMNTEAFF     4.674794e-04  \n",
              "CSVGTGWGMNTEAFF  6.780409e-04  \n",
              "CSVSPGWGMNTEAFF  4.695690e-09  \n",
              "\n",
              "[465 rows x 5 columns]"
            ],
            "text/html": [
              "\n",
              "  <div id=\"df-5319863c-de69-4b34-a595-edd7d545a2fa\">\n",
              "    <div class=\"colab-df-container\">\n",
              "      <div>\n",
              "<style scoped>\n",
              "    .dataframe tbody tr th:only-of-type {\n",
              "        vertical-align: middle;\n",
              "    }\n",
              "\n",
              "    .dataframe tbody tr th {\n",
              "        vertical-align: top;\n",
              "    }\n",
              "\n",
              "    .dataframe thead th {\n",
              "        text-align: right;\n",
              "    }\n",
              "</style>\n",
              "<table border=\"1\" class=\"dataframe\">\n",
              "  <thead>\n",
              "    <tr style=\"text-align: right;\">\n",
              "      <th></th>\n",
              "      <th>Pgen_neigh</th>\n",
              "      <th>n_neigh</th>\n",
              "      <th>N_neigh_expected</th>\n",
              "      <th>p_val</th>\n",
              "      <th>p_val_bonf</th>\n",
              "    </tr>\n",
              "    <tr>\n",
              "      <th>CDR3_aa</th>\n",
              "      <th></th>\n",
              "      <th></th>\n",
              "      <th></th>\n",
              "      <th></th>\n",
              "      <th></th>\n",
              "    </tr>\n",
              "  </thead>\n",
              "  <tbody>\n",
              "    <tr>\n",
              "      <th>CASGPGTGVIEQYF</th>\n",
              "      <td>1.819936e-08</td>\n",
              "      <td>4.0</td>\n",
              "      <td>0.030514</td>\n",
              "      <td>2.149149e-10</td>\n",
              "      <td>1.015623e-05</td>\n",
              "    </tr>\n",
              "    <tr>\n",
              "      <th>CASGPGTGVLEQYF</th>\n",
              "      <td>2.288825e-08</td>\n",
              "      <td>4.0</td>\n",
              "      <td>0.038375</td>\n",
              "      <td>6.717467e-10</td>\n",
              "      <td>3.174473e-05</td>\n",
              "    </tr>\n",
              "    <tr>\n",
              "      <th>CASGPGTGVVEQYF</th>\n",
              "      <td>2.181708e-08</td>\n",
              "      <td>4.0</td>\n",
              "      <td>0.036580</td>\n",
              "      <td>5.293896e-10</td>\n",
              "      <td>2.501737e-05</td>\n",
              "    </tr>\n",
              "    <tr>\n",
              "      <th>CASGSPSSYEQYV</th>\n",
              "      <td>1.480141e-08</td>\n",
              "      <td>3.0</td>\n",
              "      <td>0.024817</td>\n",
              "      <td>1.549345e-08</td>\n",
              "      <td>7.321738e-04</td>\n",
              "    </tr>\n",
              "    <tr>\n",
              "      <th>CASIPGTGPYEQYV</th>\n",
              "      <td>1.333069e-08</td>\n",
              "      <td>3.0</td>\n",
              "      <td>0.022351</td>\n",
              "      <td>1.021415e-08</td>\n",
              "      <td>4.826900e-04</td>\n",
              "    </tr>\n",
              "    <tr>\n",
              "      <th>...</th>\n",
              "      <td>...</td>\n",
              "      <td>...</td>\n",
              "      <td>...</td>\n",
              "      <td>...</td>\n",
              "      <td>...</td>\n",
              "    </tr>\n",
              "    <tr>\n",
              "      <th>CSVGAGWGMNTEAFF</th>\n",
              "      <td>5.692369e-09</td>\n",
              "      <td>4.0</td>\n",
              "      <td>0.009544</td>\n",
              "      <td>6.546985e-13</td>\n",
              "      <td>3.093909e-08</td>\n",
              "    </tr>\n",
              "    <tr>\n",
              "      <th>CSVGPGWGMNTEAFF</th>\n",
              "      <td>9.973583e-09</td>\n",
              "      <td>5.0</td>\n",
              "      <td>0.016722</td>\n",
              "      <td>2.997602e-14</td>\n",
              "      <td>1.416577e-09</td>\n",
              "    </tr>\n",
              "    <tr>\n",
              "      <th>CSVGRMNTEAFF</th>\n",
              "      <td>1.091496e-06</td>\n",
              "      <td>13.0</td>\n",
              "      <td>1.830051</td>\n",
              "      <td>9.892278e-09</td>\n",
              "      <td>4.674794e-04</td>\n",
              "    </tr>\n",
              "    <tr>\n",
              "      <th>CSVGTGWGMNTEAFF</th>\n",
              "      <td>1.451852e-08</td>\n",
              "      <td>3.0</td>\n",
              "      <td>0.024342</td>\n",
              "      <td>1.434795e-08</td>\n",
              "      <td>6.780409e-04</td>\n",
              "    </tr>\n",
              "    <tr>\n",
              "      <th>CSVSPGWGMNTEAFF</th>\n",
              "      <td>3.902531e-09</td>\n",
              "      <td>4.0</td>\n",
              "      <td>0.006543</td>\n",
              "      <td>9.936496e-14</td>\n",
              "      <td>4.695690e-09</td>\n",
              "    </tr>\n",
              "  </tbody>\n",
              "</table>\n",
              "<p>465 rows × 5 columns</p>\n",
              "</div>\n",
              "      <button class=\"colab-df-convert\" onclick=\"convertToInteractive('df-5319863c-de69-4b34-a595-edd7d545a2fa')\"\n",
              "              title=\"Convert this dataframe to an interactive table.\"\n",
              "              style=\"display:none;\">\n",
              "        \n",
              "  <svg xmlns=\"http://www.w3.org/2000/svg\" height=\"24px\"viewBox=\"0 0 24 24\"\n",
              "       width=\"24px\">\n",
              "    <path d=\"M0 0h24v24H0V0z\" fill=\"none\"/>\n",
              "    <path d=\"M18.56 5.44l.94 2.06.94-2.06 2.06-.94-2.06-.94-.94-2.06-.94 2.06-2.06.94zm-11 1L8.5 8.5l.94-2.06 2.06-.94-2.06-.94L8.5 2.5l-.94 2.06-2.06.94zm10 10l.94 2.06.94-2.06 2.06-.94-2.06-.94-.94-2.06-.94 2.06-2.06.94z\"/><path d=\"M17.41 7.96l-1.37-1.37c-.4-.4-.92-.59-1.43-.59-.52 0-1.04.2-1.43.59L10.3 9.45l-7.72 7.72c-.78.78-.78 2.05 0 2.83L4 21.41c.39.39.9.59 1.41.59.51 0 1.02-.2 1.41-.59l7.78-7.78 2.81-2.81c.8-.78.8-2.07 0-2.86zM5.41 20L4 18.59l7.72-7.72 1.47 1.35L5.41 20z\"/>\n",
              "  </svg>\n",
              "      </button>\n",
              "      \n",
              "  <style>\n",
              "    .colab-df-container {\n",
              "      display:flex;\n",
              "      flex-wrap:wrap;\n",
              "      gap: 12px;\n",
              "    }\n",
              "\n",
              "    .colab-df-convert {\n",
              "      background-color: #E8F0FE;\n",
              "      border: none;\n",
              "      border-radius: 50%;\n",
              "      cursor: pointer;\n",
              "      display: none;\n",
              "      fill: #1967D2;\n",
              "      height: 32px;\n",
              "      padding: 0 0 0 0;\n",
              "      width: 32px;\n",
              "    }\n",
              "\n",
              "    .colab-df-convert:hover {\n",
              "      background-color: #E2EBFA;\n",
              "      box-shadow: 0px 1px 2px rgba(60, 64, 67, 0.3), 0px 1px 3px 1px rgba(60, 64, 67, 0.15);\n",
              "      fill: #174EA6;\n",
              "    }\n",
              "\n",
              "    [theme=dark] .colab-df-convert {\n",
              "      background-color: #3B4455;\n",
              "      fill: #D2E3FC;\n",
              "    }\n",
              "\n",
              "    [theme=dark] .colab-df-convert:hover {\n",
              "      background-color: #434B5C;\n",
              "      box-shadow: 0px 1px 3px 1px rgba(0, 0, 0, 0.15);\n",
              "      filter: drop-shadow(0px 1px 2px rgba(0, 0, 0, 0.3));\n",
              "      fill: #FFFFFF;\n",
              "    }\n",
              "  </style>\n",
              "\n",
              "      <script>\n",
              "        const buttonEl =\n",
              "          document.querySelector('#df-5319863c-de69-4b34-a595-edd7d545a2fa button.colab-df-convert');\n",
              "        buttonEl.style.display =\n",
              "          google.colab.kernel.accessAllowed ? 'block' : 'none';\n",
              "\n",
              "        async function convertToInteractive(key) {\n",
              "          const element = document.querySelector('#df-5319863c-de69-4b34-a595-edd7d545a2fa');\n",
              "          const dataTable =\n",
              "            await google.colab.kernel.invokeFunction('convertToInteractive',\n",
              "                                                     [key], {});\n",
              "          if (!dataTable) return;\n",
              "\n",
              "          const docLinkHtml = 'Like what you see? Visit the ' +\n",
              "            '<a target=\"_blank\" href=https://colab.research.google.com/notebooks/data_table.ipynb>data table notebook</a>'\n",
              "            + ' to learn more about interactive tables.';\n",
              "          element.innerHTML = '';\n",
              "          dataTable['output_type'] = 'display_data';\n",
              "          await google.colab.output.renderOutput(dataTable, element);\n",
              "          const docLink = document.createElement('div');\n",
              "          docLink.innerHTML = docLinkHtml;\n",
              "          element.appendChild(docLink);\n",
              "        }\n",
              "      </script>\n",
              "    </div>\n",
              "  </div>\n",
              "  "
            ]
          },
          "metadata": {},
          "execution_count": 30
        }
      ]
    },
    {
      "cell_type": "markdown",
      "source": [
        "As a result, we have around 400 receptors with a number of similar other receptors much larger than expected by a random model.\n",
        "Those are good candidates for interacting with the vaccine and can be a precious information for biologist and biotechnologist to develop new strategies in diagnostics and treatements."
      ],
      "metadata": {
        "id": "3rwCR6-QmW_m"
      }
    },
    {
      "cell_type": "markdown",
      "source": [
        "### Inspecting the structure of some clusters\n",
        "\n",
        "The properties of a group of similar sequences can be highlighted using the sequence logo, which shows the frequency of each aminoacid at each position."
      ],
      "metadata": {
        "id": "yCrF_A6eneBx"
      }
    },
    {
      "cell_type": "code",
      "source": [
        "!pip install atriegc"
      ],
      "metadata": {
        "colab": {
          "base_uri": "https://localhost:8080/"
        },
        "id": "MTb80I6nno5a",
        "outputId": "4f32689f-9f98-4cc4-8665-cc382f7220a3"
      },
      "execution_count": 32,
      "outputs": [
        {
          "output_type": "stream",
          "name": "stdout",
          "text": [
            "Looking in indexes: https://pypi.org/simple, https://us-python.pkg.dev/colab-wheels/public/simple/\n",
            "Collecting atriegc\n",
            "  Downloading atriegc-0.0.3.tar.gz (19 kB)\n",
            "  Preparing metadata (setup.py) ... \u001b[?25l\u001b[?25hdone\n",
            "Building wheels for collected packages: atriegc\n",
            "  Building wheel for atriegc (setup.py) ... \u001b[?25l\u001b[?25hdone\n",
            "  Created wheel for atriegc: filename=atriegc-0.0.3-cp310-cp310-linux_x86_64.whl size=1368256 sha256=7ec06414468e279110e8b74b2535a2e19fdfca7e14e5b657d58890912018ef9e\n",
            "  Stored in directory: /root/.cache/pip/wheels/7d/09/7e/5d3f2397e7b4c53204a14241e0b78b806e0d96e7fe5774cae5\n",
            "Successfully built atriegc\n",
            "Installing collected packages: atriegc\n",
            "Successfully installed atriegc-0.0.3\n"
          ]
        }
      ]
    },
    {
      "cell_type": "code",
      "source": [
        "!pip install logomaker"
      ],
      "metadata": {
        "colab": {
          "base_uri": "https://localhost:8080/"
        },
        "id": "JpVqTiR2ooDz",
        "outputId": "5d36b76f-eab9-44c3-bb88-5fc73c151ba4"
      },
      "execution_count": 38,
      "outputs": [
        {
          "output_type": "stream",
          "name": "stdout",
          "text": [
            "Looking in indexes: https://pypi.org/simple, https://us-python.pkg.dev/colab-wheels/public/simple/\n",
            "Collecting logomaker\n",
            "  Downloading logomaker-0.8-py2.py3-none-any.whl (11.8 MB)\n",
            "\u001b[2K     \u001b[90m━━━━━━━━━━━━━━━━━━━━━━━━━━━━━━━━━━━━━━━━\u001b[0m \u001b[32m11.8/11.8 MB\u001b[0m \u001b[31m77.7 MB/s\u001b[0m eta \u001b[36m0:00:00\u001b[0m\n",
            "\u001b[?25hRequirement already satisfied: numpy in /usr/local/lib/python3.10/dist-packages (from logomaker) (1.22.4)\n",
            "Requirement already satisfied: matplotlib in /usr/local/lib/python3.10/dist-packages (from logomaker) (3.7.1)\n",
            "Requirement already satisfied: pandas in /usr/local/lib/python3.10/dist-packages (from logomaker) (1.5.3)\n",
            "Requirement already satisfied: contourpy>=1.0.1 in /usr/local/lib/python3.10/dist-packages (from matplotlib->logomaker) (1.0.7)\n",
            "Requirement already satisfied: cycler>=0.10 in /usr/local/lib/python3.10/dist-packages (from matplotlib->logomaker) (0.11.0)\n",
            "Requirement already satisfied: fonttools>=4.22.0 in /usr/local/lib/python3.10/dist-packages (from matplotlib->logomaker) (4.39.3)\n",
            "Requirement already satisfied: kiwisolver>=1.0.1 in /usr/local/lib/python3.10/dist-packages (from matplotlib->logomaker) (1.4.4)\n",
            "Requirement already satisfied: packaging>=20.0 in /usr/local/lib/python3.10/dist-packages (from matplotlib->logomaker) (23.1)\n",
            "Requirement already satisfied: pillow>=6.2.0 in /usr/local/lib/python3.10/dist-packages (from matplotlib->logomaker) (8.4.0)\n",
            "Requirement already satisfied: pyparsing>=2.3.1 in /usr/local/lib/python3.10/dist-packages (from matplotlib->logomaker) (3.0.9)\n",
            "Requirement already satisfied: python-dateutil>=2.7 in /usr/local/lib/python3.10/dist-packages (from matplotlib->logomaker) (2.8.2)\n",
            "Requirement already satisfied: pytz>=2020.1 in /usr/local/lib/python3.10/dist-packages (from pandas->logomaker) (2022.7.1)\n",
            "Requirement already satisfied: six>=1.5 in /usr/local/lib/python3.10/dist-packages (from python-dateutil>=2.7->matplotlib->logomaker) (1.16.0)\n",
            "Installing collected packages: logomaker\n",
            "Successfully installed logomaker-0.8\n"
          ]
        }
      ]
    },
    {
      "cell_type": "markdown",
      "source": [
        "Building the clusters of similar sequences among the good candidates"
      ],
      "metadata": {
        "id": "WOzNnNntu3qf"
      }
    },
    {
      "cell_type": "code",
      "source": [
        "import atriegc\n",
        "\n",
        "trie = atriegc.TrieAA()\n",
        "trie.insert_list(candidates.index.values)\n",
        "clusters_dict = trie.clusters(1)"
      ],
      "metadata": {
        "id": "urRwJqcGnsbF"
      },
      "execution_count": 34,
      "outputs": []
    },
    {
      "cell_type": "code",
      "source": [
        "# List of siquences for each cluster\n",
        "clusters = [[] for _ in range(max(clusters_dict.values()))]\n",
        "# Length of each cluster\n",
        "cluster_len = np.zeros(max(clusters_dict.values()))\n",
        "\n",
        "for k, v in clusters_dict.items():\n",
        "    clusters[v-1].append(k)\n",
        "    cluster_len[v-1] += 1"
      ],
      "metadata": {
        "id": "lZFYIsOinznJ"
      },
      "execution_count": 59,
      "outputs": []
    },
    {
      "cell_type": "markdown",
      "source": [
        "Selecting the cluster to analyse"
      ],
      "metadata": {
        "id": "9bt_YS8VveAq"
      }
    },
    {
      "cell_type": "code",
      "source": [
        "largest_cluster_i = np.argsort(cluster_len)[-2]\n",
        "cl = clusters[largest_cluster_i]\n",
        "print(cl)"
      ],
      "metadata": {
        "colab": {
          "base_uri": "https://localhost:8080/"
        },
        "id": "6cIL1LGHn-0Q",
        "outputId": "97adaf7f-deae-44e5-f39f-4cc89fb5cc80"
      },
      "execution_count": 63,
      "outputs": [
        {
          "output_type": "stream",
          "name": "stdout",
          "text": [
            "['CASSQETAPNTDTQYF', 'CASSQETYPNTDTQYF', 'CASSQENKPSTDTQYF', 'CASSQETNPSTDTQYF', 'CASSQETFPSTDTQYF', 'CASSQEYYPSTDTQYF', 'CASSQENYPSTDTQYF', 'CASSQEGLPNTDTQYF', 'CASSQEHIPSTDTQYF', 'CASSQETVPSTDTQYF', 'CASSQEGQPNTDTQYF', 'CASSQEGSPNTDTQYF', 'CASSQETSPSTDTQYF', 'CASSQETHPSTDTQYF', 'CASSQETMPSTDTQYF', 'CASSQEMAPSTDTQYF', 'CASSQEAGPNTDTQYF', 'CASSQEQRPSTDTQYF', 'CASSQESYPSTDTQYF', 'CASSQESFPSTDTQYF', 'CASSQESLPSTDTQYF', 'CASSQESVPSTDTQYF', 'CASSQESAPSTDTQYF', 'CASSQESSPSTDTQYF', 'CASSQEAFPSTDTQYF', 'CASSQEAQPSTDTQYF', 'CASSQEASPSTDTQYF', 'CASSQEARPSTDTQYF', 'CASSQEGIPSTDTQYF', 'CASSQEGAPSTDTQYF', 'CASSQEGPPSTDTQYF', 'CASSQEGQPSTDTQYF', 'CASSQEGSPSTDTQYF', 'CASSQEGHPSTDTQYF', 'CASSQEMGPSTDTQYF', 'CASSQESGPSTDTQYF', 'CASSQEWTPSTDTQYF', 'CASSQEATPSTDTQYF', 'CASSQEGTPSTDTQYF', 'CASSQEGPPNTDTQYF', 'CASSQEGVPNTDTQYF', 'CASSQEAAPSTDTQYF', 'CASSQEGYPSTDTQYF', 'CASSQEQGPSTDTQYF', 'CASSQEGGPSTDTQYF', 'CASSQEAAPNTDTQYF', 'CASSQEHAPSTDTQYF', 'CASSQEQAPSTDTQYF', 'CASSQETYPSTDTQYF', 'CASSQESIPSTDTQYF', 'CASSQETQPSTDTQYF', 'CASSQEGRPSTDTQYF', 'CASSQEGVPSTDTQYF', 'CASSQENSPSTDTQYF', 'CASSQERGPSTDTQYF', 'CASSQEGLPSTDTQYF', 'CASSQEWQPSTDTQYF', 'CASSQEAGPSTDTQYF', 'CASSQERTPSTDTQYF']\n"
          ]
        }
      ]
    },
    {
      "cell_type": "markdown",
      "source": [
        "Building the frequencies of amino-acids at each position"
      ],
      "metadata": {
        "id": "rGFb58LcvdIJ"
      }
    },
    {
      "cell_type": "code",
      "source": [
        "aa_alphabet = 'RHKDESTNQCGPAVILMFYW'\n",
        "\n",
        "logo_matrix = np.zeros((len(cl[0]), 20))\n",
        "logo_df = pd.DataFrame(logo_matrix, columns=[l for l in aa_alphabet])\n",
        "N_seq = len(cl)\n",
        "\n",
        "for s in cl:\n",
        "  for i in range(len(s)):\n",
        "    logo_df.loc[i, s[i]] += 1/N_seq"
      ],
      "metadata": {
        "id": "kR7olCOorAig"
      },
      "execution_count": 64,
      "outputs": []
    },
    {
      "cell_type": "code",
      "source": [
        "import logomaker\n",
        "logomaker.Logo(logo_df, color_scheme='hydrophobicity')"
      ],
      "metadata": {
        "colab": {
          "base_uri": "https://localhost:8080/",
          "height": 275
        },
        "id": "TBLeXp6CoETh",
        "outputId": "444c1c48-88ae-49e9-8d04-e102c8bae8d3"
      },
      "execution_count": 67,
      "outputs": [
        {
          "output_type": "execute_result",
          "data": {
            "text/plain": [
              "<logomaker.src.Logo.Logo at 0x7fb9a94a3a00>"
            ]
          },
          "metadata": {},
          "execution_count": 67
        },
        {
          "output_type": "display_data",
          "data": {
            "text/plain": [
              "<Figure size 1000x250 with 1 Axes>"
            ],
            "image/png": "[encoded data removed]"
          },
          "metadata": {}
        }
      ]
    },
    {
      "cell_type": "code",
      "source": [],
      "metadata": {
        "id": "VIylOvCKq1uT"
      },
      "execution_count": null,
      "outputs": []
    }
  ]
}