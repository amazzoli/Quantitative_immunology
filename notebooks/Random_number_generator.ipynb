{
  "nbformat": 4,
  "nbformat_minor": 0,
  "metadata": {
    "colab": {
      "provenance": [],
      "include_colab_link": true
    },
    "kernelspec": {
      "name": "python3",
      "display_name": "Python 3"
    }
  },
  "cells": [
    {
      "cell_type": "markdown",
      "metadata": {
        "id": "view-in-github",
        "colab_type": "text"
      },
      "source": [
        "<a href=\"https://colab.research.google.com/github/amazzoli/Quantitative_immunology/blob/main/notebooks/Random_number_generator.ipynb\" target=\"_parent\"><img src=\"https://colab.research.google.com/assets/colab-badge.svg\" alt=\"Open In Colab\"/></a>"
      ]
    },
    {
      "cell_type": "code",
      "metadata": {
        "id": "EACPTwQgPKMI"
      },
      "source": [
        "import numpy as np\n",
        "import matplotlib.pyplot as plt"
      ],
      "execution_count": null,
      "outputs": []
    },
    {
      "cell_type": "markdown",
      "metadata": {
        "id": "sNSscPshPMhW"
      },
      "source": [
        "Try to implement a naive pseudo random number generator using the Linear Congruent Generator, https://en.wikipedia.org/wiki/Linear_congruential_generator.\n",
        "\n",
        "It is a discrete map:\n",
        "\n",
        "$$\n",
        "X_{n+1} = (a X_n + c) \\text{ mod } m\n",
        "$$\n",
        "\n",
        "where:\n",
        "- $m > 0$ is the \"**modulus**\". It sets the period of the sequence, after $m$ iterations it will be repeted.\n",
        "- $0 < a < m$ the \"**multiplier**\"\n",
        "- $0 \\le c < m$ the \"**increment**\"\n",
        "- $0 \\le X_0 < m$ the \"**seed**\" or \"start value\"\n",
        "\n",
        "To have a sequence of effectively random numbers the parameters have to be properly chosen (a lot of mathematics behind...).\n",
        "Still, if you know the parameters and $X_n$ the next value can be easily obtained (this is the drawback of pseudo random number generation)."
      ]
    },
    {
      "cell_type": "markdown",
      "metadata": {
        "id": "YfMzgwjDvvHW"
      },
      "source": [
        "### Write a function that generate a sequence using LCG"
      ]
    },
    {
      "cell_type": "code",
      "metadata": {
        "id": "6AMkxDRCQOvM"
      },
      "source": [
        "def next_x(x, a, c, m):\n",
        "  return (a * x + c) % m\n",
        "\n",
        "def generate_sequence(seed, a, c, m, size):\n",
        "  seq = [seed]\n",
        "  for _ in range(size):\n",
        "    seq.append(next_x(seq[-1], a, c, m))\n",
        "  return np.array(seq)"
      ],
      "execution_count": null,
      "outputs": []
    },
    {
      "cell_type": "markdown",
      "metadata": {
        "id": "pIFk66fOv6l7"
      },
      "source": [
        "Let's see some non-random sequences that the map can provide.\n",
        "This is to show you that in some case the map is not random at all...\n",
        "\n",
        "Note the periodicity of the formula: after $m$ generated numbers the sequence will repeat again. So, the best that we can onbtain is a random sequence for the first $m$ outcomes.\n",
        "\n",
        "### Try $m=11$, $a=c=1$, what do you get?\n",
        "\n",
        "Is it random over period $m$?"
      ]
    },
    {
      "cell_type": "code",
      "metadata": {
        "id": "gzbAgWmNoiIa",
        "outputId": "dff3864c-7eec-4e93-de27-5fffeaa57a50",
        "colab": {
          "base_uri": "https://localhost:8080/",
          "height": 35
        }
      },
      "source": [
        "m = 11\n",
        "a = 1;\n",
        "c = 1;\n",
        "\n",
        "s = generate_sequence(4, a, c, m, 2*m)\n",
        "print (s)"
      ],
      "execution_count": null,
      "outputs": [
        {
          "output_type": "stream",
          "text": [
            "[ 4  5  6  7  8  9 10  0  1  2  3  4  5  6  7  8  9 10  0  1  2  3  4]\n"
          ],
          "name": "stdout"
        }
      ]
    },
    {
      "cell_type": "markdown",
      "metadata": {
        "id": "AwL4RC51wNg0"
      },
      "source": [
        "### Try $m=11$, $a=3$, $c=0$ what do you get?\n",
        "\n",
        "Is it random over period $m$?"
      ]
    },
    {
      "cell_type": "code",
      "metadata": {
        "id": "dK-rsLLxmscS",
        "outputId": "2b788cd7-2982-45a7-86f5-6b4b091c3e20",
        "colab": {
          "base_uri": "https://localhost:8080/",
          "height": 35
        }
      },
      "source": [
        "m = 11\n",
        "a = 3;\n",
        "c = 0;\n",
        "\n",
        "s = generate_sequence(4, a, c, m, 2*m)\n",
        "print (s)"
      ],
      "execution_count": null,
      "outputs": [
        {
          "output_type": "stream",
          "text": [
            "[4 1 3 9 5 4 1 3 9 5 4 1 3 9 5 4 1 3 9 5 4 1 3]\n"
          ],
          "name": "stdout"
        }
      ]
    },
    {
      "cell_type": "markdown",
      "metadata": {
        "id": "h8LLWJcUwRLa"
      },
      "source": [
        "### Generate a random sequence with the proposed parameters. \n",
        "\n",
        "Choose sufficiently large size for the sequence.\n",
        "Normalize the outcomes between 0 and 1.\n"
      ]
    },
    {
      "cell_type": "code",
      "metadata": {
        "id": "1RXG-8kgQqA8"
      },
      "source": [
        "m = 2147483648\n",
        "a = 214013;\n",
        "c = 2531011;\n",
        "size = 100000\n",
        "\n",
        "s = generate_sequence(1234567, a, c, m, size) / m"
      ],
      "execution_count": null,
      "outputs": []
    },
    {
      "cell_type": "markdown",
      "metadata": {
        "id": "vW4_GxHWxTT-"
      },
      "source": [
        "Now generate the histogram of your normalized outcomes. Is it a propoper random uniform distribution?\n",
        "\n",
        "Be aware that there will be some \"noise\" on the height of the histogram-bar counts. You can compute the typical spread of the points around the expected histogram-bar height (which is *seq_size / n_bins*) since you know that the probability to have $n$ counts in a bin of length $\\Delta x$ is a binomial with variance:\n",
        "\n",
        "$$\n",
        "Var(n) = \\text{seq_size}  \\Delta x (1 - \\Delta x) = \\frac{\\text{seq_size}}{\\text{n_bins}} \\left( 1 - \\frac{1}{\\text{n_bins}} \\right)\n",
        "$$\n",
        "\n",
        "Most of the bar heights should fall within $\\langle n \\rangle \\pm 2 * \\sqrt{Var(n)}$. "
      ]
    },
    {
      "cell_type": "code",
      "metadata": {
        "id": "FX0UanX3TmmS",
        "outputId": "d2a7e142-5f5f-4f19-a672-ea8f3cee7a3c",
        "colab": {
          "base_uri": "https://localhost:8080/",
          "height": 287
        }
      },
      "source": [
        "n_bins = 50\n",
        "\n",
        "# Error assuming a binomial for the points in the bin \n",
        "std = np.sqrt(size/n_bins*(1-1/n_bins))\n",
        "\n",
        "plt.xlabel('X', fontsize=14)\n",
        "plt.ylabel('Counts', fontsize=14)\n",
        "x = np.linspace(0,1,30)\n",
        "plt.plot(x, np.ones(len(x))*size/n_bins, color='black')\n",
        "\n",
        "plt.fill_between(x, np.ones(len(x))*size/n_bins + 2 * std, np.ones(len(x))*size/n_bins - 2 * std, \n",
        "                 color = 'red', alpha=0.8)\n",
        "\n",
        "h = plt.hist(s, n_bins, color='blue', alpha=0.8)"
      ],
      "execution_count": null,
      "outputs": [
        {
          "output_type": "display_data",
          "data": {
            "image/png": "[encoded data removed]",
            "text/plain": [
              "<Figure size 432x288 with 1 Axes>"
            ]
          },
          "metadata": {
            "tags": []
          }
        }
      ]
    },
    {
      "cell_type": "markdown",
      "metadata": {
        "id": "3Lrrd05bo3XS"
      },
      "source": [
        "Actually to really test if a sequence is at random one should perform several statistical tests..\n",
        "https://www.random.org/analysis/\n"
      ]
    },
    {
      "cell_type": "code",
      "metadata": {
        "id": "G8lsXfYVpaBr"
      },
      "source": [],
      "execution_count": null,
      "outputs": []
    }
  ]
}