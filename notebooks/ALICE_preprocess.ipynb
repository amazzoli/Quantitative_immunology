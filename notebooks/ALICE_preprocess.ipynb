{
  "nbformat": 4,
  "nbformat_minor": 0,
  "metadata": {
    "colab": {
      "provenance": [],
      "authorship_tag": "ABX9TyMGTpfRLvAdQpr0HIinMgEk",
      "include_colab_link": true
    },
    "kernelspec": {
      "name": "python3",
      "display_name": "Python 3"
    },
    "language_info": {
      "name": "python"
    }
  },
  "cells": [
    {
      "cell_type": "markdown",
      "metadata": {
        "id": "view-in-github",
        "colab_type": "text"
      },
      "source": [
        "<a href=\"https://colab.research.google.com/github/amazzoli/Quantitative_immunology/blob/main/notebooks/ALICE_preprocess.ipynb\" target=\"_parent\"><img src=\"https://colab.research.google.com/assets/colab-badge.svg\" alt=\"Open In Colab\"/></a>"
      ]
    },
    {
      "cell_type": "code",
      "execution_count": 1,
      "metadata": {
        "id": "TjjrIHxEwibP"
      },
      "outputs": [],
      "source": [
        "import numpy as np\n",
        "import pandas as pd\n",
        "import matplotlib.pyplot as plt"
      ]
    },
    {
      "cell_type": "markdown",
      "source": [
        "# Preprocessing the clonotype table\n",
        "\n",
        "Here we start from a table of clonotype and we compute the generation probability of each sequence and neighbour sequences using the software OLGA, https://github.com/statbiophys/OLGA.\n",
        "\n",
        "Notice that the notebook takes a very long time to run.\n",
        "The resulting table are already saved in the repository of the course.\n",
        "If you are interested in re-running everything, it takes more than one day and ~I suggest to run it on a local machine and not on colab (where unexpected disconnections can happen).\n"
      ],
      "metadata": {
        "id": "zdNrEZHx5exd"
      }
    },
    {
      "cell_type": "markdown",
      "source": [
        "### Cloneing the repo"
      ],
      "metadata": {
        "id": "xcLLBqp6LzKE"
      }
    },
    {
      "cell_type": "code",
      "source": [
        "%%bash\n",
        "git clone https://github.com/amazzoli/Quantitative_immunology.git"
      ],
      "metadata": {
        "colab": {
          "base_uri": "https://localhost:8080/"
        },
        "id": "aKVtD4RAwi_V",
        "outputId": "8461c755-7aa8-4ade-c4f5-e30ccc381cb5"
      },
      "execution_count": 2,
      "outputs": [
        {
          "output_type": "stream",
          "name": "stderr",
          "text": [
            "Cloning into 'Quantitative_immunology'...\n"
          ]
        }
      ]
    },
    {
      "cell_type": "markdown",
      "source": [
        "### Installing the software to compute Pgen and setting it up"
      ],
      "metadata": {
        "id": "DOcjSMC3L0d0"
      }
    },
    {
      "cell_type": "code",
      "source": [
        "!pip install olga"
      ],
      "metadata": {
        "colab": {
          "base_uri": "https://localhost:8080/"
        },
        "id": "ayMvidlHw22t",
        "outputId": "9897eff7-d28e-40eb-8f62-8de4640a72d5"
      },
      "execution_count": 3,
      "outputs": [
        {
          "output_type": "stream",
          "name": "stdout",
          "text": [
            "Looking in indexes: https://pypi.org/simple, https://us-python.pkg.dev/colab-wheels/public/simple/\n",
            "Collecting olga\n",
            "  Downloading olga-1.2.4-py3-none-any.whl (366 kB)\n",
            "\u001b[2K     \u001b[90m━━━━━━━━━━━━━━━━━━━━━━━━━━━━━━━━━━━━━━━\u001b[0m \u001b[32m366.4/366.4 kB\u001b[0m \u001b[31m5.5 MB/s\u001b[0m eta \u001b[36m0:00:00\u001b[0m\n",
            "\u001b[?25hInstalling collected packages: olga\n",
            "Successfully installed olga-1.2.4\n"
          ]
        }
      ]
    },
    {
      "cell_type": "code",
      "source": [
        "import olga.load_model as load_model\n",
        "import olga.generation_probability as pgen"
      ],
      "metadata": {
        "id": "UsFMhZQjw4E0"
      },
      "execution_count": 4,
      "outputs": []
    },
    {
      "cell_type": "code",
      "source": [
        "model_dir = 'Quantitative_immunology/data/'\n",
        "\n",
        "params_file_name = model_dir + 'default_models/human_T_beta/model_params.txt'\n",
        "marginals_file_name = model_dir + 'default_models/human_T_beta/model_marginals.txt'\n",
        "V_anchor_pos_file = model_dir + 'default_models/human_T_beta/V_gene_CDR3_anchors.csv'\n",
        "J_anchor_pos_file = model_dir + 'default_models/human_T_beta/J_gene_CDR3_anchors.csv'"
      ],
      "metadata": {
        "id": "JiPUU8ddx4GP"
      },
      "execution_count": 7,
      "outputs": []
    },
    {
      "cell_type": "code",
      "source": [
        "genomic_data = load_model.GenomicDataVDJ()\n",
        "genomic_data.load_igor_genomic_data(params_file_name, V_anchor_pos_file, J_anchor_pos_file)\n",
        "generative_model = load_model.GenerativeModelVDJ()\n",
        "generative_model.load_and_process_igor_model(marginals_file_name)\n",
        "pgen_model = pgen.GenerationProbabilityVDJ(generative_model, genomic_data)"
      ],
      "metadata": {
        "id": "yBp-yBW0yz-q"
      },
      "execution_count": 9,
      "outputs": []
    },
    {
      "cell_type": "code",
      "source": [
        " "
      ],
      "metadata": {
        "id": "qIB7Ys0xR_4h"
      },
      "execution_count": null,
      "outputs": []
    },
    {
      "cell_type": "markdown",
      "source": [
        "### Importing the dataset and computing Pgen\n",
        "\n",
        "The imported dataset is a sample of a patient that got the yellow fever vaccine a few weeks before."
      ],
      "metadata": {
        "id": "OTZAP4UIMl74"
      }
    },
    {
      "cell_type": "code",
      "source": [
        "data_folder = 'Quantitative_immunology/data/'\n",
        "frame = pd.read_csv(data_folder+'sequences.tsv', sep='\\t', index_col=0)"
      ],
      "metadata": {
        "id": "Wxm55i9HwoG8"
      },
      "execution_count": 12,
      "outputs": []
    },
    {
      "cell_type": "code",
      "source": [
        "frame"
      ],
      "metadata": {
        "colab": {
          "base_uri": "https://localhost:8080/",
          "height": 424
        },
        "id": "byGjqYDm0bsR",
        "outputId": "d29a455f-1dd6-4b6b-aea8-aa2cfd4b2326"
      },
      "execution_count": 13,
      "outputs": [
        {
          "output_type": "execute_result",
          "data": {
            "text/plain": [
              "                                                 CDR3_nt           CDR3_aa  \\\n",
              "0             TGTGCCAGCAGCGCCCCAGCGGGGGTCGGCGAGCAGTACTTC    CASSAPAGVGEQYF   \n",
              "1             TGTGCCAGCAGCCCAAGGGCAGGGAAGGGTGAGCAGTTCTTC    CASSPRAGKGEQFF   \n",
              "2                TGTGCCAGCAGTTTTTGGACACCCTACGAGCAGTACTTC     CASSFWTPYEQYF   \n",
              "3             TGTGCCAGCAGCCCGCCGGGACAGCACAATGAGCAGTTCTTC    CASSPPGQHNEQFF   \n",
              "4       TGTGCCAGCAGCTTGGAAGGGTACGGGACGCCGGCTGAAGCTTTCTTT  CASSLEGYGTPAEAFF   \n",
              "...                                                  ...               ...   \n",
              "182146                                CGATTGCAAGAGTTCTTC            RLQEFF   \n",
              "182147                                 TGTGCCACCGGTTCTTC            CAT_FF   \n",
              "182148                                 TGCGCCAGCAGTTCTTC            CAS_FF   \n",
              "182149                                  TGTGCCAGCAGCCCAA            CAS_AQ   \n",
              "182150                                  TGCGCCAGCCTCCCTC            CAS_SL   \n",
              "\n",
              "        count  \n",
              "0       80952  \n",
              "1       66759  \n",
              "2       40106  \n",
              "3       34136  \n",
              "4       22017  \n",
              "...       ...  \n",
              "182146      2  \n",
              "182147      2  \n",
              "182148      2  \n",
              "182149      2  \n",
              "182150      2  \n",
              "\n",
              "[182151 rows x 3 columns]"
            ],
            "text/html": [
              "\n",
              "  <div id=\"df-09b0ff3b-0e80-4813-a495-7166ae8f2a32\">\n",
              "    <div class=\"colab-df-container\">\n",
              "      <div>\n",
              "<style scoped>\n",
              "    .dataframe tbody tr th:only-of-type {\n",
              "        vertical-align: middle;\n",
              "    }\n",
              "\n",
              "    .dataframe tbody tr th {\n",
              "        vertical-align: top;\n",
              "    }\n",
              "\n",
              "    .dataframe thead th {\n",
              "        text-align: right;\n",
              "    }\n",
              "</style>\n",
              "<table border=\"1\" class=\"dataframe\">\n",
              "  <thead>\n",
              "    <tr style=\"text-align: right;\">\n",
              "      <th></th>\n",
              "      <th>CDR3_nt</th>\n",
              "      <th>CDR3_aa</th>\n",
              "      <th>count</th>\n",
              "    </tr>\n",
              "  </thead>\n",
              "  <tbody>\n",
              "    <tr>\n",
              "      <th>0</th>\n",
              "      <td>TGTGCCAGCAGCGCCCCAGCGGGGGTCGGCGAGCAGTACTTC</td>\n",
              "      <td>CASSAPAGVGEQYF</td>\n",
              "      <td>80952</td>\n",
              "    </tr>\n",
              "    <tr>\n",
              "      <th>1</th>\n",
              "      <td>TGTGCCAGCAGCCCAAGGGCAGGGAAGGGTGAGCAGTTCTTC</td>\n",
              "      <td>CASSPRAGKGEQFF</td>\n",
              "      <td>66759</td>\n",
              "    </tr>\n",
              "    <tr>\n",
              "      <th>2</th>\n",
              "      <td>TGTGCCAGCAGTTTTTGGACACCCTACGAGCAGTACTTC</td>\n",
              "      <td>CASSFWTPYEQYF</td>\n",
              "      <td>40106</td>\n",
              "    </tr>\n",
              "    <tr>\n",
              "      <th>3</th>\n",
              "      <td>TGTGCCAGCAGCCCGCCGGGACAGCACAATGAGCAGTTCTTC</td>\n",
              "      <td>CASSPPGQHNEQFF</td>\n",
              "      <td>34136</td>\n",
              "    </tr>\n",
              "    <tr>\n",
              "      <th>4</th>\n",
              "      <td>TGTGCCAGCAGCTTGGAAGGGTACGGGACGCCGGCTGAAGCTTTCTTT</td>\n",
              "      <td>CASSLEGYGTPAEAFF</td>\n",
              "      <td>22017</td>\n",
              "    </tr>\n",
              "    <tr>\n",
              "      <th>...</th>\n",
              "      <td>...</td>\n",
              "      <td>...</td>\n",
              "      <td>...</td>\n",
              "    </tr>\n",
              "    <tr>\n",
              "      <th>182146</th>\n",
              "      <td>CGATTGCAAGAGTTCTTC</td>\n",
              "      <td>RLQEFF</td>\n",
              "      <td>2</td>\n",
              "    </tr>\n",
              "    <tr>\n",
              "      <th>182147</th>\n",
              "      <td>TGTGCCACCGGTTCTTC</td>\n",
              "      <td>CAT_FF</td>\n",
              "      <td>2</td>\n",
              "    </tr>\n",
              "    <tr>\n",
              "      <th>182148</th>\n",
              "      <td>TGCGCCAGCAGTTCTTC</td>\n",
              "      <td>CAS_FF</td>\n",
              "      <td>2</td>\n",
              "    </tr>\n",
              "    <tr>\n",
              "      <th>182149</th>\n",
              "      <td>TGTGCCAGCAGCCCAA</td>\n",
              "      <td>CAS_AQ</td>\n",
              "      <td>2</td>\n",
              "    </tr>\n",
              "    <tr>\n",
              "      <th>182150</th>\n",
              "      <td>TGCGCCAGCCTCCCTC</td>\n",
              "      <td>CAS_SL</td>\n",
              "      <td>2</td>\n",
              "    </tr>\n",
              "  </tbody>\n",
              "</table>\n",
              "<p>182151 rows × 3 columns</p>\n",
              "</div>\n",
              "      <button class=\"colab-df-convert\" onclick=\"convertToInteractive('df-09b0ff3b-0e80-4813-a495-7166ae8f2a32')\"\n",
              "              title=\"Convert this dataframe to an interactive table.\"\n",
              "              style=\"display:none;\">\n",
              "        \n",
              "  <svg xmlns=\"http://www.w3.org/2000/svg\" height=\"24px\"viewBox=\"0 0 24 24\"\n",
              "       width=\"24px\">\n",
              "    <path d=\"M0 0h24v24H0V0z\" fill=\"none\"/>\n",
              "    <path d=\"M18.56 5.44l.94 2.06.94-2.06 2.06-.94-2.06-.94-.94-2.06-.94 2.06-2.06.94zm-11 1L8.5 8.5l.94-2.06 2.06-.94-2.06-.94L8.5 2.5l-.94 2.06-2.06.94zm10 10l.94 2.06.94-2.06 2.06-.94-2.06-.94-.94-2.06-.94 2.06-2.06.94z\"/><path d=\"M17.41 7.96l-1.37-1.37c-.4-.4-.92-.59-1.43-.59-.52 0-1.04.2-1.43.59L10.3 9.45l-7.72 7.72c-.78.78-.78 2.05 0 2.83L4 21.41c.39.39.9.59 1.41.59.51 0 1.02-.2 1.41-.59l7.78-7.78 2.81-2.81c.8-.78.8-2.07 0-2.86zM5.41 20L4 18.59l7.72-7.72 1.47 1.35L5.41 20z\"/>\n",
              "  </svg>\n",
              "      </button>\n",
              "      \n",
              "  <style>\n",
              "    .colab-df-container {\n",
              "      display:flex;\n",
              "      flex-wrap:wrap;\n",
              "      gap: 12px;\n",
              "    }\n",
              "\n",
              "    .colab-df-convert {\n",
              "      background-color: #E8F0FE;\n",
              "      border: none;\n",
              "      border-radius: 50%;\n",
              "      cursor: pointer;\n",
              "      display: none;\n",
              "      fill: #1967D2;\n",
              "      height: 32px;\n",
              "      padding: 0 0 0 0;\n",
              "      width: 32px;\n",
              "    }\n",
              "\n",
              "    .colab-df-convert:hover {\n",
              "      background-color: #E2EBFA;\n",
              "      box-shadow: 0px 1px 2px rgba(60, 64, 67, 0.3), 0px 1px 3px 1px rgba(60, 64, 67, 0.15);\n",
              "      fill: #174EA6;\n",
              "    }\n",
              "\n",
              "    [theme=dark] .colab-df-convert {\n",
              "      background-color: #3B4455;\n",
              "      fill: #D2E3FC;\n",
              "    }\n",
              "\n",
              "    [theme=dark] .colab-df-convert:hover {\n",
              "      background-color: #434B5C;\n",
              "      box-shadow: 0px 1px 3px 1px rgba(0, 0, 0, 0.15);\n",
              "      filter: drop-shadow(0px 1px 2px rgba(0, 0, 0, 0.3));\n",
              "      fill: #FFFFFF;\n",
              "    }\n",
              "  </style>\n",
              "\n",
              "      <script>\n",
              "        const buttonEl =\n",
              "          document.querySelector('#df-09b0ff3b-0e80-4813-a495-7166ae8f2a32 button.colab-df-convert');\n",
              "        buttonEl.style.display =\n",
              "          google.colab.kernel.accessAllowed ? 'block' : 'none';\n",
              "\n",
              "        async function convertToInteractive(key) {\n",
              "          const element = document.querySelector('#df-09b0ff3b-0e80-4813-a495-7166ae8f2a32');\n",
              "          const dataTable =\n",
              "            await google.colab.kernel.invokeFunction('convertToInteractive',\n",
              "                                                     [key], {});\n",
              "          if (!dataTable) return;\n",
              "\n",
              "          const docLinkHtml = 'Like what you see? Visit the ' +\n",
              "            '<a target=\"_blank\" href=https://colab.research.google.com/notebooks/data_table.ipynb>data table notebook</a>'\n",
              "            + ' to learn more about interactive tables.';\n",
              "          element.innerHTML = '';\n",
              "          dataTable['output_type'] = 'display_data';\n",
              "          await google.colab.output.renderOutput(dataTable, element);\n",
              "          const docLink = document.createElement('div');\n",
              "          docLink.innerHTML = docLinkHtml;\n",
              "          element.appendChild(docLink);\n",
              "        }\n",
              "      </script>\n",
              "    </div>\n",
              "  </div>\n",
              "  "
            ]
          },
          "metadata": {},
          "execution_count": 13
        }
      ]
    },
    {
      "cell_type": "markdown",
      "source": [
        "The table has around 180k unique clonotypes.\n",
        "Each of them shows the hypervariable sequence in nucleotides and the respective translation in amino-acids.\n",
        "The counts are the number of istances that the clonotype has been found in the sample. For this analysis this value will not be used."
      ],
      "metadata": {
        "id": "xpoLgFKWM-ga"
      }
    },
    {
      "cell_type": "code",
      "source": [
        "seq = frame.loc[0]['CDR3_aa']\n",
        "pgen = pgen_model.compute_aa_CDR3_pgen(seq)\n",
        "print('Pgen of ' + seq + ': ' + str(pgen))"
      ],
      "metadata": {
        "colab": {
          "base_uri": "https://localhost:8080/"
        },
        "id": "vTjPmSWxNdmy",
        "outputId": "f58de315-c506-41e9-f9ea-0efdf5ee1b5b"
      },
      "execution_count": 16,
      "outputs": [
        {
          "output_type": "stream",
          "name": "stdout",
          "text": [
            "Pgen of CASSAPAGVGEQYF: 7.367043287048197e-10\n"
          ]
        }
      ]
    },
    {
      "cell_type": "markdown",
      "source": [
        "Below all the generation probabilities of all the clonotypes are computed. The command is commented to avoid that the computation starts by mistake (this operation takes several hours to be completed).\n",
        "The resulting table can be imported later."
      ],
      "metadata": {
        "id": "xSZUss3EN0so"
      }
    },
    {
      "cell_type": "code",
      "source": [
        "def compute_pgen(row):\n",
        "    # Pgen is set to zero by default for all the non-productive sequences,\n",
        "    # which do not have a translation from nt to aa\n",
        "    if '_' in row['CDR3_aa'] or '*' in row['CDR3_aa']:\n",
        "        row['Pgen'] = 0\n",
        "    else:\n",
        "        row['Pgen'] = pgen_model.compute_aa_CDR3_pgen(row['CDR3_aa'])\n",
        "    return row\n",
        "\n",
        "#pgen_frame = frame.apply(compute_pgen, axis=1)"
      ],
      "metadata": {
        "id": "_yB1ABOmzA4M"
      },
      "execution_count": null,
      "outputs": []
    },
    {
      "cell_type": "code",
      "source": [
        "pgen_frame = pd.read_csv(data_folder+'sequences_pgen.tsv', sep='\\t', index_col=0)\n",
        "# The imported frame has less row than the original because non-productive sequences\n",
        "# have been eliminated\n",
        "pgen_frame"
      ],
      "metadata": {
        "id": "jT7GZKf1zKkC",
        "colab": {
          "base_uri": "https://localhost:8080/",
          "height": 424
        },
        "outputId": "5018c99a-6bfd-4a8b-b520-1cb7da80f420"
      },
      "execution_count": 18,
      "outputs": [
        {
          "output_type": "execute_result",
          "data": {
            "text/plain": [
              "                                                 CDR3_nt           CDR3_aa  \\\n",
              "0             TGTGCCAGCAGCGCCCCAGCGGGGGTCGGCGAGCAGTACTTC    CASSAPAGVGEQYF   \n",
              "1             TGTGCCAGCAGCCCAAGGGCAGGGAAGGGTGAGCAGTTCTTC    CASSPRAGKGEQFF   \n",
              "2                TGTGCCAGCAGTTTTTGGACACCCTACGAGCAGTACTTC     CASSFWTPYEQYF   \n",
              "3             TGTGCCAGCAGCCCGCCGGGACAGCACAATGAGCAGTTCTTC    CASSPPGQHNEQFF   \n",
              "4       TGTGCCAGCAGCTTGGAAGGGTACGGGACGCCGGCTGAAGCTTTCTTT  CASSLEGYGTPAEAFF   \n",
              "...                                                  ...               ...   \n",
              "178172     TGCGCCAGCAGCATGGGACTAGCGGGGCGAGAGACCCAGTACTTC   CASSMGLAGRETQYF   \n",
              "178173        TGCAGTGCTCGACTAGCGGGGGACCAAGAGACCCAGTACTTC    CSARLAGDQETQYF   \n",
              "178174        TGCAGTGCTCCCGGGACAGGGGCTAACTATGGCTACACCTTC    CSAPGTGANYGYTF   \n",
              "178175        TGCGCCAGCAGCTTACAGGAGCGCACAGATACGCAGTATTTT    CASSLQERTDTQYF   \n",
              "178176           TGTATGGCAGGTGGGGTAGGGATGTACGAGCAGTACGTC     CMAGGVGMYEQYV   \n",
              "\n",
              "        count          Pgen  \n",
              "0       80952  7.367043e-10  \n",
              "1       66759  3.048185e-10  \n",
              "2       40106  2.707978e-08  \n",
              "3       34136  1.126630e-08  \n",
              "4       22017  1.391587e-12  \n",
              "...       ...           ...  \n",
              "178172      2  1.170109e-08  \n",
              "178173      2  1.170152e-08  \n",
              "178174      2  1.170543e-08  \n",
              "178175      2  1.170883e-08  \n",
              "178176      2  1.088585e-22  \n",
              "\n",
              "[178177 rows x 4 columns]"
            ],
            "text/html": [
              "\n",
              "  <div id=\"df-41635f28-84f7-4a5e-8dac-668a5d6ccaa0\">\n",
              "    <div class=\"colab-df-container\">\n",
              "      <div>\n",
              "<style scoped>\n",
              "    .dataframe tbody tr th:only-of-type {\n",
              "        vertical-align: middle;\n",
              "    }\n",
              "\n",
              "    .dataframe tbody tr th {\n",
              "        vertical-align: top;\n",
              "    }\n",
              "\n",
              "    .dataframe thead th {\n",
              "        text-align: right;\n",
              "    }\n",
              "</style>\n",
              "<table border=\"1\" class=\"dataframe\">\n",
              "  <thead>\n",
              "    <tr style=\"text-align: right;\">\n",
              "      <th></th>\n",
              "      <th>CDR3_nt</th>\n",
              "      <th>CDR3_aa</th>\n",
              "      <th>count</th>\n",
              "      <th>Pgen</th>\n",
              "    </tr>\n",
              "  </thead>\n",
              "  <tbody>\n",
              "    <tr>\n",
              "      <th>0</th>\n",
              "      <td>TGTGCCAGCAGCGCCCCAGCGGGGGTCGGCGAGCAGTACTTC</td>\n",
              "      <td>CASSAPAGVGEQYF</td>\n",
              "      <td>80952</td>\n",
              "      <td>7.367043e-10</td>\n",
              "    </tr>\n",
              "    <tr>\n",
              "      <th>1</th>\n",
              "      <td>TGTGCCAGCAGCCCAAGGGCAGGGAAGGGTGAGCAGTTCTTC</td>\n",
              "      <td>CASSPRAGKGEQFF</td>\n",
              "      <td>66759</td>\n",
              "      <td>3.048185e-10</td>\n",
              "    </tr>\n",
              "    <tr>\n",
              "      <th>2</th>\n",
              "      <td>TGTGCCAGCAGTTTTTGGACACCCTACGAGCAGTACTTC</td>\n",
              "      <td>CASSFWTPYEQYF</td>\n",
              "      <td>40106</td>\n",
              "      <td>2.707978e-08</td>\n",
              "    </tr>\n",
              "    <tr>\n",
              "      <th>3</th>\n",
              "      <td>TGTGCCAGCAGCCCGCCGGGACAGCACAATGAGCAGTTCTTC</td>\n",
              "      <td>CASSPPGQHNEQFF</td>\n",
              "      <td>34136</td>\n",
              "      <td>1.126630e-08</td>\n",
              "    </tr>\n",
              "    <tr>\n",
              "      <th>4</th>\n",
              "      <td>TGTGCCAGCAGCTTGGAAGGGTACGGGACGCCGGCTGAAGCTTTCTTT</td>\n",
              "      <td>CASSLEGYGTPAEAFF</td>\n",
              "      <td>22017</td>\n",
              "      <td>1.391587e-12</td>\n",
              "    </tr>\n",
              "    <tr>\n",
              "      <th>...</th>\n",
              "      <td>...</td>\n",
              "      <td>...</td>\n",
              "      <td>...</td>\n",
              "      <td>...</td>\n",
              "    </tr>\n",
              "    <tr>\n",
              "      <th>178172</th>\n",
              "      <td>TGCGCCAGCAGCATGGGACTAGCGGGGCGAGAGACCCAGTACTTC</td>\n",
              "      <td>CASSMGLAGRETQYF</td>\n",
              "      <td>2</td>\n",
              "      <td>1.170109e-08</td>\n",
              "    </tr>\n",
              "    <tr>\n",
              "      <th>178173</th>\n",
              "      <td>TGCAGTGCTCGACTAGCGGGGGACCAAGAGACCCAGTACTTC</td>\n",
              "      <td>CSARLAGDQETQYF</td>\n",
              "      <td>2</td>\n",
              "      <td>1.170152e-08</td>\n",
              "    </tr>\n",
              "    <tr>\n",
              "      <th>178174</th>\n",
              "      <td>TGCAGTGCTCCCGGGACAGGGGCTAACTATGGCTACACCTTC</td>\n",
              "      <td>CSAPGTGANYGYTF</td>\n",
              "      <td>2</td>\n",
              "      <td>1.170543e-08</td>\n",
              "    </tr>\n",
              "    <tr>\n",
              "      <th>178175</th>\n",
              "      <td>TGCGCCAGCAGCTTACAGGAGCGCACAGATACGCAGTATTTT</td>\n",
              "      <td>CASSLQERTDTQYF</td>\n",
              "      <td>2</td>\n",
              "      <td>1.170883e-08</td>\n",
              "    </tr>\n",
              "    <tr>\n",
              "      <th>178176</th>\n",
              "      <td>TGTATGGCAGGTGGGGTAGGGATGTACGAGCAGTACGTC</td>\n",
              "      <td>CMAGGVGMYEQYV</td>\n",
              "      <td>2</td>\n",
              "      <td>1.088585e-22</td>\n",
              "    </tr>\n",
              "  </tbody>\n",
              "</table>\n",
              "<p>178177 rows × 4 columns</p>\n",
              "</div>\n",
              "      <button class=\"colab-df-convert\" onclick=\"convertToInteractive('df-41635f28-84f7-4a5e-8dac-668a5d6ccaa0')\"\n",
              "              title=\"Convert this dataframe to an interactive table.\"\n",
              "              style=\"display:none;\">\n",
              "        \n",
              "  <svg xmlns=\"http://www.w3.org/2000/svg\" height=\"24px\"viewBox=\"0 0 24 24\"\n",
              "       width=\"24px\">\n",
              "    <path d=\"M0 0h24v24H0V0z\" fill=\"none\"/>\n",
              "    <path d=\"M18.56 5.44l.94 2.06.94-2.06 2.06-.94-2.06-.94-.94-2.06-.94 2.06-2.06.94zm-11 1L8.5 8.5l.94-2.06 2.06-.94-2.06-.94L8.5 2.5l-.94 2.06-2.06.94zm10 10l.94 2.06.94-2.06 2.06-.94-2.06-.94-.94-2.06-.94 2.06-2.06.94z\"/><path d=\"M17.41 7.96l-1.37-1.37c-.4-.4-.92-.59-1.43-.59-.52 0-1.04.2-1.43.59L10.3 9.45l-7.72 7.72c-.78.78-.78 2.05 0 2.83L4 21.41c.39.39.9.59 1.41.59.51 0 1.02-.2 1.41-.59l7.78-7.78 2.81-2.81c.8-.78.8-2.07 0-2.86zM5.41 20L4 18.59l7.72-7.72 1.47 1.35L5.41 20z\"/>\n",
              "  </svg>\n",
              "      </button>\n",
              "      \n",
              "  <style>\n",
              "    .colab-df-container {\n",
              "      display:flex;\n",
              "      flex-wrap:wrap;\n",
              "      gap: 12px;\n",
              "    }\n",
              "\n",
              "    .colab-df-convert {\n",
              "      background-color: #E8F0FE;\n",
              "      border: none;\n",
              "      border-radius: 50%;\n",
              "      cursor: pointer;\n",
              "      display: none;\n",
              "      fill: #1967D2;\n",
              "      height: 32px;\n",
              "      padding: 0 0 0 0;\n",
              "      width: 32px;\n",
              "    }\n",
              "\n",
              "    .colab-df-convert:hover {\n",
              "      background-color: #E2EBFA;\n",
              "      box-shadow: 0px 1px 2px rgba(60, 64, 67, 0.3), 0px 1px 3px 1px rgba(60, 64, 67, 0.15);\n",
              "      fill: #174EA6;\n",
              "    }\n",
              "\n",
              "    [theme=dark] .colab-df-convert {\n",
              "      background-color: #3B4455;\n",
              "      fill: #D2E3FC;\n",
              "    }\n",
              "\n",
              "    [theme=dark] .colab-df-convert:hover {\n",
              "      background-color: #434B5C;\n",
              "      box-shadow: 0px 1px 3px 1px rgba(0, 0, 0, 0.15);\n",
              "      filter: drop-shadow(0px 1px 2px rgba(0, 0, 0, 0.3));\n",
              "      fill: #FFFFFF;\n",
              "    }\n",
              "  </style>\n",
              "\n",
              "      <script>\n",
              "        const buttonEl =\n",
              "          document.querySelector('#df-41635f28-84f7-4a5e-8dac-668a5d6ccaa0 button.colab-df-convert');\n",
              "        buttonEl.style.display =\n",
              "          google.colab.kernel.accessAllowed ? 'block' : 'none';\n",
              "\n",
              "        async function convertToInteractive(key) {\n",
              "          const element = document.querySelector('#df-41635f28-84f7-4a5e-8dac-668a5d6ccaa0');\n",
              "          const dataTable =\n",
              "            await google.colab.kernel.invokeFunction('convertToInteractive',\n",
              "                                                     [key], {});\n",
              "          if (!dataTable) return;\n",
              "\n",
              "          const docLinkHtml = 'Like what you see? Visit the ' +\n",
              "            '<a target=\"_blank\" href=https://colab.research.google.com/notebooks/data_table.ipynb>data table notebook</a>'\n",
              "            + ' to learn more about interactive tables.';\n",
              "          element.innerHTML = '';\n",
              "          dataTable['output_type'] = 'display_data';\n",
              "          await google.colab.output.renderOutput(dataTable, element);\n",
              "          const docLink = document.createElement('div');\n",
              "          docLink.innerHTML = docLinkHtml;\n",
              "          element.appendChild(docLink);\n",
              "        }\n",
              "      </script>\n",
              "    </div>\n",
              "  </div>\n",
              "  "
            ]
          },
          "metadata": {},
          "execution_count": 18
        }
      ]
    },
    {
      "cell_type": "markdown",
      "source": [
        "Below we lot the distribution of Pgens across the dataset, showing the huge variablity of these numbers"
      ],
      "metadata": {
        "id": "ay4tYtywPMu1"
      }
    },
    {
      "cell_type": "code",
      "source": [
        "pgens = np.log(pgen_frame['Pgen'].values)\n",
        "bins = np.linspace(min(pgens), max(pgens), 100)\n",
        "plt.xlim(-50, -10)\n",
        "plt.xlabel('Log Pgen')\n",
        "plt.ylabel('pdf')\n",
        "h = plt.hist(pgens, bins=bins, density=True)\n",
        "\n",
        "plt.savefig('pgen_dist.png', dpi=200)"
      ],
      "metadata": {
        "colab": {
          "base_uri": "https://localhost:8080/",
          "height": 449
        },
        "id": "HUvI-GG_QGmo",
        "outputId": "657eb069-67ea-4e10-dd4a-da164104cdbb"
      },
      "execution_count": 32,
      "outputs": [
        {
          "output_type": "display_data",
          "data": {
            "text/plain": [
              "<Figure size 640x480 with 1 Axes>"
            ],
            "image/png": "[encoded data removed]"
          },
          "metadata": {}
        }
      ]
    },
    {
      "cell_type": "markdown",
      "source": [
        "### Computing the number of neighbours\n",
        "\n",
        "A neighbour is a sequence of the same length that has one amino-acid of difference.\n",
        "To identify the neighbours in this huge dataset we ues a tool that performs the hamming distance calculation in a smart and fast way: https://github.com/statbiophys/ATrieGC"
      ],
      "metadata": {
        "id": "oOxexK0gSd5T"
      }
    },
    {
      "cell_type": "code",
      "source": [
        "!pip install atriegc"
      ],
      "metadata": {
        "colab": {
          "base_uri": "https://localhost:8080/"
        },
        "id": "Q92ddcy0SVZC",
        "outputId": "750bc2a1-ba2d-47af-8437-069792da0bbb"
      },
      "execution_count": 33,
      "outputs": [
        {
          "output_type": "stream",
          "name": "stdout",
          "text": [
            "Looking in indexes: https://pypi.org/simple, https://us-python.pkg.dev/colab-wheels/public/simple/\n",
            "Collecting atriegc\n",
            "  Downloading atriegc-0.0.3.tar.gz (19 kB)\n",
            "  Preparing metadata (setup.py) ... \u001b[?25l\u001b[?25hdone\n",
            "Building wheels for collected packages: atriegc\n",
            "  Building wheel for atriegc (setup.py) ... \u001b[?25l\u001b[?25hdone\n",
            "  Created wheel for atriegc: filename=atriegc-0.0.3-cp310-cp310-linux_x86_64.whl size=1368269 sha256=871a7de8b93bb64ea864d6e912bb6cb0defb27743dce0afb7614ea5a49c5f0db\n",
            "  Stored in directory: /root/.cache/pip/wheels/7d/09/7e/5d3f2397e7b4c53204a14241e0b78b806e0d96e7fe5774cae5\n",
            "Successfully built atriegc\n",
            "Installing collected packages: atriegc\n",
            "Successfully installed atriegc-0.0.3\n"
          ]
        }
      ]
    },
    {
      "cell_type": "code",
      "source": [
        "import atriegc\n",
        "\n",
        "# A Trie object is created\n",
        "trie = atriegc.TrieAA()\n",
        "# All the amino-acid sequences are loaded\n",
        "trie.insert_list(pgen_frame['CDR3_aa'])\n",
        "\n",
        "def compute_n_neigh(row):\n",
        "  # The function neighbours finds all the sequences of a given hamming distance\n",
        "  # in the dataset. Here the distance is chosen to be 1\n",
        "  row['n_neigh'] = len(trie.neighbours(row['CDR3_aa'], 1))\n",
        "  return row"
      ],
      "metadata": {
        "id": "DXjwMfXXTKHe"
      },
      "execution_count": 35,
      "outputs": []
    },
    {
      "cell_type": "code",
      "source": [
        "# This takes a few minutes to run\n",
        "pgen_frame = pgen_frame.apply(compute_n_neigh, axis=1)\n",
        "pgen_frame"
      ],
      "metadata": {
        "colab": {
          "base_uri": "https://localhost:8080/",
          "height": 424
        },
        "id": "399lUXDmTSwY",
        "outputId": "2dacc937-ff7c-4853-d84e-2df12d81a915"
      },
      "execution_count": 37,
      "outputs": [
        {
          "output_type": "execute_result",
          "data": {
            "text/plain": [
              "                                                 CDR3_nt           CDR3_aa  \\\n",
              "0             TGTGCCAGCAGCGCCCCAGCGGGGGTCGGCGAGCAGTACTTC    CASSAPAGVGEQYF   \n",
              "1             TGTGCCAGCAGCCCAAGGGCAGGGAAGGGTGAGCAGTTCTTC    CASSPRAGKGEQFF   \n",
              "2                TGTGCCAGCAGTTTTTGGACACCCTACGAGCAGTACTTC     CASSFWTPYEQYF   \n",
              "3             TGTGCCAGCAGCCCGCCGGGACAGCACAATGAGCAGTTCTTC    CASSPPGQHNEQFF   \n",
              "4       TGTGCCAGCAGCTTGGAAGGGTACGGGACGCCGGCTGAAGCTTTCTTT  CASSLEGYGTPAEAFF   \n",
              "...                                                  ...               ...   \n",
              "178172     TGCGCCAGCAGCATGGGACTAGCGGGGCGAGAGACCCAGTACTTC   CASSMGLAGRETQYF   \n",
              "178173        TGCAGTGCTCGACTAGCGGGGGACCAAGAGACCCAGTACTTC    CSARLAGDQETQYF   \n",
              "178174        TGCAGTGCTCCCGGGACAGGGGCTAACTATGGCTACACCTTC    CSAPGTGANYGYTF   \n",
              "178175        TGCGCCAGCAGCTTACAGGAGCGCACAGATACGCAGTATTTT    CASSLQERTDTQYF   \n",
              "178176           TGTATGGCAGGTGGGGTAGGGATGTACGAGCAGTACGTC     CMAGGVGMYEQYV   \n",
              "\n",
              "        count          Pgen  n_neigh  \n",
              "0       80952  7.367043e-10        2  \n",
              "1       66759  3.048185e-10        1  \n",
              "2       40106  2.707978e-08        3  \n",
              "3       34136  1.126630e-08        2  \n",
              "4       22017  1.391587e-12        1  \n",
              "...       ...           ...      ...  \n",
              "178172      2  1.170109e-08        6  \n",
              "178173      2  1.170152e-08        3  \n",
              "178174      2  1.170543e-08        1  \n",
              "178175      2  1.170883e-08        1  \n",
              "178176      2  1.088585e-22        1  \n",
              "\n",
              "[178177 rows x 5 columns]"
            ],
            "text/html": [
              "\n",
              "  <div id=\"df-a805eb50-9d86-489b-9dea-723c70656073\">\n",
              "    <div class=\"colab-df-container\">\n",
              "      <div>\n",
              "<style scoped>\n",
              "    .dataframe tbody tr th:only-of-type {\n",
              "        vertical-align: middle;\n",
              "    }\n",
              "\n",
              "    .dataframe tbody tr th {\n",
              "        vertical-align: top;\n",
              "    }\n",
              "\n",
              "    .dataframe thead th {\n",
              "        text-align: right;\n",
              "    }\n",
              "</style>\n",
              "<table border=\"1\" class=\"dataframe\">\n",
              "  <thead>\n",
              "    <tr style=\"text-align: right;\">\n",
              "      <th></th>\n",
              "      <th>CDR3_nt</th>\n",
              "      <th>CDR3_aa</th>\n",
              "      <th>count</th>\n",
              "      <th>Pgen</th>\n",
              "      <th>n_neigh</th>\n",
              "    </tr>\n",
              "  </thead>\n",
              "  <tbody>\n",
              "    <tr>\n",
              "      <th>0</th>\n",
              "      <td>TGTGCCAGCAGCGCCCCAGCGGGGGTCGGCGAGCAGTACTTC</td>\n",
              "      <td>CASSAPAGVGEQYF</td>\n",
              "      <td>80952</td>\n",
              "      <td>7.367043e-10</td>\n",
              "      <td>2</td>\n",
              "    </tr>\n",
              "    <tr>\n",
              "      <th>1</th>\n",
              "      <td>TGTGCCAGCAGCCCAAGGGCAGGGAAGGGTGAGCAGTTCTTC</td>\n",
              "      <td>CASSPRAGKGEQFF</td>\n",
              "      <td>66759</td>\n",
              "      <td>3.048185e-10</td>\n",
              "      <td>1</td>\n",
              "    </tr>\n",
              "    <tr>\n",
              "      <th>2</th>\n",
              "      <td>TGTGCCAGCAGTTTTTGGACACCCTACGAGCAGTACTTC</td>\n",
              "      <td>CASSFWTPYEQYF</td>\n",
              "      <td>40106</td>\n",
              "      <td>2.707978e-08</td>\n",
              "      <td>3</td>\n",
              "    </tr>\n",
              "    <tr>\n",
              "      <th>3</th>\n",
              "      <td>TGTGCCAGCAGCCCGCCGGGACAGCACAATGAGCAGTTCTTC</td>\n",
              "      <td>CASSPPGQHNEQFF</td>\n",
              "      <td>34136</td>\n",
              "      <td>1.126630e-08</td>\n",
              "      <td>2</td>\n",
              "    </tr>\n",
              "    <tr>\n",
              "      <th>4</th>\n",
              "      <td>TGTGCCAGCAGCTTGGAAGGGTACGGGACGCCGGCTGAAGCTTTCTTT</td>\n",
              "      <td>CASSLEGYGTPAEAFF</td>\n",
              "      <td>22017</td>\n",
              "      <td>1.391587e-12</td>\n",
              "      <td>1</td>\n",
              "    </tr>\n",
              "    <tr>\n",
              "      <th>...</th>\n",
              "      <td>...</td>\n",
              "      <td>...</td>\n",
              "      <td>...</td>\n",
              "      <td>...</td>\n",
              "      <td>...</td>\n",
              "    </tr>\n",
              "    <tr>\n",
              "      <th>178172</th>\n",
              "      <td>TGCGCCAGCAGCATGGGACTAGCGGGGCGAGAGACCCAGTACTTC</td>\n",
              "      <td>CASSMGLAGRETQYF</td>\n",
              "      <td>2</td>\n",
              "      <td>1.170109e-08</td>\n",
              "      <td>6</td>\n",
              "    </tr>\n",
              "    <tr>\n",
              "      <th>178173</th>\n",
              "      <td>TGCAGTGCTCGACTAGCGGGGGACCAAGAGACCCAGTACTTC</td>\n",
              "      <td>CSARLAGDQETQYF</td>\n",
              "      <td>2</td>\n",
              "      <td>1.170152e-08</td>\n",
              "      <td>3</td>\n",
              "    </tr>\n",
              "    <tr>\n",
              "      <th>178174</th>\n",
              "      <td>TGCAGTGCTCCCGGGACAGGGGCTAACTATGGCTACACCTTC</td>\n",
              "      <td>CSAPGTGANYGYTF</td>\n",
              "      <td>2</td>\n",
              "      <td>1.170543e-08</td>\n",
              "      <td>1</td>\n",
              "    </tr>\n",
              "    <tr>\n",
              "      <th>178175</th>\n",
              "      <td>TGCGCCAGCAGCTTACAGGAGCGCACAGATACGCAGTATTTT</td>\n",
              "      <td>CASSLQERTDTQYF</td>\n",
              "      <td>2</td>\n",
              "      <td>1.170883e-08</td>\n",
              "      <td>1</td>\n",
              "    </tr>\n",
              "    <tr>\n",
              "      <th>178176</th>\n",
              "      <td>TGTATGGCAGGTGGGGTAGGGATGTACGAGCAGTACGTC</td>\n",
              "      <td>CMAGGVGMYEQYV</td>\n",
              "      <td>2</td>\n",
              "      <td>1.088585e-22</td>\n",
              "      <td>1</td>\n",
              "    </tr>\n",
              "  </tbody>\n",
              "</table>\n",
              "<p>178177 rows × 5 columns</p>\n",
              "</div>\n",
              "      <button class=\"colab-df-convert\" onclick=\"convertToInteractive('df-a805eb50-9d86-489b-9dea-723c70656073')\"\n",
              "              title=\"Convert this dataframe to an interactive table.\"\n",
              "              style=\"display:none;\">\n",
              "        \n",
              "  <svg xmlns=\"http://www.w3.org/2000/svg\" height=\"24px\"viewBox=\"0 0 24 24\"\n",
              "       width=\"24px\">\n",
              "    <path d=\"M0 0h24v24H0V0z\" fill=\"none\"/>\n",
              "    <path d=\"M18.56 5.44l.94 2.06.94-2.06 2.06-.94-2.06-.94-.94-2.06-.94 2.06-2.06.94zm-11 1L8.5 8.5l.94-2.06 2.06-.94-2.06-.94L8.5 2.5l-.94 2.06-2.06.94zm10 10l.94 2.06.94-2.06 2.06-.94-2.06-.94-.94-2.06-.94 2.06-2.06.94z\"/><path d=\"M17.41 7.96l-1.37-1.37c-.4-.4-.92-.59-1.43-.59-.52 0-1.04.2-1.43.59L10.3 9.45l-7.72 7.72c-.78.78-.78 2.05 0 2.83L4 21.41c.39.39.9.59 1.41.59.51 0 1.02-.2 1.41-.59l7.78-7.78 2.81-2.81c.8-.78.8-2.07 0-2.86zM5.41 20L4 18.59l7.72-7.72 1.47 1.35L5.41 20z\"/>\n",
              "  </svg>\n",
              "      </button>\n",
              "      \n",
              "  <style>\n",
              "    .colab-df-container {\n",
              "      display:flex;\n",
              "      flex-wrap:wrap;\n",
              "      gap: 12px;\n",
              "    }\n",
              "\n",
              "    .colab-df-convert {\n",
              "      background-color: #E8F0FE;\n",
              "      border: none;\n",
              "      border-radius: 50%;\n",
              "      cursor: pointer;\n",
              "      display: none;\n",
              "      fill: #1967D2;\n",
              "      height: 32px;\n",
              "      padding: 0 0 0 0;\n",
              "      width: 32px;\n",
              "    }\n",
              "\n",
              "    .colab-df-convert:hover {\n",
              "      background-color: #E2EBFA;\n",
              "      box-shadow: 0px 1px 2px rgba(60, 64, 67, 0.3), 0px 1px 3px 1px rgba(60, 64, 67, 0.15);\n",
              "      fill: #174EA6;\n",
              "    }\n",
              "\n",
              "    [theme=dark] .colab-df-convert {\n",
              "      background-color: #3B4455;\n",
              "      fill: #D2E3FC;\n",
              "    }\n",
              "\n",
              "    [theme=dark] .colab-df-convert:hover {\n",
              "      background-color: #434B5C;\n",
              "      box-shadow: 0px 1px 3px 1px rgba(0, 0, 0, 0.15);\n",
              "      filter: drop-shadow(0px 1px 2px rgba(0, 0, 0, 0.3));\n",
              "      fill: #FFFFFF;\n",
              "    }\n",
              "  </style>\n",
              "\n",
              "      <script>\n",
              "        const buttonEl =\n",
              "          document.querySelector('#df-a805eb50-9d86-489b-9dea-723c70656073 button.colab-df-convert');\n",
              "        buttonEl.style.display =\n",
              "          google.colab.kernel.accessAllowed ? 'block' : 'none';\n",
              "\n",
              "        async function convertToInteractive(key) {\n",
              "          const element = document.querySelector('#df-a805eb50-9d86-489b-9dea-723c70656073');\n",
              "          const dataTable =\n",
              "            await google.colab.kernel.invokeFunction('convertToInteractive',\n",
              "                                                     [key], {});\n",
              "          if (!dataTable) return;\n",
              "\n",
              "          const docLinkHtml = 'Like what you see? Visit the ' +\n",
              "            '<a target=\"_blank\" href=https://colab.research.google.com/notebooks/data_table.ipynb>data table notebook</a>'\n",
              "            + ' to learn more about interactive tables.';\n",
              "          element.innerHTML = '';\n",
              "          dataTable['output_type'] = 'display_data';\n",
              "          await google.colab.output.renderOutput(dataTable, element);\n",
              "          const docLink = document.createElement('div');\n",
              "          docLink.innerHTML = docLinkHtml;\n",
              "          element.appendChild(docLink);\n",
              "        }\n",
              "      </script>\n",
              "    </div>\n",
              "  </div>\n",
              "  "
            ]
          },
          "metadata": {},
          "execution_count": 37
        }
      ]
    },
    {
      "cell_type": "code",
      "source": [
        "plt.yscale('log')\n",
        "plt.xlabel('N. of neighbours')\n",
        "plt.ylabel('Counts')\n",
        "h=plt.hist(pgen_frame['n_neigh'], bins=max(pgen_frame['n_neigh']))"
      ],
      "metadata": {
        "colab": {
          "base_uri": "https://localhost:8080/",
          "height": 449
        },
        "id": "8mLI-UcEUr-Y",
        "outputId": "20904691-c92f-4bba-afa6-f75b28c87f73"
      },
      "execution_count": 43,
      "outputs": [
        {
          "output_type": "display_data",
          "data": {
            "text/plain": [
              "<Figure size 640x480 with 1 Axes>"
            ],
            "image/png": "[encoded data removed]"
          },
          "metadata": {}
        }
      ]
    },
    {
      "cell_type": "markdown",
      "source": [
        "### Computing Pgen for all the neighbours of every sequence "
      ],
      "metadata": {
        "id": "bLmXGDT_UEZs"
      }
    },
    {
      "cell_type": "markdown",
      "source": [
        "The next step computes the summation of Pgen of every neighbours of each sequence in the dataset.\n",
        "This consumes a lot of computational resources and to speed up the process we compute this number only for the sequences with a number of neighbours larger than 2 (below it is very unlikely that they will be enriched)"
      ],
      "metadata": {
        "id": "_MlkD9zBUQiG"
      }
    },
    {
      "cell_type": "code",
      "source": [
        "aa_alphabet = 'RHKDESTNQCGPAVILMFYW'\n",
        "\n",
        "def compute_l(row):\n",
        "    \n",
        "    # Avoiding the computation for N neighbours smaller than 2\n",
        "    if row['n_neigh'] <= 2:\n",
        "        row['Pgen_neigh'] = 0\n",
        "        return row\n",
        "    \n",
        "    ref = row['CDR3_aa']\n",
        "    sum_pgen = 0\n",
        "    # Iteration over all the letters in the sequence\n",
        "    for i in range(len(ref)):\n",
        "\n",
        "      # Iteration over all the possible aminoacid\n",
        "        for new_aa in aa_alphabet:\n",
        "\n",
        "            # From string to list\n",
        "            neigh = list(ref)\n",
        "\n",
        "            # Skipping the same letter of the sequence\n",
        "            if new_aa == neigh[i]:\n",
        "              continue\n",
        "\n",
        "            # Changing the letter and re-casting to a string\n",
        "            neigh[i] = new_aa\n",
        "            neigh = \"\".join(neigh)\n",
        "            \n",
        "            sum_pgen += pgen_model.compute_aa_CDR3_pgen(neigh)\n",
        "\n",
        "    row['Pgen_neigh'] = sum_pgen\n",
        "    \n",
        "    return row"
      ],
      "metadata": {
        "id": "Y3eOi0oWUE_-"
      },
      "execution_count": 44,
      "outputs": []
    },
    {
      "cell_type": "code",
      "source": [
        "# Again the actual computation is commented\n",
        "#pgen_frame = pgen_frame.apply(compute_l, axis=1)"
      ],
      "metadata": {
        "id": "ojSjx39nV2Ug"
      },
      "execution_count": 47,
      "outputs": []
    },
    {
      "cell_type": "markdown",
      "source": [
        "The result can be loaded"
      ],
      "metadata": {
        "id": "blJqdJY_W0ux"
      }
    },
    {
      "cell_type": "code",
      "source": [
        "pgen_frame = pd.read_csv(data_folder+'sequences_pgen_neigh.tsv', sep='\\t', index_col=0)\n",
        "pgen_frame"
      ],
      "metadata": {
        "colab": {
          "base_uri": "https://localhost:8080/",
          "height": 424
        },
        "id": "XFOrenJSWLtW",
        "outputId": "ba35f2e4-8b39-44a1-b9a1-9221cbcd77ca"
      },
      "execution_count": 49,
      "outputs": [
        {
          "output_type": "execute_result",
          "data": {
            "text/plain": [
              "                                                 CDR3_nt           CDR3_aa  \\\n",
              "0             TGTGCCAGCAGCGCCCCAGCGGGGGTCGGCGAGCAGTACTTC    CASSAPAGVGEQYF   \n",
              "1             TGTGCCAGCAGCCCAAGGGCAGGGAAGGGTGAGCAGTTCTTC    CASSPRAGKGEQFF   \n",
              "2                TGTGCCAGCAGTTTTTGGACACCCTACGAGCAGTACTTC     CASSFWTPYEQYF   \n",
              "3             TGTGCCAGCAGCCCGCCGGGACAGCACAATGAGCAGTTCTTC    CASSPPGQHNEQFF   \n",
              "4       TGTGCCAGCAGCTTGGAAGGGTACGGGACGCCGGCTGAAGCTTTCTTT  CASSLEGYGTPAEAFF   \n",
              "...                                                  ...               ...   \n",
              "178172     TGCGCCAGCAGCATGGGACTAGCGGGGCGAGAGACCCAGTACTTC   CASSMGLAGRETQYF   \n",
              "178173        TGCAGTGCTCGACTAGCGGGGGACCAAGAGACCCAGTACTTC    CSARLAGDQETQYF   \n",
              "178174        TGCAGTGCTCCCGGGACAGGGGCTAACTATGGCTACACCTTC    CSAPGTGANYGYTF   \n",
              "178175        TGCGCCAGCAGCTTACAGGAGCGCACAGATACGCAGTATTTT    CASSLQERTDTQYF   \n",
              "178176           TGTATGGCAGGTGGGGTAGGGATGTACGAGCAGTACGTC     CMAGGVGMYEQYV   \n",
              "\n",
              "                Pgen  n_neigh    Pgen_neigh  \n",
              "0       7.367043e-10        2  0.000000e+00  \n",
              "1       3.048185e-10        1  0.000000e+00  \n",
              "2       2.707978e-08        3  1.909027e-06  \n",
              "3       1.126630e-08        2  0.000000e+00  \n",
              "4       1.391587e-12        1  0.000000e+00  \n",
              "...              ...      ...           ...  \n",
              "178172  1.170109e-08        6  1.087258e-06  \n",
              "178173  1.170152e-08        3  4.471216e-07  \n",
              "178174  1.170543e-08        1  0.000000e+00  \n",
              "178175  1.170883e-08        1  0.000000e+00  \n",
              "178176  1.088585e-22        1  0.000000e+00  \n",
              "\n",
              "[178177 rows x 5 columns]"
            ],
            "text/html": [
              "\n",
              "  <div id=\"df-dd016281-3ca0-465e-aae0-276721229854\">\n",
              "    <div class=\"colab-df-container\">\n",
              "      <div>\n",
              "<style scoped>\n",
              "    .dataframe tbody tr th:only-of-type {\n",
              "        vertical-align: middle;\n",
              "    }\n",
              "\n",
              "    .dataframe tbody tr th {\n",
              "        vertical-align: top;\n",
              "    }\n",
              "\n",
              "    .dataframe thead th {\n",
              "        text-align: right;\n",
              "    }\n",
              "</style>\n",
              "<table border=\"1\" class=\"dataframe\">\n",
              "  <thead>\n",
              "    <tr style=\"text-align: right;\">\n",
              "      <th></th>\n",
              "      <th>CDR3_nt</th>\n",
              "      <th>CDR3_aa</th>\n",
              "      <th>Pgen</th>\n",
              "      <th>n_neigh</th>\n",
              "      <th>Pgen_neigh</th>\n",
              "    </tr>\n",
              "  </thead>\n",
              "  <tbody>\n",
              "    <tr>\n",
              "      <th>0</th>\n",
              "      <td>TGTGCCAGCAGCGCCCCAGCGGGGGTCGGCGAGCAGTACTTC</td>\n",
              "      <td>CASSAPAGVGEQYF</td>\n",
              "      <td>7.367043e-10</td>\n",
              "      <td>2</td>\n",
              "      <td>0.000000e+00</td>\n",
              "    </tr>\n",
              "    <tr>\n",
              "      <th>1</th>\n",
              "      <td>TGTGCCAGCAGCCCAAGGGCAGGGAAGGGTGAGCAGTTCTTC</td>\n",
              "      <td>CASSPRAGKGEQFF</td>\n",
              "      <td>3.048185e-10</td>\n",
              "      <td>1</td>\n",
              "      <td>0.000000e+00</td>\n",
              "    </tr>\n",
              "    <tr>\n",
              "      <th>2</th>\n",
              "      <td>TGTGCCAGCAGTTTTTGGACACCCTACGAGCAGTACTTC</td>\n",
              "      <td>CASSFWTPYEQYF</td>\n",
              "      <td>2.707978e-08</td>\n",
              "      <td>3</td>\n",
              "      <td>1.909027e-06</td>\n",
              "    </tr>\n",
              "    <tr>\n",
              "      <th>3</th>\n",
              "      <td>TGTGCCAGCAGCCCGCCGGGACAGCACAATGAGCAGTTCTTC</td>\n",
              "      <td>CASSPPGQHNEQFF</td>\n",
              "      <td>1.126630e-08</td>\n",
              "      <td>2</td>\n",
              "      <td>0.000000e+00</td>\n",
              "    </tr>\n",
              "    <tr>\n",
              "      <th>4</th>\n",
              "      <td>TGTGCCAGCAGCTTGGAAGGGTACGGGACGCCGGCTGAAGCTTTCTTT</td>\n",
              "      <td>CASSLEGYGTPAEAFF</td>\n",
              "      <td>1.391587e-12</td>\n",
              "      <td>1</td>\n",
              "      <td>0.000000e+00</td>\n",
              "    </tr>\n",
              "    <tr>\n",
              "      <th>...</th>\n",
              "      <td>...</td>\n",
              "      <td>...</td>\n",
              "      <td>...</td>\n",
              "      <td>...</td>\n",
              "      <td>...</td>\n",
              "    </tr>\n",
              "    <tr>\n",
              "      <th>178172</th>\n",
              "      <td>TGCGCCAGCAGCATGGGACTAGCGGGGCGAGAGACCCAGTACTTC</td>\n",
              "      <td>CASSMGLAGRETQYF</td>\n",
              "      <td>1.170109e-08</td>\n",
              "      <td>6</td>\n",
              "      <td>1.087258e-06</td>\n",
              "    </tr>\n",
              "    <tr>\n",
              "      <th>178173</th>\n",
              "      <td>TGCAGTGCTCGACTAGCGGGGGACCAAGAGACCCAGTACTTC</td>\n",
              "      <td>CSARLAGDQETQYF</td>\n",
              "      <td>1.170152e-08</td>\n",
              "      <td>3</td>\n",
              "      <td>4.471216e-07</td>\n",
              "    </tr>\n",
              "    <tr>\n",
              "      <th>178174</th>\n",
              "      <td>TGCAGTGCTCCCGGGACAGGGGCTAACTATGGCTACACCTTC</td>\n",
              "      <td>CSAPGTGANYGYTF</td>\n",
              "      <td>1.170543e-08</td>\n",
              "      <td>1</td>\n",
              "      <td>0.000000e+00</td>\n",
              "    </tr>\n",
              "    <tr>\n",
              "      <th>178175</th>\n",
              "      <td>TGCGCCAGCAGCTTACAGGAGCGCACAGATACGCAGTATTTT</td>\n",
              "      <td>CASSLQERTDTQYF</td>\n",
              "      <td>1.170883e-08</td>\n",
              "      <td>1</td>\n",
              "      <td>0.000000e+00</td>\n",
              "    </tr>\n",
              "    <tr>\n",
              "      <th>178176</th>\n",
              "      <td>TGTATGGCAGGTGGGGTAGGGATGTACGAGCAGTACGTC</td>\n",
              "      <td>CMAGGVGMYEQYV</td>\n",
              "      <td>1.088585e-22</td>\n",
              "      <td>1</td>\n",
              "      <td>0.000000e+00</td>\n",
              "    </tr>\n",
              "  </tbody>\n",
              "</table>\n",
              "<p>178177 rows × 5 columns</p>\n",
              "</div>\n",
              "      <button class=\"colab-df-convert\" onclick=\"convertToInteractive('df-dd016281-3ca0-465e-aae0-276721229854')\"\n",
              "              title=\"Convert this dataframe to an interactive table.\"\n",
              "              style=\"display:none;\">\n",
              "        \n",
              "  <svg xmlns=\"http://www.w3.org/2000/svg\" height=\"24px\"viewBox=\"0 0 24 24\"\n",
              "       width=\"24px\">\n",
              "    <path d=\"M0 0h24v24H0V0z\" fill=\"none\"/>\n",
              "    <path d=\"M18.56 5.44l.94 2.06.94-2.06 2.06-.94-2.06-.94-.94-2.06-.94 2.06-2.06.94zm-11 1L8.5 8.5l.94-2.06 2.06-.94-2.06-.94L8.5 2.5l-.94 2.06-2.06.94zm10 10l.94 2.06.94-2.06 2.06-.94-2.06-.94-.94-2.06-.94 2.06-2.06.94z\"/><path d=\"M17.41 7.96l-1.37-1.37c-.4-.4-.92-.59-1.43-.59-.52 0-1.04.2-1.43.59L10.3 9.45l-7.72 7.72c-.78.78-.78 2.05 0 2.83L4 21.41c.39.39.9.59 1.41.59.51 0 1.02-.2 1.41-.59l7.78-7.78 2.81-2.81c.8-.78.8-2.07 0-2.86zM5.41 20L4 18.59l7.72-7.72 1.47 1.35L5.41 20z\"/>\n",
              "  </svg>\n",
              "      </button>\n",
              "      \n",
              "  <style>\n",
              "    .colab-df-container {\n",
              "      display:flex;\n",
              "      flex-wrap:wrap;\n",
              "      gap: 12px;\n",
              "    }\n",
              "\n",
              "    .colab-df-convert {\n",
              "      background-color: #E8F0FE;\n",
              "      border: none;\n",
              "      border-radius: 50%;\n",
              "      cursor: pointer;\n",
              "      display: none;\n",
              "      fill: #1967D2;\n",
              "      height: 32px;\n",
              "      padding: 0 0 0 0;\n",
              "      width: 32px;\n",
              "    }\n",
              "\n",
              "    .colab-df-convert:hover {\n",
              "      background-color: #E2EBFA;\n",
              "      box-shadow: 0px 1px 2px rgba(60, 64, 67, 0.3), 0px 1px 3px 1px rgba(60, 64, 67, 0.15);\n",
              "      fill: #174EA6;\n",
              "    }\n",
              "\n",
              "    [theme=dark] .colab-df-convert {\n",
              "      background-color: #3B4455;\n",
              "      fill: #D2E3FC;\n",
              "    }\n",
              "\n",
              "    [theme=dark] .colab-df-convert:hover {\n",
              "      background-color: #434B5C;\n",
              "      box-shadow: 0px 1px 3px 1px rgba(0, 0, 0, 0.15);\n",
              "      filter: drop-shadow(0px 1px 2px rgba(0, 0, 0, 0.3));\n",
              "      fill: #FFFFFF;\n",
              "    }\n",
              "  </style>\n",
              "\n",
              "      <script>\n",
              "        const buttonEl =\n",
              "          document.querySelector('#df-dd016281-3ca0-465e-aae0-276721229854 button.colab-df-convert');\n",
              "        buttonEl.style.display =\n",
              "          google.colab.kernel.accessAllowed ? 'block' : 'none';\n",
              "\n",
              "        async function convertToInteractive(key) {\n",
              "          const element = document.querySelector('#df-dd016281-3ca0-465e-aae0-276721229854');\n",
              "          const dataTable =\n",
              "            await google.colab.kernel.invokeFunction('convertToInteractive',\n",
              "                                                     [key], {});\n",
              "          if (!dataTable) return;\n",
              "\n",
              "          const docLinkHtml = 'Like what you see? Visit the ' +\n",
              "            '<a target=\"_blank\" href=https://colab.research.google.com/notebooks/data_table.ipynb>data table notebook</a>'\n",
              "            + ' to learn more about interactive tables.';\n",
              "          element.innerHTML = '';\n",
              "          dataTable['output_type'] = 'display_data';\n",
              "          await google.colab.output.renderOutput(dataTable, element);\n",
              "          const docLink = document.createElement('div');\n",
              "          docLink.innerHTML = docLinkHtml;\n",
              "          element.appendChild(docLink);\n",
              "        }\n",
              "      </script>\n",
              "    </div>\n",
              "  </div>\n",
              "  "
            ]
          },
          "metadata": {},
          "execution_count": 49
        }
      ]
    },
    {
      "cell_type": "code",
      "source": [],
      "metadata": {
        "id": "IAw0gv6jWO1X"
      },
      "execution_count": null,
      "outputs": []
    }
  ]
}