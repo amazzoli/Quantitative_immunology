{
  "nbformat": 4,
  "nbformat_minor": 0,
  "metadata": {
    "colab": {
      "provenance": [],
      "authorship_tag": "ABX9TyPEnhGgFnyTv4NYNbj3Nay5",
      "include_colab_link": true
    },
    "kernelspec": {
      "name": "python3",
      "display_name": "Python 3"
    },
    "language_info": {
      "name": "python"
    }
  },
  "cells": [
    {
      "cell_type": "markdown",
      "metadata": {
        "id": "view-in-github",
        "colab_type": "text"
      },
      "source": [
        "<a href=\"https://colab.research.google.com/github/amazzoli/Quantitative_immunology/blob/main/notebooks/ALICE_preprocess.ipynb\" target=\"_parent\"><img src=\"https://colab.research.google.com/assets/colab-badge.svg\" alt=\"Open In Colab\"/></a>"
      ]
    },
    {
      "cell_type": "code",
      "execution_count": 1,
      "metadata": {
        "id": "TjjrIHxEwibP"
      },
      "outputs": [],
      "source": [
        "import numpy as np\n",
        "import pandas as pd\n",
        "import matplotlib.pyplot as plt"
      ]
    },
    {
      "cell_type": "markdown",
      "source": [
        "# Preprocessing the clonotype table\n",
        "\n",
        "Here we start from a table of clonotype and we compute the generation probability of each sequence and neighbour sequences using the software OLGA, https://github.com/statbiophys/OLGA.\n",
        "\n",
        "Notice that the notebook takes a very long time to run.\n",
        "The resulting table are already saved in the repository of the course.\n",
        "If you are interested in re-running everything, it takes more than one day and ~I suggest to run it on a local machine and not on colab (where unexpected disconnections can happen).\n"
      ],
      "metadata": {
        "id": "zdNrEZHx5exd"
      }
    },
    {
      "cell_type": "markdown",
      "source": [
        "### Cloneing the repo"
      ],
      "metadata": {
        "id": "xcLLBqp6LzKE"
      }
    },
    {
      "cell_type": "code",
      "source": [
        "%%bash\n",
        "git clone https://github.com/amazzoli/Quantitative_immunology.git"
      ],
      "metadata": {
        "id": "aKVtD4RAwi_V"
      },
      "execution_count": null,
      "outputs": []
    },
    {
      "cell_type": "markdown",
      "source": [
        "### Installing the software to compute Pgen and setting it up"
      ],
      "metadata": {
        "id": "DOcjSMC3L0d0"
      }
    },
    {
      "cell_type": "code",
      "source": [
        "!pip install olga"
      ],
      "metadata": {
        "colab": {
          "base_uri": "https://localhost:8080/"
        },
        "id": "ayMvidlHw22t",
        "outputId": "14d78654-9fb8-4ba2-e7f8-c9baa6f0801d"
      },
      "execution_count": 3,
      "outputs": [
        {
          "output_type": "stream",
          "name": "stdout",
          "text": [
            "Looking in indexes: https://pypi.org/simple, https://us-python.pkg.dev/colab-wheels/public/simple/\n",
            "Requirement already satisfied: olga in /usr/local/lib/python3.10/dist-packages (1.2.4)\n"
          ]
        }
      ]
    },
    {
      "cell_type": "code",
      "source": [
        "import olga.load_model as load_model\n",
        "import olga.generation_probability as pgen"
      ],
      "metadata": {
        "id": "UsFMhZQjw4E0"
      },
      "execution_count": 4,
      "outputs": []
    },
    {
      "cell_type": "code",
      "source": [
        "model_dir = 'Quantitative_immunology/data/'\n",
        "\n",
        "params_file_name = model_dir + 'default_models/human_T_beta/model_params.txt'\n",
        "marginals_file_name = model_dir + 'default_models/human_T_beta/model_marginals.txt'\n",
        "V_anchor_pos_file = model_dir + 'default_models/human_T_beta/V_gene_CDR3_anchors.csv'\n",
        "J_anchor_pos_file = model_dir + 'default_models/human_T_beta/J_gene_CDR3_anchors.csv'"
      ],
      "metadata": {
        "id": "JiPUU8ddx4GP"
      },
      "execution_count": 5,
      "outputs": []
    },
    {
      "cell_type": "code",
      "source": [
        "genomic_data = load_model.GenomicDataVDJ()\n",
        "genomic_data.load_igor_genomic_data(params_file_name, V_anchor_pos_file, J_anchor_pos_file)\n",
        "generative_model = load_model.GenerativeModelVDJ()\n",
        "generative_model.load_and_process_igor_model(marginals_file_name)\n",
        "pgen_model = pgen.GenerationProbabilityVDJ(generative_model, genomic_data)"
      ],
      "metadata": {
        "id": "yBp-yBW0yz-q"
      },
      "execution_count": 6,
      "outputs": []
    },
    {
      "cell_type": "markdown",
      "source": [
        "### Importing the dataset and computing Pgen\n",
        "\n",
        "The imported dataset is a sample of a patient that got the yellow fever vaccine a few weeks before."
      ],
      "metadata": {
        "id": "OTZAP4UIMl74"
      }
    },
    {
      "cell_type": "code",
      "source": [
        "data_folder = 'Quantitative_immunology/data/'\n",
        "frame = pd.read_csv(data_folder+'sequences.tsv', sep='\\t', index_col=0)"
      ],
      "metadata": {
        "id": "Wxm55i9HwoG8"
      },
      "execution_count": 11,
      "outputs": []
    },
    {
      "cell_type": "code",
      "source": [
        "frame"
      ],
      "metadata": {
        "colab": {
          "base_uri": "https://localhost:8080/",
          "height": 424
        },
        "id": "byGjqYDm0bsR",
        "outputId": "89f8470f-40f3-4c7b-d883-5b7a211d6889"
      },
      "execution_count": 12,
      "outputs": [
        {
          "output_type": "execute_result",
          "data": {
            "text/plain": [
              "                                                 CDR3_nt           CDR3_aa  \\\n",
              "0             TGTGCCAGCAGCGCCCCAGCGGGGGTCGGCGAGCAGTACTTC    CASSAPAGVGEQYF   \n",
              "1             TGTGCCAGCAGCCCAAGGGCAGGGAAGGGTGAGCAGTTCTTC    CASSPRAGKGEQFF   \n",
              "2                TGTGCCAGCAGTTTTTGGACACCCTACGAGCAGTACTTC     CASSFWTPYEQYF   \n",
              "3             TGTGCCAGCAGCCCGCCGGGACAGCACAATGAGCAGTTCTTC    CASSPPGQHNEQFF   \n",
              "4       TGTGCCAGCAGCTTGGAAGGGTACGGGACGCCGGCTGAAGCTTTCTTT  CASSLEGYGTPAEAFF   \n",
              "...                                                  ...               ...   \n",
              "182146                                CGATTGCAAGAGTTCTTC            RLQEFF   \n",
              "182147                                 TGTGCCACCGGTTCTTC            CAT_FF   \n",
              "182148                                 TGCGCCAGCAGTTCTTC            CAS_FF   \n",
              "182149                                  TGTGCCAGCAGCCCAA            CAS_AQ   \n",
              "182150                                  TGCGCCAGCCTCCCTC            CAS_SL   \n",
              "\n",
              "        count  \n",
              "0       80952  \n",
              "1       66759  \n",
              "2       40106  \n",
              "3       34136  \n",
              "4       22017  \n",
              "...       ...  \n",
              "182146      2  \n",
              "182147      2  \n",
              "182148      2  \n",
              "182149      2  \n",
              "182150      2  \n",
              "\n",
              "[182151 rows x 3 columns]"
            ],
            "text/html": [
              "\n",
              "  <div id=\"df-7e752feb-6331-4715-b892-95618d7c759d\">\n",
              "    <div class=\"colab-df-container\">\n",
              "      <div>\n",
              "<style scoped>\n",
              "    .dataframe tbody tr th:only-of-type {\n",
              "        vertical-align: middle;\n",
              "    }\n",
              "\n",
              "    .dataframe tbody tr th {\n",
              "        vertical-align: top;\n",
              "    }\n",
              "\n",
              "    .dataframe thead th {\n",
              "        text-align: right;\n",
              "    }\n",
              "</style>\n",
              "<table border=\"1\" class=\"dataframe\">\n",
              "  <thead>\n",
              "    <tr style=\"text-align: right;\">\n",
              "      <th></th>\n",
              "      <th>CDR3_nt</th>\n",
              "      <th>CDR3_aa</th>\n",
              "      <th>count</th>\n",
              "    </tr>\n",
              "  </thead>\n",
              "  <tbody>\n",
              "    <tr>\n",
              "      <th>0</th>\n",
              "      <td>TGTGCCAGCAGCGCCCCAGCGGGGGTCGGCGAGCAGTACTTC</td>\n",
              "      <td>CASSAPAGVGEQYF</td>\n",
              "      <td>80952</td>\n",
              "    </tr>\n",
              "    <tr>\n",
              "      <th>1</th>\n",
              "      <td>TGTGCCAGCAGCCCAAGGGCAGGGAAGGGTGAGCAGTTCTTC</td>\n",
              "      <td>CASSPRAGKGEQFF</td>\n",
              "      <td>66759</td>\n",
              "    </tr>\n",
              "    <tr>\n",
              "      <th>2</th>\n",
              "      <td>TGTGCCAGCAGTTTTTGGACACCCTACGAGCAGTACTTC</td>\n",
              "      <td>CASSFWTPYEQYF</td>\n",
              "      <td>40106</td>\n",
              "    </tr>\n",
              "    <tr>\n",
              "      <th>3</th>\n",
              "      <td>TGTGCCAGCAGCCCGCCGGGACAGCACAATGAGCAGTTCTTC</td>\n",
              "      <td>CASSPPGQHNEQFF</td>\n",
              "      <td>34136</td>\n",
              "    </tr>\n",
              "    <tr>\n",
              "      <th>4</th>\n",
              "      <td>TGTGCCAGCAGCTTGGAAGGGTACGGGACGCCGGCTGAAGCTTTCTTT</td>\n",
              "      <td>CASSLEGYGTPAEAFF</td>\n",
              "      <td>22017</td>\n",
              "    </tr>\n",
              "    <tr>\n",
              "      <th>...</th>\n",
              "      <td>...</td>\n",
              "      <td>...</td>\n",
              "      <td>...</td>\n",
              "    </tr>\n",
              "    <tr>\n",
              "      <th>182146</th>\n",
              "      <td>CGATTGCAAGAGTTCTTC</td>\n",
              "      <td>RLQEFF</td>\n",
              "      <td>2</td>\n",
              "    </tr>\n",
              "    <tr>\n",
              "      <th>182147</th>\n",
              "      <td>TGTGCCACCGGTTCTTC</td>\n",
              "      <td>CAT_FF</td>\n",
              "      <td>2</td>\n",
              "    </tr>\n",
              "    <tr>\n",
              "      <th>182148</th>\n",
              "      <td>TGCGCCAGCAGTTCTTC</td>\n",
              "      <td>CAS_FF</td>\n",
              "      <td>2</td>\n",
              "    </tr>\n",
              "    <tr>\n",
              "      <th>182149</th>\n",
              "      <td>TGTGCCAGCAGCCCAA</td>\n",
              "      <td>CAS_AQ</td>\n",
              "      <td>2</td>\n",
              "    </tr>\n",
              "    <tr>\n",
              "      <th>182150</th>\n",
              "      <td>TGCGCCAGCCTCCCTC</td>\n",
              "      <td>CAS_SL</td>\n",
              "      <td>2</td>\n",
              "    </tr>\n",
              "  </tbody>\n",
              "</table>\n",
              "<p>182151 rows × 3 columns</p>\n",
              "</div>\n",
              "      <button class=\"colab-df-convert\" onclick=\"convertToInteractive('df-7e752feb-6331-4715-b892-95618d7c759d')\"\n",
              "              title=\"Convert this dataframe to an interactive table.\"\n",
              "              style=\"display:none;\">\n",
              "        \n",
              "  <svg xmlns=\"http://www.w3.org/2000/svg\" height=\"24px\"viewBox=\"0 0 24 24\"\n",
              "       width=\"24px\">\n",
              "    <path d=\"M0 0h24v24H0V0z\" fill=\"none\"/>\n",
              "    <path d=\"M18.56 5.44l.94 2.06.94-2.06 2.06-.94-2.06-.94-.94-2.06-.94 2.06-2.06.94zm-11 1L8.5 8.5l.94-2.06 2.06-.94-2.06-.94L8.5 2.5l-.94 2.06-2.06.94zm10 10l.94 2.06.94-2.06 2.06-.94-2.06-.94-.94-2.06-.94 2.06-2.06.94z\"/><path d=\"M17.41 7.96l-1.37-1.37c-.4-.4-.92-.59-1.43-.59-.52 0-1.04.2-1.43.59L10.3 9.45l-7.72 7.72c-.78.78-.78 2.05 0 2.83L4 21.41c.39.39.9.59 1.41.59.51 0 1.02-.2 1.41-.59l7.78-7.78 2.81-2.81c.8-.78.8-2.07 0-2.86zM5.41 20L4 18.59l7.72-7.72 1.47 1.35L5.41 20z\"/>\n",
              "  </svg>\n",
              "      </button>\n",
              "      \n",
              "  <style>\n",
              "    .colab-df-container {\n",
              "      display:flex;\n",
              "      flex-wrap:wrap;\n",
              "      gap: 12px;\n",
              "    }\n",
              "\n",
              "    .colab-df-convert {\n",
              "      background-color: #E8F0FE;\n",
              "      border: none;\n",
              "      border-radius: 50%;\n",
              "      cursor: pointer;\n",
              "      display: none;\n",
              "      fill: #1967D2;\n",
              "      height: 32px;\n",
              "      padding: 0 0 0 0;\n",
              "      width: 32px;\n",
              "    }\n",
              "\n",
              "    .colab-df-convert:hover {\n",
              "      background-color: #E2EBFA;\n",
              "      box-shadow: 0px 1px 2px rgba(60, 64, 67, 0.3), 0px 1px 3px 1px rgba(60, 64, 67, 0.15);\n",
              "      fill: #174EA6;\n",
              "    }\n",
              "\n",
              "    [theme=dark] .colab-df-convert {\n",
              "      background-color: #3B4455;\n",
              "      fill: #D2E3FC;\n",
              "    }\n",
              "\n",
              "    [theme=dark] .colab-df-convert:hover {\n",
              "      background-color: #434B5C;\n",
              "      box-shadow: 0px 1px 3px 1px rgba(0, 0, 0, 0.15);\n",
              "      filter: drop-shadow(0px 1px 2px rgba(0, 0, 0, 0.3));\n",
              "      fill: #FFFFFF;\n",
              "    }\n",
              "  </style>\n",
              "\n",
              "      <script>\n",
              "        const buttonEl =\n",
              "          document.querySelector('#df-7e752feb-6331-4715-b892-95618d7c759d button.colab-df-convert');\n",
              "        buttonEl.style.display =\n",
              "          google.colab.kernel.accessAllowed ? 'block' : 'none';\n",
              "\n",
              "        async function convertToInteractive(key) {\n",
              "          const element = document.querySelector('#df-7e752feb-6331-4715-b892-95618d7c759d');\n",
              "          const dataTable =\n",
              "            await google.colab.kernel.invokeFunction('convertToInteractive',\n",
              "                                                     [key], {});\n",
              "          if (!dataTable) return;\n",
              "\n",
              "          const docLinkHtml = 'Like what you see? Visit the ' +\n",
              "            '<a target=\"_blank\" href=https://colab.research.google.com/notebooks/data_table.ipynb>data table notebook</a>'\n",
              "            + ' to learn more about interactive tables.';\n",
              "          element.innerHTML = '';\n",
              "          dataTable['output_type'] = 'display_data';\n",
              "          await google.colab.output.renderOutput(dataTable, element);\n",
              "          const docLink = document.createElement('div');\n",
              "          docLink.innerHTML = docLinkHtml;\n",
              "          element.appendChild(docLink);\n",
              "        }\n",
              "      </script>\n",
              "    </div>\n",
              "  </div>\n",
              "  "
            ]
          },
          "metadata": {},
          "execution_count": 12
        }
      ]
    },
    {
      "cell_type": "markdown",
      "source": [
        "The table has around 180k unique clonotypes.\n",
        "Each of them shows the hypervariable sequence in nucleotides and the respective translation in amino-acids.\n",
        "The counts are the number of istances that the clonotype has been found in the sample. For this analysis this value will not be used."
      ],
      "metadata": {
        "id": "xpoLgFKWM-ga"
      }
    },
    {
      "cell_type": "markdown",
      "source": [
        "### Inspecting the dataset"
      ],
      "metadata": {
        "id": "opfoZpEUZyIf"
      }
    },
    {
      "cell_type": "markdown",
      "source": [
        "Non-productive aminoacid sequences contains special characters, _ and *, which indicate the presence of gaps (due to the length of nucleotide sequence non multiple of 3) or stop codons."
      ],
      "metadata": {
        "id": "2OzeS0--aMHA"
      }
    },
    {
      "cell_type": "code",
      "source": [
        "def check_productive(row):\n",
        "  if '_' in row['CDR3_aa'] or '*' in row['CDR3_aa']:\n",
        "    row['productive'] = False\n",
        "  else:\n",
        "    row['productive'] = True\n",
        "  return row\n",
        "\n",
        "frame = frame.apply(check_productive, axis=1)"
      ],
      "metadata": {
        "id": "X4ZevtYMZ2JY"
      },
      "execution_count": 13,
      "outputs": []
    },
    {
      "cell_type": "code",
      "source": [
        "print('Productive sequences', np.sum(frame['productive']))\n",
        "print('Non productive sequences', len(frame) - np.sum(frame['productive']))"
      ],
      "metadata": {
        "colab": {
          "base_uri": "https://localhost:8080/"
        },
        "id": "vhSI1b6wbDFn",
        "outputId": "19307eb6-b1f6-4c1f-c118-3d900fbac08b"
      },
      "execution_count": 14,
      "outputs": [
        {
          "output_type": "stream",
          "name": "stdout",
          "text": [
            "Productive sequences 178288\n",
            "Non productive sequences 3863\n"
          ]
        }
      ]
    },
    {
      "cell_type": "markdown",
      "source": [
        "Plotting the clonotype count distribution in logarithmic scale"
      ],
      "metadata": {
        "id": "FPdqAB4EbVZy"
      }
    },
    {
      "cell_type": "code",
      "source": [
        "counts = frame['count'].values\n",
        "bins = np.logspace(np.log10(min(counts)), np.log10(max(counts)), 30)\n",
        "plt.xscale('log')\n",
        "plt.yscale('log')\n",
        "plt.xlabel('Nucleotide clonotype count')\n",
        "plt.ylabel('pdf')\n",
        "h = plt.hist(counts, bins=bins, density=True)\n",
        "plt.plot(bins, bins**(-2), label=r'$n^{-2}$')\n",
        "plt.legend()"
      ],
      "metadata": {
        "colab": {
          "base_uri": "https://localhost:8080/",
          "height": 471
        },
        "id": "onlrDmhgbRhX",
        "outputId": "8ded9ab9-3c0c-4522-dade-27d36e260d25"
      },
      "execution_count": 15,
      "outputs": [
        {
          "output_type": "execute_result",
          "data": {
            "text/plain": [
              "<matplotlib.legend.Legend at 0x7f594d1cb040>"
            ]
          },
          "metadata": {},
          "execution_count": 15
        },
        {
          "output_type": "display_data",
          "data": {
            "text/plain": [
              "<Figure size 640x480 with 1 Axes>"
            ],
            "image/png": "[encoded data removed]"
          },
          "metadata": {}
        }
      ]
    },
    {
      "cell_type": "markdown",
      "source": [
        "### Computing the distribution of CDR3 length"
      ],
      "metadata": {
        "id": "nE1OvkY1jWZ8"
      }
    },
    {
      "cell_type": "code",
      "source": [
        "frame['CDR3_len'] = frame['CDR3_nt'].str.len()"
      ],
      "metadata": {
        "id": "Wa9oO4b9jaLW"
      },
      "execution_count": 19,
      "outputs": []
    },
    {
      "cell_type": "code",
      "source": [
        "plt.xlabel('CDR3 length')\n",
        "plt.ylabel('counts')\n",
        "plt.yscale('log')\n",
        "h = plt.hist(frame['CDR3_len'], bins=np.arange(15,70))"
      ],
      "metadata": {
        "colab": {
          "base_uri": "https://localhost:8080/",
          "height": 449
        },
        "id": "s5YtlsADkrrE",
        "outputId": "28dc4e92-074e-45a2-e908-5bd47544bc0a"
      },
      "execution_count": 24,
      "outputs": [
        {
          "output_type": "display_data",
          "data": {
            "text/plain": [
              "<Figure size 640x480 with 1 Axes>"
            ],
            "image/png": "[encoded data removed]"
          },
          "metadata": {}
        }
      ]
    },
    {
      "cell_type": "markdown",
      "source": [
        "### Computing Pgen"
      ],
      "metadata": {
        "id": "CvKkBo7ocwNp"
      }
    },
    {
      "cell_type": "code",
      "source": [
        "seq = frame.loc[0]['CDR3_aa']\n",
        "pgen = pgen_model.compute_aa_CDR3_pgen(seq)\n",
        "print('Pgen of ' + seq + ': ' + str(pgen))"
      ],
      "metadata": {
        "colab": {
          "base_uri": "https://localhost:8080/"
        },
        "id": "vTjPmSWxNdmy",
        "outputId": "f58de315-c506-41e9-f9ea-0efdf5ee1b5b"
      },
      "execution_count": null,
      "outputs": [
        {
          "output_type": "stream",
          "name": "stdout",
          "text": [
            "Pgen of CASSAPAGVGEQYF: 7.367043287048197e-10\n"
          ]
        }
      ]
    },
    {
      "cell_type": "markdown",
      "source": [
        "Below all the generation probabilities of all the clonotypes are computed. The command is commented to avoid that the computation starts by mistake (this operation takes several hours to be completed).\n",
        "The resulting table can be imported later."
      ],
      "metadata": {
        "id": "xSZUss3EN0so"
      }
    },
    {
      "cell_type": "code",
      "source": [
        "def compute_pgen(row):\n",
        "    # Pgen is set to zero by default for all the non-productive sequences,\n",
        "    # which do not have a translation from nt to aa\n",
        "    if '_' in row['CDR3_aa'] or '*' in row['CDR3_aa']:\n",
        "        row['Pgen'] = 0\n",
        "    else:\n",
        "        row['Pgen'] = pgen_model.compute_aa_CDR3_pgen(row['CDR3_aa'])\n",
        "    return row\n",
        "\n",
        "#pgen_frame = frame.apply(compute_pgen, axis=1)"
      ],
      "metadata": {
        "id": "_yB1ABOmzA4M"
      },
      "execution_count": null,
      "outputs": []
    },
    {
      "cell_type": "code",
      "source": [
        "pgen_frame = pd.read_csv(data_folder+'sequences_pgen.tsv', sep='\\t', index_col=0)\n",
        "# The imported frame has less row than the original because non-productive sequences\n",
        "# have been eliminated\n",
        "pgen_frame"
      ],
      "metadata": {
        "id": "jT7GZKf1zKkC",
        "colab": {
          "base_uri": "https://localhost:8080/",
          "height": 424
        },
        "outputId": "5c708f01-cdf6-459a-8789-3d5a90849d75"
      },
      "execution_count": 19,
      "outputs": [
        {
          "output_type": "execute_result",
          "data": {
            "text/plain": [
              "                                                 CDR3_nt           CDR3_aa  \\\n",
              "0             TGTGCCAGCAGCGCCCCAGCGGGGGTCGGCGAGCAGTACTTC    CASSAPAGVGEQYF   \n",
              "1             TGTGCCAGCAGCCCAAGGGCAGGGAAGGGTGAGCAGTTCTTC    CASSPRAGKGEQFF   \n",
              "2                TGTGCCAGCAGTTTTTGGACACCCTACGAGCAGTACTTC     CASSFWTPYEQYF   \n",
              "3             TGTGCCAGCAGCCCGCCGGGACAGCACAATGAGCAGTTCTTC    CASSPPGQHNEQFF   \n",
              "4       TGTGCCAGCAGCTTGGAAGGGTACGGGACGCCGGCTGAAGCTTTCTTT  CASSLEGYGTPAEAFF   \n",
              "...                                                  ...               ...   \n",
              "178172     TGCGCCAGCAGCATGGGACTAGCGGGGCGAGAGACCCAGTACTTC   CASSMGLAGRETQYF   \n",
              "178173        TGCAGTGCTCGACTAGCGGGGGACCAAGAGACCCAGTACTTC    CSARLAGDQETQYF   \n",
              "178174        TGCAGTGCTCCCGGGACAGGGGCTAACTATGGCTACACCTTC    CSAPGTGANYGYTF   \n",
              "178175        TGCGCCAGCAGCTTACAGGAGCGCACAGATACGCAGTATTTT    CASSLQERTDTQYF   \n",
              "178176           TGTATGGCAGGTGGGGTAGGGATGTACGAGCAGTACGTC     CMAGGVGMYEQYV   \n",
              "\n",
              "        count          Pgen  \n",
              "0       80952  7.367043e-10  \n",
              "1       66759  3.048185e-10  \n",
              "2       40106  2.707978e-08  \n",
              "3       34136  1.126630e-08  \n",
              "4       22017  1.391587e-12  \n",
              "...       ...           ...  \n",
              "178172      2  1.170109e-08  \n",
              "178173      2  1.170152e-08  \n",
              "178174      2  1.170543e-08  \n",
              "178175      2  1.170883e-08  \n",
              "178176      2  1.088585e-22  \n",
              "\n",
              "[178177 rows x 4 columns]"
            ],
            "text/html": [
              "\n",
              "  <div id=\"df-93437d83-1db6-43a9-afdb-978132c049cf\">\n",
              "    <div class=\"colab-df-container\">\n",
              "      <div>\n",
              "<style scoped>\n",
              "    .dataframe tbody tr th:only-of-type {\n",
              "        vertical-align: middle;\n",
              "    }\n",
              "\n",
              "    .dataframe tbody tr th {\n",
              "        vertical-align: top;\n",
              "    }\n",
              "\n",
              "    .dataframe thead th {\n",
              "        text-align: right;\n",
              "    }\n",
              "</style>\n",
              "<table border=\"1\" class=\"dataframe\">\n",
              "  <thead>\n",
              "    <tr style=\"text-align: right;\">\n",
              "      <th></th>\n",
              "      <th>CDR3_nt</th>\n",
              "      <th>CDR3_aa</th>\n",
              "      <th>count</th>\n",
              "      <th>Pgen</th>\n",
              "    </tr>\n",
              "  </thead>\n",
              "  <tbody>\n",
              "    <tr>\n",
              "      <th>0</th>\n",
              "      <td>TGTGCCAGCAGCGCCCCAGCGGGGGTCGGCGAGCAGTACTTC</td>\n",
              "      <td>CASSAPAGVGEQYF</td>\n",
              "      <td>80952</td>\n",
              "      <td>7.367043e-10</td>\n",
              "    </tr>\n",
              "    <tr>\n",
              "      <th>1</th>\n",
              "      <td>TGTGCCAGCAGCCCAAGGGCAGGGAAGGGTGAGCAGTTCTTC</td>\n",
              "      <td>CASSPRAGKGEQFF</td>\n",
              "      <td>66759</td>\n",
              "      <td>3.048185e-10</td>\n",
              "    </tr>\n",
              "    <tr>\n",
              "      <th>2</th>\n",
              "      <td>TGTGCCAGCAGTTTTTGGACACCCTACGAGCAGTACTTC</td>\n",
              "      <td>CASSFWTPYEQYF</td>\n",
              "      <td>40106</td>\n",
              "      <td>2.707978e-08</td>\n",
              "    </tr>\n",
              "    <tr>\n",
              "      <th>3</th>\n",
              "      <td>TGTGCCAGCAGCCCGCCGGGACAGCACAATGAGCAGTTCTTC</td>\n",
              "      <td>CASSPPGQHNEQFF</td>\n",
              "      <td>34136</td>\n",
              "      <td>1.126630e-08</td>\n",
              "    </tr>\n",
              "    <tr>\n",
              "      <th>4</th>\n",
              "      <td>TGTGCCAGCAGCTTGGAAGGGTACGGGACGCCGGCTGAAGCTTTCTTT</td>\n",
              "      <td>CASSLEGYGTPAEAFF</td>\n",
              "      <td>22017</td>\n",
              "      <td>1.391587e-12</td>\n",
              "    </tr>\n",
              "    <tr>\n",
              "      <th>...</th>\n",
              "      <td>...</td>\n",
              "      <td>...</td>\n",
              "      <td>...</td>\n",
              "      <td>...</td>\n",
              "    </tr>\n",
              "    <tr>\n",
              "      <th>178172</th>\n",
              "      <td>TGCGCCAGCAGCATGGGACTAGCGGGGCGAGAGACCCAGTACTTC</td>\n",
              "      <td>CASSMGLAGRETQYF</td>\n",
              "      <td>2</td>\n",
              "      <td>1.170109e-08</td>\n",
              "    </tr>\n",
              "    <tr>\n",
              "      <th>178173</th>\n",
              "      <td>TGCAGTGCTCGACTAGCGGGGGACCAAGAGACCCAGTACTTC</td>\n",
              "      <td>CSARLAGDQETQYF</td>\n",
              "      <td>2</td>\n",
              "      <td>1.170152e-08</td>\n",
              "    </tr>\n",
              "    <tr>\n",
              "      <th>178174</th>\n",
              "      <td>TGCAGTGCTCCCGGGACAGGGGCTAACTATGGCTACACCTTC</td>\n",
              "      <td>CSAPGTGANYGYTF</td>\n",
              "      <td>2</td>\n",
              "      <td>1.170543e-08</td>\n",
              "    </tr>\n",
              "    <tr>\n",
              "      <th>178175</th>\n",
              "      <td>TGCGCCAGCAGCTTACAGGAGCGCACAGATACGCAGTATTTT</td>\n",
              "      <td>CASSLQERTDTQYF</td>\n",
              "      <td>2</td>\n",
              "      <td>1.170883e-08</td>\n",
              "    </tr>\n",
              "    <tr>\n",
              "      <th>178176</th>\n",
              "      <td>TGTATGGCAGGTGGGGTAGGGATGTACGAGCAGTACGTC</td>\n",
              "      <td>CMAGGVGMYEQYV</td>\n",
              "      <td>2</td>\n",
              "      <td>1.088585e-22</td>\n",
              "    </tr>\n",
              "  </tbody>\n",
              "</table>\n",
              "<p>178177 rows × 4 columns</p>\n",
              "</div>\n",
              "      <button class=\"colab-df-convert\" onclick=\"convertToInteractive('df-93437d83-1db6-43a9-afdb-978132c049cf')\"\n",
              "              title=\"Convert this dataframe to an interactive table.\"\n",
              "              style=\"display:none;\">\n",
              "        \n",
              "  <svg xmlns=\"http://www.w3.org/2000/svg\" height=\"24px\"viewBox=\"0 0 24 24\"\n",
              "       width=\"24px\">\n",
              "    <path d=\"M0 0h24v24H0V0z\" fill=\"none\"/>\n",
              "    <path d=\"M18.56 5.44l.94 2.06.94-2.06 2.06-.94-2.06-.94-.94-2.06-.94 2.06-2.06.94zm-11 1L8.5 8.5l.94-2.06 2.06-.94-2.06-.94L8.5 2.5l-.94 2.06-2.06.94zm10 10l.94 2.06.94-2.06 2.06-.94-2.06-.94-.94-2.06-.94 2.06-2.06.94z\"/><path d=\"M17.41 7.96l-1.37-1.37c-.4-.4-.92-.59-1.43-.59-.52 0-1.04.2-1.43.59L10.3 9.45l-7.72 7.72c-.78.78-.78 2.05 0 2.83L4 21.41c.39.39.9.59 1.41.59.51 0 1.02-.2 1.41-.59l7.78-7.78 2.81-2.81c.8-.78.8-2.07 0-2.86zM5.41 20L4 18.59l7.72-7.72 1.47 1.35L5.41 20z\"/>\n",
              "  </svg>\n",
              "      </button>\n",
              "      \n",
              "  <style>\n",
              "    .colab-df-container {\n",
              "      display:flex;\n",
              "      flex-wrap:wrap;\n",
              "      gap: 12px;\n",
              "    }\n",
              "\n",
              "    .colab-df-convert {\n",
              "      background-color: #E8F0FE;\n",
              "      border: none;\n",
              "      border-radius: 50%;\n",
              "      cursor: pointer;\n",
              "      display: none;\n",
              "      fill: #1967D2;\n",
              "      height: 32px;\n",
              "      padding: 0 0 0 0;\n",
              "      width: 32px;\n",
              "    }\n",
              "\n",
              "    .colab-df-convert:hover {\n",
              "      background-color: #E2EBFA;\n",
              "      box-shadow: 0px 1px 2px rgba(60, 64, 67, 0.3), 0px 1px 3px 1px rgba(60, 64, 67, 0.15);\n",
              "      fill: #174EA6;\n",
              "    }\n",
              "\n",
              "    [theme=dark] .colab-df-convert {\n",
              "      background-color: #3B4455;\n",
              "      fill: #D2E3FC;\n",
              "    }\n",
              "\n",
              "    [theme=dark] .colab-df-convert:hover {\n",
              "      background-color: #434B5C;\n",
              "      box-shadow: 0px 1px 3px 1px rgba(0, 0, 0, 0.15);\n",
              "      filter: drop-shadow(0px 1px 2px rgba(0, 0, 0, 0.3));\n",
              "      fill: #FFFFFF;\n",
              "    }\n",
              "  </style>\n",
              "\n",
              "      <script>\n",
              "        const buttonEl =\n",
              "          document.querySelector('#df-93437d83-1db6-43a9-afdb-978132c049cf button.colab-df-convert');\n",
              "        buttonEl.style.display =\n",
              "          google.colab.kernel.accessAllowed ? 'block' : 'none';\n",
              "\n",
              "        async function convertToInteractive(key) {\n",
              "          const element = document.querySelector('#df-93437d83-1db6-43a9-afdb-978132c049cf');\n",
              "          const dataTable =\n",
              "            await google.colab.kernel.invokeFunction('convertToInteractive',\n",
              "                                                     [key], {});\n",
              "          if (!dataTable) return;\n",
              "\n",
              "          const docLinkHtml = 'Like what you see? Visit the ' +\n",
              "            '<a target=\"_blank\" href=https://colab.research.google.com/notebooks/data_table.ipynb>data table notebook</a>'\n",
              "            + ' to learn more about interactive tables.';\n",
              "          element.innerHTML = '';\n",
              "          dataTable['output_type'] = 'display_data';\n",
              "          await google.colab.output.renderOutput(dataTable, element);\n",
              "          const docLink = document.createElement('div');\n",
              "          docLink.innerHTML = docLinkHtml;\n",
              "          element.appendChild(docLink);\n",
              "        }\n",
              "      </script>\n",
              "    </div>\n",
              "  </div>\n",
              "  "
            ]
          },
          "metadata": {},
          "execution_count": 19
        }
      ]
    },
    {
      "cell_type": "markdown",
      "source": [
        "Below we lot the distribution of Pgens across the dataset, showing the huge variablity of these numbers"
      ],
      "metadata": {
        "id": "ay4tYtywPMu1"
      }
    },
    {
      "cell_type": "code",
      "source": [
        "pgens = np.log(pgen_frame['Pgen'].values)\n",
        "bins = np.linspace(min(pgens), max(pgens), 100)\n",
        "plt.xlim(-50, -10)\n",
        "plt.xlabel('Log Pgen')\n",
        "plt.ylabel('pdf')\n",
        "h = plt.hist(pgens, bins=bins, density=True)\n",
        "\n",
        "plt.savefig('pgen_dist.png', dpi=200)"
      ],
      "metadata": {
        "colab": {
          "base_uri": "https://localhost:8080/",
          "height": 449
        },
        "id": "HUvI-GG_QGmo",
        "outputId": "1dbb2be7-d7fb-4ad1-c879-c59f09c85c82"
      },
      "execution_count": 20,
      "outputs": [
        {
          "output_type": "display_data",
          "data": {
            "text/plain": [
              "<Figure size 640x480 with 1 Axes>"
            ],
            "image/png": "[encoded data removed]"
          },
          "metadata": {}
        }
      ]
    },
    {
      "cell_type": "markdown",
      "source": [
        "### Computing the number of neighbours\n",
        "\n",
        "A neighbour is a sequence of the same length that has one amino-acid of difference.\n",
        "To identify the neighbours in this huge dataset we ues a tool that performs the hamming distance calculation in a smart and fast way: https://github.com/statbiophys/ATrieGC"
      ],
      "metadata": {
        "id": "oOxexK0gSd5T"
      }
    },
    {
      "cell_type": "code",
      "source": [
        "!pip install atriegc"
      ],
      "metadata": {
        "colab": {
          "base_uri": "https://localhost:8080/"
        },
        "id": "Q92ddcy0SVZC",
        "outputId": "47038773-e250-4e9c-9eb9-4043b714e037"
      },
      "execution_count": 21,
      "outputs": [
        {
          "output_type": "stream",
          "name": "stdout",
          "text": [
            "Looking in indexes: https://pypi.org/simple, https://us-python.pkg.dev/colab-wheels/public/simple/\n",
            "Collecting atriegc\n",
            "  Downloading atriegc-0.0.3.tar.gz (19 kB)\n",
            "  Preparing metadata (setup.py) ... \u001b[?25l\u001b[?25hdone\n",
            "Building wheels for collected packages: atriegc\n",
            "  Building wheel for atriegc (setup.py) ... \u001b[?25l\u001b[?25hdone\n",
            "  Created wheel for atriegc: filename=atriegc-0.0.3-cp310-cp310-linux_x86_64.whl size=1368252 sha256=e7d73baa08c6bbd9f69e13d8474abedee9221794587c9737785ef0904ed9062a\n",
            "  Stored in directory: /root/.cache/pip/wheels/7d/09/7e/5d3f2397e7b4c53204a14241e0b78b806e0d96e7fe5774cae5\n",
            "Successfully built atriegc\n",
            "Installing collected packages: atriegc\n",
            "Successfully installed atriegc-0.0.3\n"
          ]
        }
      ]
    },
    {
      "cell_type": "code",
      "source": [
        "import atriegc\n",
        "\n",
        "# A Trie object is created\n",
        "trie = atriegc.TrieAA()\n",
        "# All the amino-acid sequences are loaded\n",
        "trie.insert_list(pgen_frame['CDR3_aa'])\n",
        "\n",
        "def compute_n_neigh(row):\n",
        "  # The function neighbours finds all the sequences of a given hamming distance\n",
        "  # in the dataset. Here the distance is chosen to be 1\n",
        "  row['n_neigh'] = len(trie.neighbours(row['CDR3_aa'], 1))\n",
        "  return row"
      ],
      "metadata": {
        "id": "DXjwMfXXTKHe"
      },
      "execution_count": 22,
      "outputs": []
    },
    {
      "cell_type": "code",
      "source": [
        "# This takes a few minutes to run\n",
        "pgen_frame = pgen_frame.apply(compute_n_neigh, axis=1)\n",
        "pgen_frame"
      ],
      "metadata": {
        "colab": {
          "base_uri": "https://localhost:8080/",
          "height": 424
        },
        "id": "399lUXDmTSwY",
        "outputId": "1d2a909d-f374-4fe5-9672-fb23dd2c9c30"
      },
      "execution_count": 23,
      "outputs": [
        {
          "output_type": "execute_result",
          "data": {
            "text/plain": [
              "                                                 CDR3_nt           CDR3_aa  \\\n",
              "0             TGTGCCAGCAGCGCCCCAGCGGGGGTCGGCGAGCAGTACTTC    CASSAPAGVGEQYF   \n",
              "1             TGTGCCAGCAGCCCAAGGGCAGGGAAGGGTGAGCAGTTCTTC    CASSPRAGKGEQFF   \n",
              "2                TGTGCCAGCAGTTTTTGGACACCCTACGAGCAGTACTTC     CASSFWTPYEQYF   \n",
              "3             TGTGCCAGCAGCCCGCCGGGACAGCACAATGAGCAGTTCTTC    CASSPPGQHNEQFF   \n",
              "4       TGTGCCAGCAGCTTGGAAGGGTACGGGACGCCGGCTGAAGCTTTCTTT  CASSLEGYGTPAEAFF   \n",
              "...                                                  ...               ...   \n",
              "178172     TGCGCCAGCAGCATGGGACTAGCGGGGCGAGAGACCCAGTACTTC   CASSMGLAGRETQYF   \n",
              "178173        TGCAGTGCTCGACTAGCGGGGGACCAAGAGACCCAGTACTTC    CSARLAGDQETQYF   \n",
              "178174        TGCAGTGCTCCCGGGACAGGGGCTAACTATGGCTACACCTTC    CSAPGTGANYGYTF   \n",
              "178175        TGCGCCAGCAGCTTACAGGAGCGCACAGATACGCAGTATTTT    CASSLQERTDTQYF   \n",
              "178176           TGTATGGCAGGTGGGGTAGGGATGTACGAGCAGTACGTC     CMAGGVGMYEQYV   \n",
              "\n",
              "        count          Pgen  n_neigh  \n",
              "0       80952  7.367043e-10        2  \n",
              "1       66759  3.048185e-10        1  \n",
              "2       40106  2.707978e-08        3  \n",
              "3       34136  1.126630e-08        2  \n",
              "4       22017  1.391587e-12        1  \n",
              "...       ...           ...      ...  \n",
              "178172      2  1.170109e-08        6  \n",
              "178173      2  1.170152e-08        3  \n",
              "178174      2  1.170543e-08        1  \n",
              "178175      2  1.170883e-08        1  \n",
              "178176      2  1.088585e-22        1  \n",
              "\n",
              "[178177 rows x 5 columns]"
            ],
            "text/html": [
              "\n",
              "  <div id=\"df-d01a7583-cd11-4c7e-9cf9-61fcb597daab\">\n",
              "    <div class=\"colab-df-container\">\n",
              "      <div>\n",
              "<style scoped>\n",
              "    .dataframe tbody tr th:only-of-type {\n",
              "        vertical-align: middle;\n",
              "    }\n",
              "\n",
              "    .dataframe tbody tr th {\n",
              "        vertical-align: top;\n",
              "    }\n",
              "\n",
              "    .dataframe thead th {\n",
              "        text-align: right;\n",
              "    }\n",
              "</style>\n",
              "<table border=\"1\" class=\"dataframe\">\n",
              "  <thead>\n",
              "    <tr style=\"text-align: right;\">\n",
              "      <th></th>\n",
              "      <th>CDR3_nt</th>\n",
              "      <th>CDR3_aa</th>\n",
              "      <th>count</th>\n",
              "      <th>Pgen</th>\n",
              "      <th>n_neigh</th>\n",
              "    </tr>\n",
              "  </thead>\n",
              "  <tbody>\n",
              "    <tr>\n",
              "      <th>0</th>\n",
              "      <td>TGTGCCAGCAGCGCCCCAGCGGGGGTCGGCGAGCAGTACTTC</td>\n",
              "      <td>CASSAPAGVGEQYF</td>\n",
              "      <td>80952</td>\n",
              "      <td>7.367043e-10</td>\n",
              "      <td>2</td>\n",
              "    </tr>\n",
              "    <tr>\n",
              "      <th>1</th>\n",
              "      <td>TGTGCCAGCAGCCCAAGGGCAGGGAAGGGTGAGCAGTTCTTC</td>\n",
              "      <td>CASSPRAGKGEQFF</td>\n",
              "      <td>66759</td>\n",
              "      <td>3.048185e-10</td>\n",
              "      <td>1</td>\n",
              "    </tr>\n",
              "    <tr>\n",
              "      <th>2</th>\n",
              "      <td>TGTGCCAGCAGTTTTTGGACACCCTACGAGCAGTACTTC</td>\n",
              "      <td>CASSFWTPYEQYF</td>\n",
              "      <td>40106</td>\n",
              "      <td>2.707978e-08</td>\n",
              "      <td>3</td>\n",
              "    </tr>\n",
              "    <tr>\n",
              "      <th>3</th>\n",
              "      <td>TGTGCCAGCAGCCCGCCGGGACAGCACAATGAGCAGTTCTTC</td>\n",
              "      <td>CASSPPGQHNEQFF</td>\n",
              "      <td>34136</td>\n",
              "      <td>1.126630e-08</td>\n",
              "      <td>2</td>\n",
              "    </tr>\n",
              "    <tr>\n",
              "      <th>4</th>\n",
              "      <td>TGTGCCAGCAGCTTGGAAGGGTACGGGACGCCGGCTGAAGCTTTCTTT</td>\n",
              "      <td>CASSLEGYGTPAEAFF</td>\n",
              "      <td>22017</td>\n",
              "      <td>1.391587e-12</td>\n",
              "      <td>1</td>\n",
              "    </tr>\n",
              "    <tr>\n",
              "      <th>...</th>\n",
              "      <td>...</td>\n",
              "      <td>...</td>\n",
              "      <td>...</td>\n",
              "      <td>...</td>\n",
              "      <td>...</td>\n",
              "    </tr>\n",
              "    <tr>\n",
              "      <th>178172</th>\n",
              "      <td>TGCGCCAGCAGCATGGGACTAGCGGGGCGAGAGACCCAGTACTTC</td>\n",
              "      <td>CASSMGLAGRETQYF</td>\n",
              "      <td>2</td>\n",
              "      <td>1.170109e-08</td>\n",
              "      <td>6</td>\n",
              "    </tr>\n",
              "    <tr>\n",
              "      <th>178173</th>\n",
              "      <td>TGCAGTGCTCGACTAGCGGGGGACCAAGAGACCCAGTACTTC</td>\n",
              "      <td>CSARLAGDQETQYF</td>\n",
              "      <td>2</td>\n",
              "      <td>1.170152e-08</td>\n",
              "      <td>3</td>\n",
              "    </tr>\n",
              "    <tr>\n",
              "      <th>178174</th>\n",
              "      <td>TGCAGTGCTCCCGGGACAGGGGCTAACTATGGCTACACCTTC</td>\n",
              "      <td>CSAPGTGANYGYTF</td>\n",
              "      <td>2</td>\n",
              "      <td>1.170543e-08</td>\n",
              "      <td>1</td>\n",
              "    </tr>\n",
              "    <tr>\n",
              "      <th>178175</th>\n",
              "      <td>TGCGCCAGCAGCTTACAGGAGCGCACAGATACGCAGTATTTT</td>\n",
              "      <td>CASSLQERTDTQYF</td>\n",
              "      <td>2</td>\n",
              "      <td>1.170883e-08</td>\n",
              "      <td>1</td>\n",
              "    </tr>\n",
              "    <tr>\n",
              "      <th>178176</th>\n",
              "      <td>TGTATGGCAGGTGGGGTAGGGATGTACGAGCAGTACGTC</td>\n",
              "      <td>CMAGGVGMYEQYV</td>\n",
              "      <td>2</td>\n",
              "      <td>1.088585e-22</td>\n",
              "      <td>1</td>\n",
              "    </tr>\n",
              "  </tbody>\n",
              "</table>\n",
              "<p>178177 rows × 5 columns</p>\n",
              "</div>\n",
              "      <button class=\"colab-df-convert\" onclick=\"convertToInteractive('df-d01a7583-cd11-4c7e-9cf9-61fcb597daab')\"\n",
              "              title=\"Convert this dataframe to an interactive table.\"\n",
              "              style=\"display:none;\">\n",
              "        \n",
              "  <svg xmlns=\"http://www.w3.org/2000/svg\" height=\"24px\"viewBox=\"0 0 24 24\"\n",
              "       width=\"24px\">\n",
              "    <path d=\"M0 0h24v24H0V0z\" fill=\"none\"/>\n",
              "    <path d=\"M18.56 5.44l.94 2.06.94-2.06 2.06-.94-2.06-.94-.94-2.06-.94 2.06-2.06.94zm-11 1L8.5 8.5l.94-2.06 2.06-.94-2.06-.94L8.5 2.5l-.94 2.06-2.06.94zm10 10l.94 2.06.94-2.06 2.06-.94-2.06-.94-.94-2.06-.94 2.06-2.06.94z\"/><path d=\"M17.41 7.96l-1.37-1.37c-.4-.4-.92-.59-1.43-.59-.52 0-1.04.2-1.43.59L10.3 9.45l-7.72 7.72c-.78.78-.78 2.05 0 2.83L4 21.41c.39.39.9.59 1.41.59.51 0 1.02-.2 1.41-.59l7.78-7.78 2.81-2.81c.8-.78.8-2.07 0-2.86zM5.41 20L4 18.59l7.72-7.72 1.47 1.35L5.41 20z\"/>\n",
              "  </svg>\n",
              "      </button>\n",
              "      \n",
              "  <style>\n",
              "    .colab-df-container {\n",
              "      display:flex;\n",
              "      flex-wrap:wrap;\n",
              "      gap: 12px;\n",
              "    }\n",
              "\n",
              "    .colab-df-convert {\n",
              "      background-color: #E8F0FE;\n",
              "      border: none;\n",
              "      border-radius: 50%;\n",
              "      cursor: pointer;\n",
              "      display: none;\n",
              "      fill: #1967D2;\n",
              "      height: 32px;\n",
              "      padding: 0 0 0 0;\n",
              "      width: 32px;\n",
              "    }\n",
              "\n",
              "    .colab-df-convert:hover {\n",
              "      background-color: #E2EBFA;\n",
              "      box-shadow: 0px 1px 2px rgba(60, 64, 67, 0.3), 0px 1px 3px 1px rgba(60, 64, 67, 0.15);\n",
              "      fill: #174EA6;\n",
              "    }\n",
              "\n",
              "    [theme=dark] .colab-df-convert {\n",
              "      background-color: #3B4455;\n",
              "      fill: #D2E3FC;\n",
              "    }\n",
              "\n",
              "    [theme=dark] .colab-df-convert:hover {\n",
              "      background-color: #434B5C;\n",
              "      box-shadow: 0px 1px 3px 1px rgba(0, 0, 0, 0.15);\n",
              "      filter: drop-shadow(0px 1px 2px rgba(0, 0, 0, 0.3));\n",
              "      fill: #FFFFFF;\n",
              "    }\n",
              "  </style>\n",
              "\n",
              "      <script>\n",
              "        const buttonEl =\n",
              "          document.querySelector('#df-d01a7583-cd11-4c7e-9cf9-61fcb597daab button.colab-df-convert');\n",
              "        buttonEl.style.display =\n",
              "          google.colab.kernel.accessAllowed ? 'block' : 'none';\n",
              "\n",
              "        async function convertToInteractive(key) {\n",
              "          const element = document.querySelector('#df-d01a7583-cd11-4c7e-9cf9-61fcb597daab');\n",
              "          const dataTable =\n",
              "            await google.colab.kernel.invokeFunction('convertToInteractive',\n",
              "                                                     [key], {});\n",
              "          if (!dataTable) return;\n",
              "\n",
              "          const docLinkHtml = 'Like what you see? Visit the ' +\n",
              "            '<a target=\"_blank\" href=https://colab.research.google.com/notebooks/data_table.ipynb>data table notebook</a>'\n",
              "            + ' to learn more about interactive tables.';\n",
              "          element.innerHTML = '';\n",
              "          dataTable['output_type'] = 'display_data';\n",
              "          await google.colab.output.renderOutput(dataTable, element);\n",
              "          const docLink = document.createElement('div');\n",
              "          docLink.innerHTML = docLinkHtml;\n",
              "          element.appendChild(docLink);\n",
              "        }\n",
              "      </script>\n",
              "    </div>\n",
              "  </div>\n",
              "  "
            ]
          },
          "metadata": {},
          "execution_count": 23
        }
      ]
    },
    {
      "cell_type": "code",
      "source": [
        "counts = pgen_frame['n_neigh']\n",
        "bins = np.logspace(np.log10(min(counts)), np.log10(max(counts)), 15)\n",
        "plt.xscale('log')\n",
        "plt.yscale('log')\n",
        "plt.xlabel('N. of neighbours')\n",
        "plt.ylabel('pdf')\n",
        "h = plt.hist(counts, bins=bins, density=True)\n",
        "#plt.plot(bins, bins**(-2), label=r'$n^{-2}$')\n",
        "plt.legend()"
      ],
      "metadata": {
        "colab": {
          "base_uri": "https://localhost:8080/",
          "height": 489
        },
        "id": "8mLI-UcEUr-Y",
        "outputId": "3f53ca52-7bc5-4f00-cbd7-cf01949dc28a"
      },
      "execution_count": 27,
      "outputs": [
        {
          "output_type": "stream",
          "name": "stderr",
          "text": [
            "WARNING:matplotlib.legend:No artists with labels found to put in legend.  Note that artists whose label start with an underscore are ignored when legend() is called with no argument.\n"
          ]
        },
        {
          "output_type": "execute_result",
          "data": {
            "text/plain": [
              "<matplotlib.legend.Legend at 0x7f2f7c103be0>"
            ]
          },
          "metadata": {},
          "execution_count": 27
        },
        {
          "output_type": "display_data",
          "data": {
            "text/plain": [
              "<Figure size 640x480 with 1 Axes>"
            ],
            "image/png": "[encoded data removed]"
          },
          "metadata": {}
        }
      ]
    },
    {
      "cell_type": "markdown",
      "source": [
        "### Computing Pgen for all the neighbours of every sequence "
      ],
      "metadata": {
        "id": "bLmXGDT_UEZs"
      }
    },
    {
      "cell_type": "markdown",
      "source": [
        "The next step computes the summation of Pgen of every neighbours of each sequence in the dataset.\n",
        "This consumes a lot of computational resources and to speed up the process we compute this number only for the sequences with a number of neighbours larger than 2 (below it is very unlikely that they will be enriched)"
      ],
      "metadata": {
        "id": "_MlkD9zBUQiG"
      }
    },
    {
      "cell_type": "code",
      "source": [
        "aa_alphabet = 'RHKDESTNQCGPAVILMFYW'\n",
        "\n",
        "def compute_l(row):\n",
        "    \n",
        "    # Avoiding the computation for N neighbours smaller than 2\n",
        "    if row['n_neigh'] <= 2:\n",
        "        row['Pgen_neigh'] = 0\n",
        "        return row\n",
        "    \n",
        "    ref = row['CDR3_aa']\n",
        "    sum_pgen = 0\n",
        "    # Iteration over all the letters in the sequence\n",
        "    for i in range(len(ref)):\n",
        "\n",
        "      # Iteration over all the possible aminoacid\n",
        "        for new_aa in aa_alphabet:\n",
        "\n",
        "            # From string to list\n",
        "            neigh = list(ref)\n",
        "\n",
        "            # Skipping the same letter of the sequence\n",
        "            if new_aa == neigh[i]:\n",
        "              continue\n",
        "\n",
        "            # Changing the letter and re-casting to a string\n",
        "            neigh[i] = new_aa\n",
        "            neigh = \"\".join(neigh)\n",
        "            \n",
        "            sum_pgen += pgen_model.compute_aa_CDR3_pgen(neigh)\n",
        "\n",
        "    row['Pgen_neigh'] = sum_pgen\n",
        "    \n",
        "    return row"
      ],
      "metadata": {
        "id": "Y3eOi0oWUE_-"
      },
      "execution_count": null,
      "outputs": []
    },
    {
      "cell_type": "code",
      "source": [
        "# Again the actual computation is commented\n",
        "#pgen_frame = pgen_frame.apply(compute_l, axis=1)"
      ],
      "metadata": {
        "id": "ojSjx39nV2Ug"
      },
      "execution_count": null,
      "outputs": []
    },
    {
      "cell_type": "markdown",
      "source": [
        "The result can be loaded"
      ],
      "metadata": {
        "id": "blJqdJY_W0ux"
      }
    },
    {
      "cell_type": "code",
      "source": [
        "pgen_frame = pd.read_csv(data_folder+'sequences_pgen_neigh.tsv', sep='\\t', index_col=0)\n",
        "pgen_frame"
      ],
      "metadata": {
        "colab": {
          "base_uri": "https://localhost:8080/",
          "height": 424
        },
        "id": "XFOrenJSWLtW",
        "outputId": "fbb6fb39-8b2f-4aea-e4db-24797aeb06ee"
      },
      "execution_count": 28,
      "outputs": [
        {
          "output_type": "execute_result",
          "data": {
            "text/plain": [
              "                                                 CDR3_nt           CDR3_aa  \\\n",
              "0             TGTGCCAGCAGCGCCCCAGCGGGGGTCGGCGAGCAGTACTTC    CASSAPAGVGEQYF   \n",
              "1             TGTGCCAGCAGCCCAAGGGCAGGGAAGGGTGAGCAGTTCTTC    CASSPRAGKGEQFF   \n",
              "2                TGTGCCAGCAGTTTTTGGACACCCTACGAGCAGTACTTC     CASSFWTPYEQYF   \n",
              "3             TGTGCCAGCAGCCCGCCGGGACAGCACAATGAGCAGTTCTTC    CASSPPGQHNEQFF   \n",
              "4       TGTGCCAGCAGCTTGGAAGGGTACGGGACGCCGGCTGAAGCTTTCTTT  CASSLEGYGTPAEAFF   \n",
              "...                                                  ...               ...   \n",
              "178172     TGCGCCAGCAGCATGGGACTAGCGGGGCGAGAGACCCAGTACTTC   CASSMGLAGRETQYF   \n",
              "178173        TGCAGTGCTCGACTAGCGGGGGACCAAGAGACCCAGTACTTC    CSARLAGDQETQYF   \n",
              "178174        TGCAGTGCTCCCGGGACAGGGGCTAACTATGGCTACACCTTC    CSAPGTGANYGYTF   \n",
              "178175        TGCGCCAGCAGCTTACAGGAGCGCACAGATACGCAGTATTTT    CASSLQERTDTQYF   \n",
              "178176           TGTATGGCAGGTGGGGTAGGGATGTACGAGCAGTACGTC     CMAGGVGMYEQYV   \n",
              "\n",
              "                Pgen  n_neigh    Pgen_neigh  \n",
              "0       7.367043e-10        2  0.000000e+00  \n",
              "1       3.048185e-10        1  0.000000e+00  \n",
              "2       2.707978e-08        3  1.909027e-06  \n",
              "3       1.126630e-08        2  0.000000e+00  \n",
              "4       1.391587e-12        1  0.000000e+00  \n",
              "...              ...      ...           ...  \n",
              "178172  1.170109e-08        6  1.087258e-06  \n",
              "178173  1.170152e-08        3  4.471216e-07  \n",
              "178174  1.170543e-08        1  0.000000e+00  \n",
              "178175  1.170883e-08        1  0.000000e+00  \n",
              "178176  1.088585e-22        1  0.000000e+00  \n",
              "\n",
              "[178177 rows x 5 columns]"
            ],
            "text/html": [
              "\n",
              "  <div id=\"df-bf4ac3be-77b7-4b1e-8759-a190fcb6744d\">\n",
              "    <div class=\"colab-df-container\">\n",
              "      <div>\n",
              "<style scoped>\n",
              "    .dataframe tbody tr th:only-of-type {\n",
              "        vertical-align: middle;\n",
              "    }\n",
              "\n",
              "    .dataframe tbody tr th {\n",
              "        vertical-align: top;\n",
              "    }\n",
              "\n",
              "    .dataframe thead th {\n",
              "        text-align: right;\n",
              "    }\n",
              "</style>\n",
              "<table border=\"1\" class=\"dataframe\">\n",
              "  <thead>\n",
              "    <tr style=\"text-align: right;\">\n",
              "      <th></th>\n",
              "      <th>CDR3_nt</th>\n",
              "      <th>CDR3_aa</th>\n",
              "      <th>Pgen</th>\n",
              "      <th>n_neigh</th>\n",
              "      <th>Pgen_neigh</th>\n",
              "    </tr>\n",
              "  </thead>\n",
              "  <tbody>\n",
              "    <tr>\n",
              "      <th>0</th>\n",
              "      <td>TGTGCCAGCAGCGCCCCAGCGGGGGTCGGCGAGCAGTACTTC</td>\n",
              "      <td>CASSAPAGVGEQYF</td>\n",
              "      <td>7.367043e-10</td>\n",
              "      <td>2</td>\n",
              "      <td>0.000000e+00</td>\n",
              "    </tr>\n",
              "    <tr>\n",
              "      <th>1</th>\n",
              "      <td>TGTGCCAGCAGCCCAAGGGCAGGGAAGGGTGAGCAGTTCTTC</td>\n",
              "      <td>CASSPRAGKGEQFF</td>\n",
              "      <td>3.048185e-10</td>\n",
              "      <td>1</td>\n",
              "      <td>0.000000e+00</td>\n",
              "    </tr>\n",
              "    <tr>\n",
              "      <th>2</th>\n",
              "      <td>TGTGCCAGCAGTTTTTGGACACCCTACGAGCAGTACTTC</td>\n",
              "      <td>CASSFWTPYEQYF</td>\n",
              "      <td>2.707978e-08</td>\n",
              "      <td>3</td>\n",
              "      <td>1.909027e-06</td>\n",
              "    </tr>\n",
              "    <tr>\n",
              "      <th>3</th>\n",
              "      <td>TGTGCCAGCAGCCCGCCGGGACAGCACAATGAGCAGTTCTTC</td>\n",
              "      <td>CASSPPGQHNEQFF</td>\n",
              "      <td>1.126630e-08</td>\n",
              "      <td>2</td>\n",
              "      <td>0.000000e+00</td>\n",
              "    </tr>\n",
              "    <tr>\n",
              "      <th>4</th>\n",
              "      <td>TGTGCCAGCAGCTTGGAAGGGTACGGGACGCCGGCTGAAGCTTTCTTT</td>\n",
              "      <td>CASSLEGYGTPAEAFF</td>\n",
              "      <td>1.391587e-12</td>\n",
              "      <td>1</td>\n",
              "      <td>0.000000e+00</td>\n",
              "    </tr>\n",
              "    <tr>\n",
              "      <th>...</th>\n",
              "      <td>...</td>\n",
              "      <td>...</td>\n",
              "      <td>...</td>\n",
              "      <td>...</td>\n",
              "      <td>...</td>\n",
              "    </tr>\n",
              "    <tr>\n",
              "      <th>178172</th>\n",
              "      <td>TGCGCCAGCAGCATGGGACTAGCGGGGCGAGAGACCCAGTACTTC</td>\n",
              "      <td>CASSMGLAGRETQYF</td>\n",
              "      <td>1.170109e-08</td>\n",
              "      <td>6</td>\n",
              "      <td>1.087258e-06</td>\n",
              "    </tr>\n",
              "    <tr>\n",
              "      <th>178173</th>\n",
              "      <td>TGCAGTGCTCGACTAGCGGGGGACCAAGAGACCCAGTACTTC</td>\n",
              "      <td>CSARLAGDQETQYF</td>\n",
              "      <td>1.170152e-08</td>\n",
              "      <td>3</td>\n",
              "      <td>4.471216e-07</td>\n",
              "    </tr>\n",
              "    <tr>\n",
              "      <th>178174</th>\n",
              "      <td>TGCAGTGCTCCCGGGACAGGGGCTAACTATGGCTACACCTTC</td>\n",
              "      <td>CSAPGTGANYGYTF</td>\n",
              "      <td>1.170543e-08</td>\n",
              "      <td>1</td>\n",
              "      <td>0.000000e+00</td>\n",
              "    </tr>\n",
              "    <tr>\n",
              "      <th>178175</th>\n",
              "      <td>TGCGCCAGCAGCTTACAGGAGCGCACAGATACGCAGTATTTT</td>\n",
              "      <td>CASSLQERTDTQYF</td>\n",
              "      <td>1.170883e-08</td>\n",
              "      <td>1</td>\n",
              "      <td>0.000000e+00</td>\n",
              "    </tr>\n",
              "    <tr>\n",
              "      <th>178176</th>\n",
              "      <td>TGTATGGCAGGTGGGGTAGGGATGTACGAGCAGTACGTC</td>\n",
              "      <td>CMAGGVGMYEQYV</td>\n",
              "      <td>1.088585e-22</td>\n",
              "      <td>1</td>\n",
              "      <td>0.000000e+00</td>\n",
              "    </tr>\n",
              "  </tbody>\n",
              "</table>\n",
              "<p>178177 rows × 5 columns</p>\n",
              "</div>\n",
              "      <button class=\"colab-df-convert\" onclick=\"convertToInteractive('df-bf4ac3be-77b7-4b1e-8759-a190fcb6744d')\"\n",
              "              title=\"Convert this dataframe to an interactive table.\"\n",
              "              style=\"display:none;\">\n",
              "        \n",
              "  <svg xmlns=\"http://www.w3.org/2000/svg\" height=\"24px\"viewBox=\"0 0 24 24\"\n",
              "       width=\"24px\">\n",
              "    <path d=\"M0 0h24v24H0V0z\" fill=\"none\"/>\n",
              "    <path d=\"M18.56 5.44l.94 2.06.94-2.06 2.06-.94-2.06-.94-.94-2.06-.94 2.06-2.06.94zm-11 1L8.5 8.5l.94-2.06 2.06-.94-2.06-.94L8.5 2.5l-.94 2.06-2.06.94zm10 10l.94 2.06.94-2.06 2.06-.94-2.06-.94-.94-2.06-.94 2.06-2.06.94z\"/><path d=\"M17.41 7.96l-1.37-1.37c-.4-.4-.92-.59-1.43-.59-.52 0-1.04.2-1.43.59L10.3 9.45l-7.72 7.72c-.78.78-.78 2.05 0 2.83L4 21.41c.39.39.9.59 1.41.59.51 0 1.02-.2 1.41-.59l7.78-7.78 2.81-2.81c.8-.78.8-2.07 0-2.86zM5.41 20L4 18.59l7.72-7.72 1.47 1.35L5.41 20z\"/>\n",
              "  </svg>\n",
              "      </button>\n",
              "      \n",
              "  <style>\n",
              "    .colab-df-container {\n",
              "      display:flex;\n",
              "      flex-wrap:wrap;\n",
              "      gap: 12px;\n",
              "    }\n",
              "\n",
              "    .colab-df-convert {\n",
              "      background-color: #E8F0FE;\n",
              "      border: none;\n",
              "      border-radius: 50%;\n",
              "      cursor: pointer;\n",
              "      display: none;\n",
              "      fill: #1967D2;\n",
              "      height: 32px;\n",
              "      padding: 0 0 0 0;\n",
              "      width: 32px;\n",
              "    }\n",
              "\n",
              "    .colab-df-convert:hover {\n",
              "      background-color: #E2EBFA;\n",
              "      box-shadow: 0px 1px 2px rgba(60, 64, 67, 0.3), 0px 1px 3px 1px rgba(60, 64, 67, 0.15);\n",
              "      fill: #174EA6;\n",
              "    }\n",
              "\n",
              "    [theme=dark] .colab-df-convert {\n",
              "      background-color: #3B4455;\n",
              "      fill: #D2E3FC;\n",
              "    }\n",
              "\n",
              "    [theme=dark] .colab-df-convert:hover {\n",
              "      background-color: #434B5C;\n",
              "      box-shadow: 0px 1px 3px 1px rgba(0, 0, 0, 0.15);\n",
              "      filter: drop-shadow(0px 1px 2px rgba(0, 0, 0, 0.3));\n",
              "      fill: #FFFFFF;\n",
              "    }\n",
              "  </style>\n",
              "\n",
              "      <script>\n",
              "        const buttonEl =\n",
              "          document.querySelector('#df-bf4ac3be-77b7-4b1e-8759-a190fcb6744d button.colab-df-convert');\n",
              "        buttonEl.style.display =\n",
              "          google.colab.kernel.accessAllowed ? 'block' : 'none';\n",
              "\n",
              "        async function convertToInteractive(key) {\n",
              "          const element = document.querySelector('#df-bf4ac3be-77b7-4b1e-8759-a190fcb6744d');\n",
              "          const dataTable =\n",
              "            await google.colab.kernel.invokeFunction('convertToInteractive',\n",
              "                                                     [key], {});\n",
              "          if (!dataTable) return;\n",
              "\n",
              "          const docLinkHtml = 'Like what you see? Visit the ' +\n",
              "            '<a target=\"_blank\" href=https://colab.research.google.com/notebooks/data_table.ipynb>data table notebook</a>'\n",
              "            + ' to learn more about interactive tables.';\n",
              "          element.innerHTML = '';\n",
              "          dataTable['output_type'] = 'display_data';\n",
              "          await google.colab.output.renderOutput(dataTable, element);\n",
              "          const docLink = document.createElement('div');\n",
              "          docLink.innerHTML = docLinkHtml;\n",
              "          element.appendChild(docLink);\n",
              "        }\n",
              "      </script>\n",
              "    </div>\n",
              "  </div>\n",
              "  "
            ]
          },
          "metadata": {},
          "execution_count": 28
        }
      ]
    },
    {
      "cell_type": "code",
      "source": [],
      "metadata": {
        "id": "IAw0gv6jWO1X"
      },
      "execution_count": null,
      "outputs": []
    }
  ]
}